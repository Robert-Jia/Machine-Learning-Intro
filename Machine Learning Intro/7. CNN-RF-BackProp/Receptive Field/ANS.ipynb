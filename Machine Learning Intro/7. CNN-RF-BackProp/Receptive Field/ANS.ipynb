{
  "metadata": {
    "kernelspec": {
      "name": "python3",
      "display_name": "Python 3",
      "language": "python"
    },
    "colab": {
      "name": "Receptive_field_scaffold.ipynb",
      "provenance": []
    }
  },
  "nbformat": 4,
  "nbformat_minor": 0,
  "cells": [
    {
      "cell_type": "code",
      "execution_count": 1,
      "metadata": {
        "id": "IxbvXAV-I-rX"
      },
      "outputs": [],
      "source": [
        "# Import necessary libraries\n",
        "import os\n",
        "import math\n",
        "import random\n",
        "import numpy as np\n",
        "import pandas as pd\n",
        "import tensorflow as tf\n",
        "import matplotlib.pyplot as plt\n",
        "from IPython.display import Image\n",
        "from tensorflow.keras import backend as K\n",
        "from sklearn.metrics import accuracy_score\n",
        "from tensorflow.keras.optimizers import SGD\n",
        "from sklearn.model_selection import train_test_split\n",
        "from tensorflow.keras.datasets import cifar10\n",
        "from tensorflow.keras.preprocessing import image\n",
        "from tensorflow.keras.utils import to_categorical\n",
        "from tensorflow.keras.applications import MobileNet\n",
        "from tensorflow.keras.models import Sequential, Model\n",
        "from tensorflow.keras.applications.mobilenet import preprocess_input\n",
        "from tensorflow.keras.layers import Dense, Dropout, Flatten, Activation, Input, Conv2D, MaxPooling2D, InputLayer, ReLU\n",
        "\n",
        "%matplotlib inline\n",
        "\n"
      ]
    },
    {
      "cell_type": "code",
      "source": [
        "# Downloading the data\n",
        "!gdown 1sSNBEhRbV6bdspaDu8oq4vxOz7ddUCSI\n",
        "!unzip data.zip"
      ],
      "metadata": {
        "id": "Rk6rBYD-JEfd",
        "colab": {
          "base_uri": "https://localhost:8080/"
        },
        "outputId": "95143aea-670e-424b-910b-ceab24af3163"
      },
      "execution_count": 2,
      "outputs": [
        {
          "output_type": "stream",
          "name": "stdout",
          "text": [
            "Downloading...\n",
            "From: https://drive.google.com/uc?id=1sSNBEhRbV6bdspaDu8oq4vxOz7ddUCSI\n",
            "To: /content/data.zip\n",
            "100% 12.8M/12.8M [00:00<00:00, 25.4MB/s]\n",
            "Archive:  data.zip\n",
            "  inflating: receptive_field_weights.h5  \n",
            "   creating: cifar/\n",
            "  inflating: cifar/img1.jpg          \n",
            "  inflating: cifar/img10.jpg         \n",
            "  inflating: cifar/img11.jpg         \n",
            "  inflating: cifar/img12.jpg         \n",
            "  inflating: cifar/img13.jpg         \n",
            "  inflating: cifar/img14.jpg         \n",
            "  inflating: cifar/img15.jpg         \n",
            "  inflating: cifar/img16.jpg         \n",
            "  inflating: cifar/img17.jpg         \n",
            "  inflating: cifar/img18.jpg         \n",
            "  inflating: cifar/img19.jpg         \n",
            "  inflating: cifar/img2.jpg          \n",
            "  inflating: cifar/img20.jpg         \n",
            "  inflating: cifar/img21.jpg         \n",
            "  inflating: cifar/img22.jpg         \n",
            "  inflating: cifar/img23.jpg         \n",
            "  inflating: cifar/img24.jpg         \n",
            "  inflating: cifar/img25.jpg         \n",
            "  inflating: cifar/img26.jpg         \n",
            "  inflating: cifar/img27.jpg         \n",
            "  inflating: cifar/img28.jpg         \n",
            "  inflating: cifar/img29.jpg         \n",
            "  inflating: cifar/img3.jpg          \n",
            "  inflating: cifar/img30.jpg         \n",
            "  inflating: cifar/img31.jpg         \n",
            "  inflating: cifar/img32.jpg         \n",
            "  inflating: cifar/img33.jpg         \n",
            "  inflating: cifar/img34.jpg         \n",
            "  inflating: cifar/img35.jpg         \n",
            "  inflating: cifar/img36.jpg         \n",
            "  inflating: cifar/img37.jpg         \n",
            "  inflating: cifar/img38.jpg         \n",
            "  inflating: cifar/img39.jpg         \n",
            "  inflating: cifar/img4.jpg          \n",
            "  inflating: cifar/img40.jpg         \n",
            "  inflating: cifar/img41.jpg         \n",
            "  inflating: cifar/img42.jpg         \n",
            "  inflating: cifar/img43.jpg         \n",
            "  inflating: cifar/img44.jpg         \n",
            "  inflating: cifar/img45.jpg         \n",
            "  inflating: cifar/img46.jpg         \n",
            "  inflating: cifar/img47.jpg         \n",
            "  inflating: cifar/img48.jpg         \n",
            "  inflating: cifar/img49.jpg         \n",
            "  inflating: cifar/img5.jpg          \n",
            "  inflating: cifar/img50.jpg         \n",
            "  inflating: cifar/img6.jpg          \n",
            "  inflating: cifar/img7.jpg          \n",
            "  inflating: cifar/img8.jpg          \n",
            "  inflating: cifar/img9.jpg          \n"
          ]
        }
      ]
    },
    {
      "cell_type": "code",
      "source": [
        "find_shape = np.array(image.load_img('cifar/img39.jpg'))\n",
        "find_shape.shape"
      ],
      "metadata": {
        "colab": {
          "base_uri": "https://localhost:8080/"
        },
        "id": "NmxBpno6nrcD",
        "outputId": "a68fc9ac-c1f4-45db-8198-279d22a80a40"
      },
      "execution_count": 7,
      "outputs": [
        {
          "output_type": "execute_result",
          "data": {
            "text/plain": [
              "(32, 32, 3)"
            ]
          },
          "metadata": {},
          "execution_count": 7
        }
      ]
    },
    {
      "cell_type": "code",
      "execution_count": 10,
      "metadata": {
        "id": "z-xMxVlCI-ra"
      },
      "outputs": [],
      "source": [
        "# Initialize a sequential model\n",
        "model = Sequential()\n",
        "\n",
        "# Add a convolution layer with 32 filters with kernel of size 3, relu activation, same padding\n",
        "# Remember to find out the dimension of the input and send it as input_shape\n",
        "model.add(Conv2D(32,3,padding='same',activation='relu',input_shape=(32,32,3)))\n",
        "\n",
        "# Add a convolution layer with 32 filters with kernel of size 3, relu activation, same padding\n",
        "model.add(Conv2D(32,3,activation='relu',padding='same'))\n",
        "\n",
        "# Add a maxpooling layer with pool size of 2\n",
        "model.add(MaxPooling2D(pool_size=(2,2),strides=2))\n",
        "\n",
        "# Add a convolution layer with 64 filters with kernel of size 3, relu activation, same padding\n",
        "model.add(Conv2D(64,3,padding='same',activation='relu'))\n",
        "\n",
        "# Add a convolution layer with 64 filters with kernel of size 3, relu activation, same padding\n",
        "model.add(Conv2D(64,3,padding='same',activation='relu'))\n",
        "\n",
        "# Add a maxpooling layer with pool size of 2\n",
        "model.add(MaxPooling2D(pool_size=(2,2),strides=2))\n",
        "\n",
        "# Add a convolution layer with 128 filters with kernel of size 3, relu activation, same padding\n",
        "model.add(Conv2D(128,3,activation='relu',padding='same'))\n",
        "\n",
        "# Add a convolution layer with 128 filters with kernel of size 3, relu activation, same padding\n",
        "model.add(Conv2D(128,3,activation='relu',padding='same'))\n",
        "\n",
        "# Add a maxpooling layer with pool size of 2\n",
        "model.add(MaxPooling2D((2,2),strides=2))\n",
        "\n",
        "# Add a Flatten layer\n",
        "model.add(Flatten())\n",
        "\n",
        "# Add a fully connected dense layer with 1024 nodes and relu activation\n",
        "model.add(Dense(1024,activation='relu'))\n",
        "\n",
        "# Add a fully connected dense layer with 1024 nodes and relu activation\n",
        "model.add(Dense(1024,activation='relu'))\n",
        "\n",
        "# Add a dense layer for the output with 10 nodes and softmax activation\n",
        "model.add(Dense(10,activation='softmax'))\n",
        "\n",
        "# Compile the model with SGD optimizer with learning rate as 0.001 and momentum of 0.9\n",
        "# Use categorical cross-entropy as the loss and accuracy as the metric\n",
        "opt = SGD(learning_rate=0.001,momentum=0.9)\n",
        "model.compile(optimizer=opt,loss='categorical_crossentropy',metrics=['accuracy'])\n"
      ]
    },
    {
      "cell_type": "code",
      "execution_count": 11,
      "metadata": {
        "id": "NjkOzfdOI-rb",
        "colab": {
          "base_uri": "https://localhost:8080/"
        },
        "outputId": "70dadfb6-be80-41ef-dbaf-f65cd0ddc89b"
      },
      "outputs": [
        {
          "output_type": "stream",
          "name": "stdout",
          "text": [
            "Model: \"sequential_1\"\n",
            "_________________________________________________________________\n",
            " Layer (type)                Output Shape              Param #   \n",
            "=================================================================\n",
            " conv2d_6 (Conv2D)           (None, 32, 32, 32)        896       \n",
            "                                                                 \n",
            " conv2d_7 (Conv2D)           (None, 32, 32, 32)        9248      \n",
            "                                                                 \n",
            " max_pooling2d_3 (MaxPooling  (None, 16, 16, 32)       0         \n",
            " 2D)                                                             \n",
            "                                                                 \n",
            " conv2d_8 (Conv2D)           (None, 16, 16, 64)        18496     \n",
            "                                                                 \n",
            " conv2d_9 (Conv2D)           (None, 16, 16, 64)        36928     \n",
            "                                                                 \n",
            " max_pooling2d_4 (MaxPooling  (None, 8, 8, 64)         0         \n",
            " 2D)                                                             \n",
            "                                                                 \n",
            " conv2d_10 (Conv2D)          (None, 8, 8, 128)         73856     \n",
            "                                                                 \n",
            " conv2d_11 (Conv2D)          (None, 8, 8, 128)         147584    \n",
            "                                                                 \n",
            " max_pooling2d_5 (MaxPooling  (None, 4, 4, 128)        0         \n",
            " 2D)                                                             \n",
            "                                                                 \n",
            " flatten_1 (Flatten)         (None, 2048)              0         \n",
            "                                                                 \n",
            " dense_3 (Dense)             (None, 1024)              2098176   \n",
            "                                                                 \n",
            " dense_4 (Dense)             (None, 1024)              1049600   \n",
            "                                                                 \n",
            " dense_5 (Dense)             (None, 10)                10250     \n",
            "                                                                 \n",
            "=================================================================\n",
            "Total params: 3,445,034\n",
            "Trainable params: 3,445,034\n",
            "Non-trainable params: 0\n",
            "_________________________________________________________________\n"
          ]
        }
      ],
      "source": [
        "# Take a look at the summary of the model\n",
        "model.summary()"
      ]
    },
    {
      "cell_type": "code",
      "execution_count": 15,
      "metadata": {
        "id": "O921uYdyI-rc"
      },
      "outputs": [],
      "source": [
        "# As training this model takes a long time, we have trained it for you \n",
        "# The pre-trained model weights are present in the file \"receptive_field_weights.h5\"\n",
        "# Load these weights to skip the .fit step\n",
        "model.load_weights('receptive_field_weights.h5')"
      ]
    },
    {
      "cell_type": "markdown",
      "metadata": {
        "id": "hwu_XIJYI-rc"
      },
      "source": [
        "# GETTING THE ACTIVATIONS"
      ]
    },
    {
      "cell_type": "code",
      "execution_count": 16,
      "metadata": {
        "id": "CYgvxdqJI-rd"
      },
      "outputs": [],
      "source": [
        "# Heler function to load the images given the file path\n",
        "def load_image(img_path):\n",
        "\n",
        "    img = image.load_img(img_path, target_size=(32, 32))\n",
        "    img_tensor = image.img_to_array(img)                    # (height, width, channels)\n",
        "    img_tensor = np.expand_dims(img_tensor, axis=0)         # (1, height, width, channels), add a dimension because the model expects this shape: (batch_size, height, width, channels)\n",
        "    img_tensor = preprocess_input(img_tensor)               # imshow expects values in the range [0, 1]\n",
        "\n",
        "    return img_tensor"
      ]
    },
    {
      "cell_type": "code",
      "execution_count": 30,
      "metadata": {
        "id": "QGFQbaIoI-re"
      },
      "outputs": [],
      "source": [
        "# Path of the images folder\n",
        "path = \"cifar/\"\n",
        "\n",
        "# Get a list of all files within the path\n",
        "dirs = os.listdir(path)\n",
        "\n",
        "# Select a convolutional layer by specifying its number\n",
        "layer_num = 8\n",
        "\n",
        "# Select the activation map within the selected layer to see \n",
        "# its corresponding receptive field\n",
        "activation_num = 128\n"
      ]
    },
    {
      "cell_type": "code",
      "execution_count": 18,
      "metadata": {
        "id": "WRMSneCII-rf"
      },
      "outputs": [],
      "source": [
        "# Get the output of the selected activation map using tensorflow backend\n",
        "inp = model.input\n",
        "outputs = [layer.output for layer in model.layers]\n",
        "functors = [K.function([inp],[out]) for out in outputs]\n"
      ]
    },
    {
      "cell_type": "code",
      "source": [
        "functors"
      ],
      "metadata": {
        "colab": {
          "base_uri": "https://localhost:8080/"
        },
        "id": "YBsZdz1R4zpF",
        "outputId": "a04a4f3f-fb98-4595-e02a-d6e82f260700"
      },
      "execution_count": 52,
      "outputs": [
        {
          "output_type": "execute_result",
          "data": {
            "text/plain": [
              "[<function keras.backend.function.<locals>.func>,\n",
              " <function keras.backend.function.<locals>.func>,\n",
              " <function keras.backend.function.<locals>.func>,\n",
              " <function keras.backend.function.<locals>.func>,\n",
              " <function keras.backend.function.<locals>.func>,\n",
              " <function keras.backend.function.<locals>.func>,\n",
              " <function keras.backend.function.<locals>.func>,\n",
              " <function keras.backend.function.<locals>.func>,\n",
              " <function keras.backend.function.<locals>.func>,\n",
              " <function keras.backend.function.<locals>.func>,\n",
              " <function keras.backend.function.<locals>.func>,\n",
              " <function keras.backend.function.<locals>.func>,\n",
              " <function keras.backend.function.<locals>.func>]"
            ]
          },
          "metadata": {},
          "execution_count": 52
        }
      ]
    },
    {
      "cell_type": "code",
      "execution_count": 55,
      "metadata": {
        "id": "P5WEheOeI-rf"
      },
      "outputs": [],
      "source": [
        "# Initialize a list to store the output of the activation map for each image\n",
        "acts = []\n",
        "\n",
        "# Run a loop for the number of input images i.e.50\n",
        "for i in range(1,51):\n",
        "    \n",
        "  # Define the image path of each image in the cifar folder\n",
        "  file_path = path+\"img\"+str(i)+\".jpg\"\n",
        "\n",
        "  # Call the load_image function defined for every image\n",
        "  # above to get the images\n",
        "  img_path = load_image(file_path)\n",
        "\n",
        "  # Get the model layer output for the specific layer using functors got above\n",
        "  layer_outs = [func(img_path) for func in functors]\n",
        "\n",
        "  # Get the model output for the specific layer based on layer_num\n",
        "  last = layer_outs[layer_num]\n",
        "\n",
        "  # Get the set of feature maps of the selected layer\n",
        "  feature_map = last[0]\n",
        "\n",
        "  # Get the required feature maps out of the feature map set\n",
        "  select_act = feature_map[0][:,:,activation_num-1]\n",
        "\n",
        "  # Save the selected activation to a list\n",
        "  acts.append(select_act.flatten())"
      ]
    },
    {
      "cell_type": "code",
      "execution_count": 56,
      "metadata": {
        "id": "HOw4RrLwI-rg"
      },
      "outputs": [],
      "source": [
        "# Find out which images activates which pixel of the feature map the most\n",
        "\n",
        "# Initialize a dictionary to hold the pixel-wise image that activates it the most\n",
        "best_img = {}\n",
        "\n",
        "# Loop over the entire pixel space of the selected activation\n",
        "# The dimension of the feature map can be got from model.layers[layer_num].output_shape\n",
        "for j in range(model.layers[layer_num].output_shape[1]*model.layers[layer_num].output_shape[2]):\n",
        "  # Define a list to store the activation of each image for a given pixel of the feature map  \n",
        "  l = []\n",
        "  for i in range(len(acts)):\n",
        "    l.append(acts[i][j])\n",
        "    \n",
        "  # Get the image that activates a particular pixel of the activation map the most\n",
        "  best_img[j] = np.argmax(l)+1\n",
        "\n"
      ]
    },
    {
      "cell_type": "markdown",
      "metadata": {
        "id": "iiaezcIRI-rh"
      },
      "source": [
        "# SETUP THE PADDING, KERNEL AND STRIDES"
      ]
    },
    {
      "cell_type": "code",
      "execution_count": 57,
      "metadata": {
        "id": "1lwWbX0EI-rh"
      },
      "outputs": [],
      "source": [
        "# To get the receptive field we have computed the padding size, kernel size \n",
        "# and stride of each layer for the defined cnn model above\n",
        "\n",
        "# Get the model padding, kernel and stride list\n",
        "pad = [1,1,0,1,1,0,1,1,0]\n",
        "ker = [3,3,2,3,3,2,3,3,2]\n",
        "strd = [1,1,2,1,1,2,1,1,2]\n",
        "\n",
        "# Helper function to get a dictionary that is of the following form\n",
        "# [layer name]:{kernel, stride, padding}\n",
        "def make_arch(model):\n",
        "  c = 0\n",
        "  arc_dict = {}\n",
        "  for i in model.layers[:9]:\n",
        "    l = []\n",
        "    l.append(ker[c])\n",
        "    l.append(strd[c])\n",
        "    l.append(pad[c])\n",
        "    c+=1\n",
        "    arc_dict[i.name] = l\n",
        "  return arc_dict"
      ]
    },
    {
      "cell_type": "code",
      "execution_count": 58,
      "metadata": {
        "id": "JVGRiElpI-ri"
      },
      "outputs": [],
      "source": [
        "# Call the above defined make_arch function to get the dictionary required\n",
        "arc_dict = make_arch(model)"
      ]
    },
    {
      "cell_type": "code",
      "execution_count": 59,
      "metadata": {
        "id": "t8GMYbRJI-ri"
      },
      "outputs": [],
      "source": [
        "# Helper class to compute the receptive field size and start\n",
        "\n",
        "# To define a receptive field, we need the size of the receptive field\n",
        "# and the position of the starting pixel\n",
        "\n",
        "class ComputeReceptiveField():\n",
        "    def calculate(self, architecture, input_image_size):\n",
        "        arc = []\n",
        "        input_layer = ('input_layer', input_image_size, 1, 1, 0.5)\n",
        "        #self._print_layer_info(input_layer)\n",
        "        arc.append(input_layer)\n",
        "        for key in architecture:\n",
        "            current_layer = self._calculate_layer_info(architecture[key], input_layer, key)\n",
        "            input_layer = current_layer\n",
        "            arc.append(current_layer)\n",
        "        return arc\n",
        "            \n",
        "            \n",
        "    def _calculate_layer_info(self, current_layer, input_layer, layer_name):\n",
        "        n_in = input_layer[1]\n",
        "        j_in = input_layer[2]\n",
        "        r_in = input_layer[3]\n",
        "        start_in = input_layer[4]\n",
        "        \n",
        "        k = current_layer[0]\n",
        "        s = current_layer[1]\n",
        "        p = current_layer[2]\n",
        "\n",
        "        n_out = math.floor((n_in - k + 2*p)/s) + 1\n",
        "        padding = (n_out-1)*s - n_in + k \n",
        "        p_right = math.ceil(padding/2)\n",
        "        p_left = math.floor(padding/2)\n",
        "        \n",
        "\n",
        "        j_out = j_in * s\n",
        "        r_out = r_in + (k - 1)*j_in\n",
        "        start_out = start_in + ((k-1)/2 - p_left)*j_in\n",
        "        return layer_name, n_out, j_out, r_out, start_out"
      ]
    },
    {
      "cell_type": "code",
      "execution_count": 60,
      "metadata": {
        "id": "mZ3PY5auI-ri"
      },
      "outputs": [],
      "source": [
        "# Create an object of the receptive field class\n",
        "rf = ComputeReceptiveField()\n",
        "\n",
        "# Call the calculate method of the receptive field class by passing the dictionary \n",
        "# created above and the input image size i.e. 32\n",
        "\n",
        "# This method returns 4 values: \n",
        "# layer name, n[output size],j[cummulative stride] ,r[receptive field size], s[start]\n",
        "com = rf.calculate(arc_dict, 32)\n"
      ]
    },
    {
      "cell_type": "code",
      "execution_count": 61,
      "metadata": {
        "id": "mubAy6VMI-rj"
      },
      "outputs": [],
      "source": [
        "# Helper function to get the receptive field of the input image i.e. patch seen \n",
        "# by each pixel of the feature map\n",
        "\n",
        "# The function takes the image, pixel position along x and y axis\n",
        "# and the layer number\n",
        "def get_rf(img, y_pix=0, x_pix=0, ln=7):\n",
        "\n",
        "  # Get the layer_number  \n",
        "  layer_num = ln\n",
        "\n",
        "  # Get the start point i.e. the center pixel of the receptive field\n",
        "  start = float(np.array(com[layer_num])[4]) + x_pix\n",
        "\n",
        "  # Get the size of the receptive field\n",
        "  rf = int(np.array(com[layer_num])[3])\n",
        "\n",
        "  # Get the leftmost pixel of the receptive patch\n",
        "  lt = start - math.ceil(rf/2) \n",
        "\n",
        "  # Get the rightmost pixel of the receptive patch\n",
        "  rt = start + math.ceil(rf/2) \n",
        "\n",
        "  # Get the topmost pixel of the receptive patch\n",
        "  top = start - math.ceil(rf/2) + y_pix\n",
        "\n",
        "  # Get the bottom-most pixel of the receptive patch\n",
        "  btm = start + math.ceil(rf/2) + y_pix\n",
        "\n",
        "  # Clip the left pixel if it lower than 0\n",
        "  if lt<0:\n",
        "    lt=0\n",
        "\n",
        "  # Clip the right pixel if it is higher than the max size of the input\n",
        "  if rt>img[0].shape[0]:\n",
        "    rt=img[0].shape[0]-1\n",
        "\n",
        "  # Clip the top if it is lower than 0\n",
        "  if top<0:\n",
        "    top=0\n",
        "\n",
        "  # Clip the bottom if it is higher than the max size of the input \n",
        "  if btm>img[0].shape[1]:\n",
        "    btm=img[0].shape[1]-1\n",
        "\n",
        "  # Get pixels corresponding to the receptive field from the input image\n",
        "  img_rf = img[0][int(lt):int(rt), int(top):int(btm), :]\n",
        "\n",
        "  # Return the receptive field of the pixel\n",
        "  return img_rf\n"
      ]
    },
    {
      "cell_type": "code",
      "execution_count": 62,
      "metadata": {
        "id": "OBGGX-OOI-rj"
      },
      "outputs": [],
      "source": [
        "# Define a dictionary to store the receptive field associated to each pixel\n",
        "rf_dict = {}\n",
        "\n",
        "# Run a counter to use as dictionary keys\n",
        "counter=0\n",
        "\n",
        "# Loop over the possible pixel values of the feature map to get the receptive fiels\n",
        "for i in range(model.layers[layer_num].output_shape[1]):\n",
        "  for j in range(model.layers[layer_num].output_shape[2]):\n",
        "\n",
        "    # Call the load_image function that is defined \n",
        "    # using the the best_img dictionary for each pixel\n",
        "    img = load_image(\"cifar/img\"+str(best_img[counter])+\".jpg\")\n",
        "\n",
        "    # Call the get_rf function to get the receptive field for \n",
        "    # that pixel and the most activating image i.e img\n",
        "    img_rf = get_rf(img, i, j, layer_num)\n",
        "\n",
        "    # Save the returned receptive field as the values of the dictionary\n",
        "    rf_dict[counter] = img_rf\n",
        "\n",
        "    # Increment the counter\n",
        "    counter+=1\n"
      ]
    },
    {
      "cell_type": "code",
      "execution_count": 63,
      "metadata": {
        "id": "duTxTVvPI-rk",
        "colab": {
          "base_uri": "https://localhost:8080/",
          "height": 754
        },
        "outputId": "914ceb41-b227-4701-acec-b8e167f633d0"
      },
      "outputs": [
        {
          "output_type": "stream",
          "name": "stdout",
          "text": [
            "Layer number: 8\n",
            "Receptive field size:  32\n"
          ]
        },
        {
          "output_type": "display_data",
          "data": {
            "text/plain": [
              "<Figure size 720x720 with 16 Axes>"
            ],
            "image/png": "[encoded data removed]"
          },
          "metadata": {
            "needs_background": "light"
          }
        }
      ],
      "source": [
        "# Helper code to plot the receptive fields associated with each pixel\n",
        "\n",
        "print(\"Layer number: \"+str(layer_num))\n",
        "print(\"Receptive field size: \", int(np.array(com[layer_num])[3]))\n",
        "\n",
        "fig, ax = plt.subplots(model.layers[layer_num].output_shape[1], model.layers[layer_num].output_shape[2], figsize = (10,10))\n",
        "counter = 0\n",
        "\n",
        "# Loop over the possible pixel values of the feature map to plot the receptive fiels\n",
        "for i in range(model.layers[layer_num].output_shape[1]):\n",
        "  for j in range(model.layers[layer_num].output_shape[2]):\n",
        "\n",
        "    # Denormalize the pixel values\n",
        "    ax[i][j].imshow((rf_dict[counter]/2)+0.5)\n",
        "    ax[i][j].axis('off')\n",
        "    counter+=1\n",
        " \n",
        "plt.tight_layout()\n"
      ]
    }
  ]
}
{
    "metadata": {
        "kernelspec": {
            "name": "python3",
            "display_name": "Python 3",
            "language": "python"
        }
    },
    "nbformat": 4,
    "nbformat_minor": 0,
    "cells": [
        {
            "cell_type": "code",
            "execution_count": 1,
            "metadata": {},
            "outputs": [],
            "source": [
                "# Import necessary libraries\n",
                "import numpy as np\n",
                "import tensorflow as tf\n",
                "from numpy.random import seed\n",
                "import matplotlib.pyplot as plt\n",
                "from prettytable import PrettyTable\n",
                "from helper import get_data, plot_activation\n",
                "from tensorflow.keras.models import Sequential\n",
                "from sklearn.model_selection import train_test_split\n",
                "from tensorflow.keras.layers import Dense,Conv2D,Dropout,Flatten,MaxPooling2D,AveragePooling2D\n",
                "\n",
                "# Set random seed\n",
                "seed(1)\n",
                "tf.random.set_seed(1)\n",
                "\n",
                "%matplotlib inline"
            ]
        },
        {
            "cell_type": "code",
            "execution_count": 2,
            "metadata": {},
            "outputs": [],
            "source": [
                "# Use the helper function get_data to get the train and \n",
                "# test MNIST dataset\n",
                "x_train, y_train, x_test, y_test = get_data()"
            ]
        },
        {
            "cell_type": "code",
            "execution_count": 3,
            "metadata": {},
            "outputs": [],
            "source": [
                "# Setting the random seed\n",
                "seed(1)\n",
                "tf.random.set_seed(1)\n",
                "\n",
                "# Function to define the CNN model for MNIST classification\n",
                "def cnn_model(pool_type=\"no_pooling\"):\n",
                "\n",
                "  # Intialize a sequential model\n",
                "  model = Sequential(name=pool_type) \n",
                "\n",
                "  # Define the input shape \n",
                "  input_shape = (28, 28, 1)\n",
                "\n",
                "  # Add a convolutional layer with 28 nodes and kernel size of 3\n",
                "  model.add(Conv2D(28, kernel_size=(3,3), input_shape=input_shape, activation='tanh')) \n",
                "\n",
                "  # Define size of the pooling operation\n",
                "  pool_size=(3,3)\n",
                "\n",
                "  # Add an average pooling layer with pool size value as defined \n",
                "  # above by pool_size\n",
                "  if pool_type==\"avg_pooling\":\n",
                "    model.add(AveragePooling2D(pool_size=pool_size))\n",
                "\n",
                "  # Add a max pooling layer with pool size value as defined above \n",
                "  # by pool_size\n",
                "  if pool_type==\"max_pooling\":\n",
                "    model.add(MaxPooling2D(pool_size=pool_size))\n",
                "\n",
                "  # Add the dense layers by flattening\n",
                "  model.add(Flatten())\n",
                "\n",
                "  # Add a dense layer with ReLU activation\n",
                "  model.add(Dense(16,activation = tf.nn.relu))\n",
                "\n",
                "  # Add a dropout layer with 0.3 dropout percentage\n",
                "  model.add(Dropout(0.3))\n",
                "\n",
                "  # Add an output layer with 10 output nodes and softmax activation\n",
                "  model.add(Dense(10,activation=tf.nn.softmax))\n",
                "\n",
                "  # Compile the model with adam optimizer, sparse_categorical_crossentropy \n",
                "  # as the loss and accuracy as the metric\n",
                "  model.compile(optimizer='adam',\n",
                "              loss='sparse_categorical_crossentropy',\n",
                "              metrics=['accuracy'])\n",
                "  \n",
                "  # Fit the model on the train data and 8 epochs\n",
                "  model.fit(x_train , y_train , epochs= 8, verbose=0, \n",
                "            shuffle=False, workers=0, use_multiprocessing=False)\n",
                "\n",
                "  return model\n",
                "\n",
                ""
            ]
        },
        {
            "cell_type": "code",
            "execution_count": 4,
            "metadata": {},
            "outputs": [
                {
                    "name": "stderr",
                    "output_type": "stream",
                    "text": "2021-12-19 19:41:59.624477: I tensorflow/core/platform/cpu_feature_guard.cc:151] This TensorFlow binary is optimized with oneAPI Deep Neural Network Library (oneDNN) to use the following CPU instructions in performance-critical operations:  SSE3 SSE4.1 SSE4.2 AVX AVX2 FMA\nTo enable them in other operations, rebuild TensorFlow with the appropriate compiler flags.\n2021-12-19 19:41:59.624754: I tensorflow/core/common_runtime/process_util.cc:146] Creating new thread pool with default inter op setting: 2. Tune using inter_op_parallelism_threads for best performance.\n"
                },
                {
                    "name": "stdout",
                    "output_type": "stream",
                    "text": "\r 1/79 [..............................] - ETA: 5s - loss: 0.4950 - accuracy: 0.8438\u0008\u0008\u0008\u0008\u0008\u0008\u0008\u0008\u0008\u0008\u0008\u0008\u0008\u0008\u0008\u0008\u0008\u0008\u0008\u0008\u0008\u0008\u0008\u0008\u0008\u0008\u0008\u0008\u0008\u0008\u0008\u0008\u0008\u0008\u0008\u0008\u0008\u0008\u0008\u0008\u0008\u0008\u0008\u0008\u0008\u0008\u0008\u0008\u0008\u0008\u0008\u0008\u0008\u0008\u0008\u0008\u0008\u0008\u0008\u0008\u0008\u0008\u0008\u0008\u0008\u0008\u0008\u0008\u0008\u0008\u0008\u0008\u0008\u0008\u0008\u0008\u0008\u0008\u0008\u0008\u0008\u0008\r34/79 [===========\u003e..................] - ETA: 0s - loss: 0.4146 - accuracy: 0.8879\u0008\u0008\u0008\u0008\u0008\u0008\u0008\u0008\u0008\u0008\u0008\u0008\u0008\u0008\u0008\u0008\u0008\u0008\u0008\u0008\u0008\u0008\u0008\u0008\u0008\u0008\u0008\u0008\u0008\u0008\u0008\u0008\u0008\u0008\u0008\u0008\u0008\u0008\u0008\u0008\u0008\u0008\u0008\u0008\u0008\u0008\u0008\u0008\u0008\u0008\u0008\u0008\u0008\u0008\u0008\u0008\u0008\u0008\u0008\u0008\u0008\u0008\u0008\u0008\u0008\u0008\u0008\u0008\u0008\u0008\u0008\u0008\u0008\u0008\u0008\u0008\u0008\u0008\u0008\u0008\u0008\u0008\r70/79 [=========================\u003e....] - ETA: 0s - loss: 0.4297 - accuracy: 0.8830\u0008\u0008\u0008\u0008\u0008\u0008\u0008\u0008\u0008\u0008\u0008\u0008\u0008\u0008\u0008\u0008\u0008\u0008\u0008\u0008\u0008\u0008\u0008\u0008\u0008\u0008\u0008\u0008\u0008\u0008\u0008\u0008\u0008\u0008\u0008\u0008\u0008\u0008\u0008\u0008\u0008\u0008\u0008\u0008\u0008\u0008\u0008\u0008\u0008\u0008\u0008\u0008\u0008\u0008\u0008\u0008\u0008\u0008\u0008\u0008\u0008\u0008\u0008\u0008\u0008\u0008\u0008\u0008\u0008\u0008\u0008\u0008\u0008\u0008\u0008\u0008\u0008\u0008\u0008\u0008\u0008\u0008\r79/79 [==============================] - 0s 1ms/step - loss: 0.4364 - accuracy: 0.8772\nThe accuracy of the model with no pooling is 0.8772000074386597\n"
                }
            ],
            "source": [
                "# Call the cnn_model function with pool_type as no_pooling to \n",
                "# get the trained model without pooling\n",
                "model = cnn_model(pool_type=\"no_pooling\")\n",
                "\n",
                "# Evaluate on the test data\n",
                "no_pool_acc = model.evaluate(x_test, y_test)\n",
                "print(\"The accuracy of the model with no pooling is\", no_pool_acc[1])\n",
                "\n",
                "# Get the number of parameters of the network\n",
                "no_pool_params = model.count_params()\n",
                ""
            ]
        },
        {
            "cell_type": "code",
            "execution_count": 11,
            "metadata": {},
            "outputs": [],
            "source": [
                "# Call the cnn_model function with pool_type as avg_pooling to \n",
                "# get the trained model with avg pooling\n",
                "model = cnn_model(pool_type=\"avg_pooling\")\n",
                "\n",
                "# Evaluate on the test data\n",
                "avg_pool_acc = model.evaluate(x_test, y_test)\n",
                "print(\"The accuracy of the model with average pooling is\", avg_pool_acc[1])\n",
                "\n",
                "# Get the number of parameters of the network\n",
                "avg_pool_params = model.count_params()\n",
                ""
            ]
        },
        {
            "cell_type": "code",
            "execution_count": 12,
            "metadata": {},
            "outputs": [
                {
                    "name": "stdout",
                    "output_type": "stream",
                    "text": "\r 1/79 [..............................] - ETA: 8s - loss: 0.2888 - accuracy: 0.9375\u0008\u0008\u0008\u0008\u0008\u0008\u0008\u0008\u0008\u0008\u0008\u0008\u0008\u0008\u0008\u0008\u0008\u0008\u0008\u0008\u0008\u0008\u0008\u0008\u0008\u0008\u0008\u0008\u0008\u0008\u0008\u0008\u0008\u0008\u0008\u0008\u0008\u0008\u0008\u0008\u0008\u0008\u0008\u0008\u0008\u0008\u0008\u0008\u0008\u0008\u0008\u0008\u0008\u0008\u0008\u0008\u0008\u0008\u0008\u0008\u0008\u0008\u0008\u0008\u0008\u0008\u0008\u0008\u0008\u0008\u0008\u0008\u0008\u0008\u0008\u0008\u0008\u0008\u0008\u0008\u0008\u0008\r61/79 [======================\u003e.......] - ETA: 0s - loss: 0.1659 - accuracy: 0.9529\u0008\u0008\u0008\u0008\u0008\u0008\u0008\u0008\u0008\u0008\u0008\u0008\u0008\u0008\u0008\u0008\u0008\u0008\u0008\u0008\u0008\u0008\u0008\u0008\u0008\u0008\u0008\u0008\u0008\u0008\u0008\u0008\u0008\u0008\u0008\u0008\u0008\u0008\u0008\u0008\u0008\u0008\u0008\u0008\u0008\u0008\u0008\u0008\u0008\u0008\u0008\u0008\u0008\u0008\u0008\u0008\u0008\u0008\u0008\u0008\u0008\u0008\u0008\u0008\u0008\u0008\u0008\u0008\u0008\u0008\u0008\u0008\u0008\u0008\u0008\u0008\u0008\u0008\u0008\u0008\u0008\u0008\r79/79 [==============================] - 0s 847us/step - loss: 0.1679 - accuracy: 0.9536\nThe accuracy of the model with max pooling is 0.9535999894142151\n"
                }
            ],
            "source": [
                "# Call the cnn_model function with pool_type as max_pooling to \n",
                "# get the trained model with max pooling\n",
                "model = cnn_model(pool_type=\"max_pooling\")\n",
                "\n",
                "# Evaluate on the test data\n",
                "max_pool_acc = model.evaluate(x_test, y_test)\n",
                "print(\"The accuracy of the model with max pooling is\", max_pool_acc[1])\n",
                "\n",
                "# Get the number of parameters of the network\n",
                "max_pool_params = model.count_params()\n",
                ""
            ]
        },
        {
            "cell_type": "code",
            "execution_count": 13,
            "metadata": {},
            "outputs": [
                {
                    "name": "stdout",
                    "output_type": "stream",
                    "text": "+------------------+---------------+-----------+----------------------+\n|    Model Type    | Test Accuracy | Test Loss | Number of Parameters |\n+------------------+---------------+-----------+----------------------+\n| Without pooling  |     0.8772    |   0.4364  |        303314        |\n| With avg pooling |     0.9028    |   0.3424  |        29138         |\n| With max pooling |     0.9536    |   0.1679  |        29138         |\n+------------------+---------------+-----------+----------------------+\n"
                }
            ],
            "source": [
                "# Display the models with their accuracy score and parameters \n",
                "table = PrettyTable()\n",
                "\n",
                "table.field_names = [\"Model Type\", \"Test Accuracy\", \"Test Loss\", \"Number of Parameters\"]\n",
                "table.add_row([\"Without pooling\", round(no_pool_acc[1],4), round(no_pool_acc[0],4), no_pool_params])\n",
                "table.add_row([\"With avg pooling\", round(avg_pool_acc[1],4), round(avg_pool_acc[0],4), avg_pool_params])\n",
                "table.add_row([\"With max pooling\", round(max_pool_acc[1],4), round(max_pool_acc[0],4), max_pool_params])\n",
                "print(table)"
            ]
        }
    ]
}

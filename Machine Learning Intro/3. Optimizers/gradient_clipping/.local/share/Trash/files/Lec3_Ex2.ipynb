{
 "cells": [
  {
   "cell_type": "code",
   "execution_count": null,
   "metadata": {},
   "outputs": [],
   "source": [
    "import matplotlib.pyplot as plt\n",
    "import numpy as np\n",
    "\n",
    "# importing helper functions from previous exercise\n",
    "from lec3ex_helper import f, der_f, FUNC_RANGE, get_tangent_line, plot_it\n",
    "%matplotlib inline"
   ]
  },
  {
   "cell_type": "markdown",
   "metadata": {},
   "source": [
    "Read the slide to the left for full details.\n",
    "\n",
    "Here's our familiar function"
   ]
  },
  {
   "cell_type": "code",
   "execution_count": null,
   "metadata": {},
   "outputs": [],
   "source": [
    "x = np.linspace(*FUNC_RANGE, 200)\n",
    "fig, ax = plt.subplots(figsize=(4,3))\n",
    "plt.plot(x,f(x))\n",
    "plt.xlim(x.min(), x.max());\n",
    "plt.xlabel('x')\n",
    "plt.ylabel('y');"
   ]
  },
  {
   "cell_type": "markdown",
   "metadata": {},
   "source": [
    "Implement learning rate decay and gradient clipping."
   ]
  },
  {
   "cell_type": "code",
   "execution_count": null,
   "metadata": {},
   "outputs": [],
   "source": [
    "fig, axs = plt.subplots(4,5, figsize=(15,6), sharey=True)\n",
    "\n",
    "# initial value of x\n",
    "cur_x = 1.2 \n",
    "\n",
    "# controls how large our update steps are\n",
    "learning_rate = ___\n",
    "\n",
    "# proportion of learning rate that decays each step\n",
    "decay_rate = ___ \n",
    "epsilon = 0.025\n",
    "\n",
    "# Function to perform the clipping operation\n",
    "def clip(g, clip_threshold=8):\n",
    "    '''return clipped gradient with a magnitude <= clip_threshold'''\n",
    "    # Hint: use np.abs()\n",
    "    # your code here\n",
    "\n",
    "    # end of your code\n",
    "    return g\n",
    "\n",
    "\n",
    "for i, ax in enumerate(axs.ravel()):\n",
    "    plot_it(cur_x, title=f\"{i} step{'' if i == 1 else 's'}\", ax=ax)\n",
    "    \n",
    "    prev_x = cur_x # remember what x was\n",
    "    \n",
    "    g = ___ # get clipped gradient\n",
    "    cur_x = ___ # update current x-value\n",
    "    learning_rate = ___ # decay learning rate\n",
    "    \n",
    "    # stop algorithm if magnitude of change below epsilon\n",
    "    if np.abs(cur_x - prev_x) <= epsilon: \n",
    "        # hide unused subplots\n",
    "        for ax in axs.ravel()[i+1:]:\n",
    "            ax.axis('off') \n",
    "        break\n",
    "plt.tight_layout()\n",
    "\n",
    "if i == len(axs.ravel())-1:\n",
    "    print('Did not converge!')"
   ]
  },
  {
   "cell_type": "markdown",
   "metadata": {},
   "source": [
    "## Mindchow"
   ]
  },
  {
   "cell_type": "markdown",
   "metadata": {},
   "source": [
    "After marking your exercise, try tweaking learning_rate, decay_rate, and perhaps the default value of clip_threshold. Can you anticipate how it will affect your results? \n",
    "\n",
    "See if you can find a combination that will converge to the global minimum."
   ]
  }
 ],
 "metadata": {
  "kernelspec": {
   "display_name": "Python 3",
   "language": "python",
   "name": "python3"
  },
  "language_info": {
   "codemirror_mode": {
    "name": "ipython",
    "version": 3
   },
   "file_extension": ".py",
   "mimetype": "text/x-python",
   "name": "python",
   "nbconvert_exporter": "python",
   "pygments_lexer": "ipython3",
   "version": "3.8.5"
  }
 },
 "nbformat": 4,
 "nbformat_minor": 4
}

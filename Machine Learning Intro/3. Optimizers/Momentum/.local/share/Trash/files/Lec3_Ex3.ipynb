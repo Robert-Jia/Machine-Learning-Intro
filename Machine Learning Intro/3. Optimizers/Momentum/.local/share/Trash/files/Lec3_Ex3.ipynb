{
 "cells": [
  {
   "cell_type": "code",
   "execution_count": null,
   "metadata": {},
   "outputs": [],
   "source": [
    "import matplotlib.pyplot as plt\n",
    "import numpy as np\n",
    "# helper functions from last 2 exercises including `clip`\n",
    "from lec3ex3_helper import f, der_f, FUNC_RANGE, get_tangent_line, plot_it, clip\n",
    "%matplotlib inline"
   ]
  },
  {
   "cell_type": "code",
   "execution_count": null,
   "metadata": {},
   "outputs": [],
   "source": [
    "x = np.linspace(*FUNC_RANGE, 200)\n",
    "fig, ax = plt.subplots(figsize=(4,3))\n",
    "plt.plot(x,f(x))\n",
    "plt.xlim(x.min(), x.max());\n",
    "plt.xlabel('x')\n",
    "plt.ylabel('y');"
   ]
  },
  {
   "cell_type": "code",
   "execution_count": null,
   "metadata": {},
   "outputs": [],
   "source": [
    "fig, axs = plt.subplots(4,5, figsize=(15,6), sharey=True)\n",
    "\n",
    "cur_x = 2.5 # initial value of x\n",
    "\n",
    "learning_rate = ___\n",
    "decay_rate = ___ # percent by which learning rate decays each step\n",
    "epsilon = 0.025 # marks convergence\n",
    "nu = 0 # initially, momentum has no 'memory'\n",
    "alpha = ___ # momentum weighting parameter\n",
    "\n",
    "for i, ax in enumerate(axs.ravel()):\n",
    "    plot_it(cur_x, title=f\"{i} step{'' if i == 1 else 's'}\", ax=ax)\n",
    "    \n",
    "    # your code here\n",
    " \n",
    "    # end your code here\n",
    "    \n",
    "    # stop algorithm if change below threshold\n",
    "    if np.abs(cur_x - prev_x) <= epsilon:\n",
    "        for ax in axs.ravel()[i+1:]:\n",
    "            ax.axis('off') # hide unused subplots\n",
    "        break\n",
    "plt.tight_layout()"
   ]
  },
  {
   "cell_type": "markdown",
   "metadata": {},
   "source": [
    "What about higher dimensions?\n",
    "\n",
    "Try a list of different alpha values with a single learning rate and see how that affects convergence in 2 dimensions."
   ]
  },
  {
   "cell_type": "code",
   "execution_count": null,
   "metadata": {},
   "outputs": [],
   "source": [
    "from loss_surface import LossSurface\n",
    "from momentum import Momentum, visualize_descent\n",
    "\n",
    "learning_rate = ___\n",
    "iteration = 50\n",
    "alphas = ___ # a list of floats\n",
    "\n",
    "visualize_descent(learning_rate=learning_rate, iteration=iteration, alphas=alphas)"
   ]
  },
  {
   "cell_type": "markdown",
   "metadata": {},
   "source": [
    "## Mindchow"
   ]
  },
  {
   "cell_type": "markdown",
   "metadata": {},
   "source": [
    "After marking the exercise, play around with a visualization that lets you see how momentum and learning rate affects convergence in 2 dimensions."
   ]
  }
 ],
 "metadata": {
  "kernelspec": {
   "display_name": "Python 3",
   "language": "python",
   "name": "python3"
  },
  "language_info": {
   "codemirror_mode": {
    "name": "ipython",
    "version": 3
   },
   "file_extension": ".py",
   "mimetype": "text/x-python",
   "name": "python",
   "nbconvert_exporter": "python",
   "pygments_lexer": "ipython3",
   "version": "3.8.5"
  }
 },
 "nbformat": 4,
 "nbformat_minor": 4
}

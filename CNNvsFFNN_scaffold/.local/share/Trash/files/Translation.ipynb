{
 "cells": [
  {
   "cell_type": "code",
   "execution_count": 2,
   "metadata": {},
   "outputs": [],
   "source": [
    "import tensorflow as tf\n",
    "from tensorflow.keras.models import Sequential\n",
    "from tensorflow.keras.layers import Dense, Conv2D, MaxPool2D, Flatten, Input\n",
    "import numpy as np\n",
    "from matplotlib import pyplot as plt\n",
    "import helper #courtesy of CS109B"
   ]
  },
  {
   "cell_type": "code",
   "execution_count": 3,
   "metadata": {},
   "outputs": [],
   "source": [
    "# Ensure reproducible results\n",
    "np.random.seed(109)\n",
    "tf.random.set_seed(109)"
   ]
  },
  {
   "cell_type": "markdown",
   "metadata": {},
   "source": [
    "### Image Generator"
   ]
  },
  {
   "cell_type": "code",
   "execution_count": 4,
   "metadata": {},
   "outputs": [
    {
     "name": "stdout",
     "output_type": "stream",
     "text": [
      "Found 4006 images belonging to 2 classes.\n"
     ]
    }
   ],
   "source": [
    "img_generator = helper.get_generator()"
   ]
  },
  {
   "cell_type": "code",
   "execution_count": 5,
   "metadata": {},
   "outputs": [
    {
     "name": "stdout",
     "output_type": "stream",
     "text": [
      "Generator produces images of size (150, 150) (with 3 color channels)\n"
     ]
    }
   ],
   "source": [
    "TARGET_SIZE = img_generator.target_size\n",
    "print(f'Generator produces images of size {TARGET_SIZE} (with 3 color channels)')"
   ]
  },
  {
   "cell_type": "code",
   "execution_count": 6,
   "metadata": {},
   "outputs": [
    {
     "name": "stdout",
     "output_type": "stream",
     "text": [
      "Images are generated in batches of size 16\n"
     ]
    }
   ],
   "source": [
    "BATCH_SIZE = img_generator.batch_size\n",
    "print(f'Images are generated in batches of size {BATCH_SIZE}')"
   ]
  },
  {
   "cell_type": "markdown",
   "metadata": {},
   "source": [
    "### Feed-Forward Neural Network"
   ]
  },
  {
   "cell_type": "code",
   "execution_count": 7,
   "metadata": {},
   "outputs": [
    {
     "name": "stdout",
     "output_type": "stream",
     "text": [
      "Model: \"sequential\"\n",
      "_________________________________________________________________\n",
      "Layer (type)                 Output Shape              Param #   \n",
      "=================================================================\n",
      "flatten (Flatten)            (None, 67500)             0         \n",
      "_________________________________________________________________\n",
      "dense (Dense)                (None, 400)               27000400  \n",
      "_________________________________________________________________\n",
      "dense_1 (Dense)              (None, 128)               51328     \n",
      "_________________________________________________________________\n",
      "dense_2 (Dense)              (None, 1)                 129       \n",
      "=================================================================\n",
      "Total params: 27,051,857\n",
      "Trainable params: 27,051,857\n",
      "Non-trainable params: 0\n",
      "_________________________________________________________________\n"
     ]
    }
   ],
   "source": [
    "FFNN = Sequential()\n",
    "FFNN.add(Flatten(input_shape=(150, 150, 3))) # compare input_shape to TARGET_SIZE above\n",
    "# specify a list of n_nodes for each dense layer [x,y,z,..] where x,y,z are ints\n",
    "for n_nodes in [400, 128]:\n",
    "    FFNN.add(Dense(n_nodes, activation='relu'))\n",
    "FFNN.add(Dense(1, activation='sigmoid'))\n",
    "\n",
    "FFNN.compile(loss='binary_crossentropy', metrics=['accuracy'])\n",
    "FFNN.summary()"
   ]
  },
  {
   "cell_type": "code",
   "execution_count": 8,
   "metadata": {},
   "outputs": [
    {
     "name": "stdout",
     "output_type": "stream",
     "text": [
      "Train for 9 steps, validate for 3 steps\n",
      "Epoch 1/10\n",
      "9/9 [==============================] - 5s 575ms/step - loss: 68.7832 - accuracy: 0.5417 - val_loss: 24.0071 - val_accuracy: 0.6250\n",
      "Epoch 2/10\n",
      "9/9 [==============================] - 4s 423ms/step - loss: 25.5466 - accuracy: 0.5347 - val_loss: 8.1561 - val_accuracy: 0.6250\n",
      "Epoch 3/10\n",
      "9/9 [==============================] - 4s 402ms/step - loss: 14.9018 - accuracy: 0.4236 - val_loss: 7.4195 - val_accuracy: 0.6250\n",
      "Epoch 4/10\n",
      "9/9 [==============================] - 4s 407ms/step - loss: 5.7613 - accuracy: 0.5694 - val_loss: 4.4644 - val_accuracy: 0.6250\n",
      "Epoch 5/10\n",
      "9/9 [==============================] - 4s 406ms/step - loss: 7.0789 - accuracy: 0.5486 - val_loss: 8.7840 - val_accuracy: 0.6250\n",
      "Epoch 6/10\n",
      "9/9 [==============================] - 5s 547ms/step - loss: 7.6460 - accuracy: 0.4861 - val_loss: 3.8246 - val_accuracy: 0.3750\n",
      "Epoch 7/10\n",
      "9/9 [==============================] - 6s 643ms/step - loss: 5.2406 - accuracy: 0.5972 - val_loss: 2.4520 - val_accuracy: 0.4792\n",
      "Epoch 8/10\n",
      "9/9 [==============================] - 5s 545ms/step - loss: 3.1449 - accuracy: 0.5556 - val_loss: 2.1246 - val_accuracy: 0.6250\n",
      "Epoch 9/10\n",
      "9/9 [==============================] - 9s 973ms/step - loss: 1.4019 - accuracy: 0.7847 - val_loss: 0.2038 - val_accuracy: 0.8958\n",
      "Epoch 10/10\n",
      "9/9 [==============================] - 4s 487ms/step - loss: 2.0945 - accuracy: 0.7569 - val_loss: 3.5448 - val_accuracy: 0.3750\n"
     ]
    }
   ],
   "source": [
    "FFNN_history = FFNN.fit(\n",
    "        img_generator,\n",
    "        steps_per_epoch=150// BATCH_SIZE,\n",
    "        epochs=10,\n",
    "        validation_data=img_generator,\n",
    "        validation_steps=50// BATCH_SIZE)"
   ]
  },
  {
   "cell_type": "code",
   "execution_count": 9,
   "metadata": {},
   "outputs": [
    {
     "name": "stdout",
     "output_type": "stream",
     "text": [
      "20/20 [==============================] - 4s 201ms/step - loss: 2.5096 - accuracy: 0.4531\n",
      "FFNN Test Accuracy: 0.453125\n"
     ]
    }
   ],
   "source": [
    "_, FFNN_acc = FFNN.evaluate(img_generator, steps=20)\n",
    "print(f'FFNN Test Accuracy: {FFNN_acc}')"
   ]
  },
  {
   "cell_type": "markdown",
   "metadata": {},
   "source": [
    "### CNN"
   ]
  },
  {
   "cell_type": "code",
   "execution_count": 10,
   "metadata": {},
   "outputs": [
    {
     "name": "stdout",
     "output_type": "stream",
     "text": [
      "Model: \"sequential_1\"\n",
      "_________________________________________________________________\n",
      "Layer (type)                 Output Shape              Param #   \n",
      "=================================================================\n",
      "conv2d (Conv2D)              (None, 148, 148, 4)       112       \n",
      "_________________________________________________________________\n",
      "max_pooling2d (MaxPooling2D) (None, 74, 74, 4)         0         \n",
      "_________________________________________________________________\n",
      "conv2d_1 (Conv2D)            (None, 72, 72, 8)         296       \n",
      "_________________________________________________________________\n",
      "max_pooling2d_1 (MaxPooling2 (None, 36, 36, 8)         0         \n",
      "_________________________________________________________________\n",
      "conv2d_2 (Conv2D)            (None, 34, 34, 16)        1168      \n",
      "_________________________________________________________________\n",
      "max_pooling2d_2 (MaxPooling2 (None, 17, 17, 16)        0         \n",
      "_________________________________________________________________\n",
      "conv2d_3 (Conv2D)            (None, 15, 15, 32)        4640      \n",
      "_________________________________________________________________\n",
      "max_pooling2d_3 (MaxPooling2 (None, 7, 7, 32)          0         \n",
      "_________________________________________________________________\n",
      "conv2d_4 (Conv2D)            (None, 5, 5, 64)          18496     \n",
      "_________________________________________________________________\n",
      "max_pooling2d_4 (MaxPooling2 (None, 2, 2, 64)          0         \n",
      "_________________________________________________________________\n",
      "flatten_1 (Flatten)          (None, 256)               0         \n",
      "_________________________________________________________________\n",
      "dense_3 (Dense)              (None, 64)                16448     \n",
      "_________________________________________________________________\n",
      "dense_4 (Dense)              (None, 1)                 65        \n",
      "=================================================================\n",
      "Total params: 41,225\n",
      "Trainable params: 41,225\n",
      "Non-trainable params: 0\n",
      "_________________________________________________________________\n"
     ]
    }
   ],
   "source": [
    "CNN = Sequential()\n",
    "CNN.add(Input(shape=(150, 150, 3)))\n",
    "for n_filters in [4,8,16,32, 64]:\n",
    "    CNN.add(Conv2D(n_filters, kernel_size=3, activation='relu'))\n",
    "    CNN.add(MaxPool2D())\n",
    "CNN.add(Flatten())\n",
    "CNN.add(Dense(64, activation='relu'))\n",
    "CNN.add(Dense(1, activation='sigmoid'))\n",
    "    \n",
    "CNN.compile(loss='binary_crossentropy', metrics=['accuracy'])\n",
    "CNN.summary()"
   ]
  },
  {
   "cell_type": "code",
   "execution_count": 11,
   "metadata": {},
   "outputs": [
    {
     "name": "stdout",
     "output_type": "stream",
     "text": [
      "Train for 9 steps, validate for 3 steps\n",
      "Epoch 1/10\n",
      "9/9 [==============================] - 11s 1s/step - loss: 0.6929 - accuracy: 0.5417 - val_loss: 0.6704 - val_accuracy: 0.7708\n",
      "Epoch 2/10\n",
      "9/9 [==============================] - 18s 2s/step - loss: 0.6601 - accuracy: 0.6944 - val_loss: 0.5980 - val_accuracy: 0.7500\n",
      "Epoch 3/10\n",
      "9/9 [==============================] - 5s 562ms/step - loss: 0.4786 - accuracy: 0.8125 - val_loss: 0.7353 - val_accuracy: 0.5000\n",
      "Epoch 4/10\n",
      "9/9 [==============================] - 9s 1s/step - loss: 0.3897 - accuracy: 0.8264 - val_loss: 0.1859 - val_accuracy: 0.9375\n",
      "Epoch 5/10\n",
      "9/9 [==============================] - 8s 908ms/step - loss: 0.2325 - accuracy: 0.9236 - val_loss: 0.0572 - val_accuracy: 1.0000\n",
      "Epoch 6/10\n",
      "9/9 [==============================] - 4s 450ms/step - loss: 0.1227 - accuracy: 0.9583 - val_loss: 0.1126 - val_accuracy: 0.9583\n",
      "Epoch 7/10\n",
      "9/9 [==============================] - 4s 452ms/step - loss: 0.1199 - accuracy: 0.9583 - val_loss: 0.0667 - val_accuracy: 1.0000\n",
      "Epoch 8/10\n",
      "9/9 [==============================] - 4s 460ms/step - loss: 0.0691 - accuracy: 0.9792 - val_loss: 0.0333 - val_accuracy: 1.0000\n",
      "Epoch 9/10\n",
      "9/9 [==============================] - 4s 445ms/step - loss: 0.0296 - accuracy: 0.9931 - val_loss: 0.0412 - val_accuracy: 0.9792\n",
      "Epoch 10/10\n",
      "9/9 [==============================] - 4s 392ms/step - loss: 0.1089 - accuracy: 0.9722 - val_loss: 0.0174 - val_accuracy: 1.0000\n"
     ]
    }
   ],
   "source": [
    "CNN_history = CNN.fit(\n",
    "        img_generator,\n",
    "        steps_per_epoch=150 // BATCH_SIZE,\n",
    "        epochs=10,\n",
    "        validation_data=img_generator,\n",
    "        validation_steps=50// BATCH_SIZE)\n",
    "CNN.save_weights('second_try.h5')  # always save your weights after training or during training"
   ]
  },
  {
   "cell_type": "code",
   "execution_count": 12,
   "metadata": {},
   "outputs": [
    {
     "name": "stdout",
     "output_type": "stream",
     "text": [
      "20/20 [==============================] - 4s 194ms/step - loss: 0.0186 - accuracy: 1.0000\n",
      "CNN Test Accuracy: 1.0\n"
     ]
    }
   ],
   "source": [
    "_, CNN_acc = CNN.evaluate(img_generator, steps=20)\n",
    "print(f'CNN Test Accuracy: {CNN_acc}')"
   ]
  },
  {
   "cell_type": "code",
   "execution_count": null,
   "metadata": {},
   "outputs": [],
   "source": []
  }
 ],
 "metadata": {
  "kernelspec": {
   "display_name": "Python 3",
   "language": "python",
   "name": "python3"
  },
  "language_info": {
   "codemirror_mode": {
    "name": "ipython",
    "version": 3
   },
   "file_extension": ".py",
   "mimetype": "text/x-python",
   "name": "python",
   "nbconvert_exporter": "python",
   "pygments_lexer": "ipython3",
   "version": "3.7.6"
  }
 },
 "nbformat": 4,
 "nbformat_minor": 4
}

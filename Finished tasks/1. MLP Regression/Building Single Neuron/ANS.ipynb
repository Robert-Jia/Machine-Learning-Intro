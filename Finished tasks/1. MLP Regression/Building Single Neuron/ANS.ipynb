{
    "metadata": {
        "kernelspec": {
            "name": "python3",
            "display_name": "Python 3 (ipykernel)",
            "language": "python"
        }
    },
    "nbformat": 4,
    "nbformat_minor": 4,
    "cells": [
        {
            "cell_type": "code",
            "execution_count": 3,
            "metadata": {},
            "outputs": [],
            "source": [
                "# Import necessary libraries\n",
                "import numpy as np\n",
                "import pandas as pd\n",
                "import matplotlib.pyplot as plt\n",
                "%matplotlib inline\n",
                ""
            ]
        },
        {
            "cell_type": "code",
            "execution_count": 4,
            "metadata": {},
            "outputs": [
                {
                    "data": {
                        "text/html": "\u003cdiv\u003e\n\u003cstyle scoped\u003e\n    .dataframe tbody tr th:only-of-type {\n        vertical-align: middle;\n    }\n\n    .dataframe tbody tr th {\n        vertical-align: top;\n    }\n\n    .dataframe thead th {\n        text-align: right;\n    }\n\u003c/style\u003e\n\u003ctable border=\"1\" class=\"dataframe\"\u003e\n  \u003cthead\u003e\n    \u003ctr style=\"text-align: right;\"\u003e\n      \u003cth\u003e\u003c/th\u003e\n      \u003cth\u003eAge\u003c/th\u003e\n      \u003cth\u003eSex\u003c/th\u003e\n      \u003cth\u003eChestPain\u003c/th\u003e\n      \u003cth\u003eRestBP\u003c/th\u003e\n      \u003cth\u003eChol\u003c/th\u003e\n      \u003cth\u003eFbs\u003c/th\u003e\n      \u003cth\u003eRestECG\u003c/th\u003e\n      \u003cth\u003eMaxHR\u003c/th\u003e\n      \u003cth\u003eExAng\u003c/th\u003e\n      \u003cth\u003eOldpeak\u003c/th\u003e\n      \u003cth\u003eSlope\u003c/th\u003e\n      \u003cth\u003eCa\u003c/th\u003e\n      \u003cth\u003eThal\u003c/th\u003e\n      \u003cth\u003eAHD\u003c/th\u003e\n    \u003c/tr\u003e\n  \u003c/thead\u003e\n  \u003ctbody\u003e\n    \u003ctr\u003e\n      \u003cth\u003e1\u003c/th\u003e\n      \u003ctd\u003e63\u003c/td\u003e\n      \u003ctd\u003e1\u003c/td\u003e\n      \u003ctd\u003etypical\u003c/td\u003e\n      \u003ctd\u003e145\u003c/td\u003e\n      \u003ctd\u003e233\u003c/td\u003e\n      \u003ctd\u003e1\u003c/td\u003e\n      \u003ctd\u003e2\u003c/td\u003e\n      \u003ctd\u003e150\u003c/td\u003e\n      \u003ctd\u003e0\u003c/td\u003e\n      \u003ctd\u003e2.3\u003c/td\u003e\n      \u003ctd\u003e3\u003c/td\u003e\n      \u003ctd\u003e0.0\u003c/td\u003e\n      \u003ctd\u003efixed\u003c/td\u003e\n      \u003ctd\u003eNo\u003c/td\u003e\n    \u003c/tr\u003e\n    \u003ctr\u003e\n      \u003cth\u003e2\u003c/th\u003e\n      \u003ctd\u003e67\u003c/td\u003e\n      \u003ctd\u003e1\u003c/td\u003e\n      \u003ctd\u003easymptomatic\u003c/td\u003e\n      \u003ctd\u003e160\u003c/td\u003e\n      \u003ctd\u003e286\u003c/td\u003e\n      \u003ctd\u003e0\u003c/td\u003e\n      \u003ctd\u003e2\u003c/td\u003e\n      \u003ctd\u003e108\u003c/td\u003e\n      \u003ctd\u003e1\u003c/td\u003e\n      \u003ctd\u003e1.5\u003c/td\u003e\n      \u003ctd\u003e2\u003c/td\u003e\n      \u003ctd\u003e3.0\u003c/td\u003e\n      \u003ctd\u003enormal\u003c/td\u003e\n      \u003ctd\u003eYes\u003c/td\u003e\n    \u003c/tr\u003e\n    \u003ctr\u003e\n      \u003cth\u003e3\u003c/th\u003e\n      \u003ctd\u003e67\u003c/td\u003e\n      \u003ctd\u003e1\u003c/td\u003e\n      \u003ctd\u003easymptomatic\u003c/td\u003e\n      \u003ctd\u003e120\u003c/td\u003e\n      \u003ctd\u003e229\u003c/td\u003e\n      \u003ctd\u003e0\u003c/td\u003e\n      \u003ctd\u003e2\u003c/td\u003e\n      \u003ctd\u003e129\u003c/td\u003e\n      \u003ctd\u003e1\u003c/td\u003e\n      \u003ctd\u003e2.6\u003c/td\u003e\n      \u003ctd\u003e2\u003c/td\u003e\n      \u003ctd\u003e2.0\u003c/td\u003e\n      \u003ctd\u003ereversable\u003c/td\u003e\n      \u003ctd\u003eYes\u003c/td\u003e\n    \u003c/tr\u003e\n    \u003ctr\u003e\n      \u003cth\u003e4\u003c/th\u003e\n      \u003ctd\u003e37\u003c/td\u003e\n      \u003ctd\u003e1\u003c/td\u003e\n      \u003ctd\u003enonanginal\u003c/td\u003e\n      \u003ctd\u003e130\u003c/td\u003e\n      \u003ctd\u003e250\u003c/td\u003e\n      \u003ctd\u003e0\u003c/td\u003e\n      \u003ctd\u003e0\u003c/td\u003e\n      \u003ctd\u003e187\u003c/td\u003e\n      \u003ctd\u003e0\u003c/td\u003e\n      \u003ctd\u003e3.5\u003c/td\u003e\n      \u003ctd\u003e3\u003c/td\u003e\n      \u003ctd\u003e0.0\u003c/td\u003e\n      \u003ctd\u003enormal\u003c/td\u003e\n      \u003ctd\u003eNo\u003c/td\u003e\n    \u003c/tr\u003e\n    \u003ctr\u003e\n      \u003cth\u003e5\u003c/th\u003e\n      \u003ctd\u003e41\u003c/td\u003e\n      \u003ctd\u003e0\u003c/td\u003e\n      \u003ctd\u003enontypical\u003c/td\u003e\n      \u003ctd\u003e130\u003c/td\u003e\n      \u003ctd\u003e204\u003c/td\u003e\n      \u003ctd\u003e0\u003c/td\u003e\n      \u003ctd\u003e2\u003c/td\u003e\n      \u003ctd\u003e172\u003c/td\u003e\n      \u003ctd\u003e0\u003c/td\u003e\n      \u003ctd\u003e1.4\u003c/td\u003e\n      \u003ctd\u003e1\u003c/td\u003e\n      \u003ctd\u003e0.0\u003c/td\u003e\n      \u003ctd\u003enormal\u003c/td\u003e\n      \u003ctd\u003eNo\u003c/td\u003e\n    \u003c/tr\u003e\n  \u003c/tbody\u003e\n\u003c/table\u003e\n\u003c/div\u003e",
                        "text/plain": "   Age  Sex     ChestPain  RestBP  Chol  Fbs  RestECG  MaxHR  ExAng  Oldpeak  \\\n1   63    1       typical     145   233    1        2    150      0      2.3   \n2   67    1  asymptomatic     160   286    0        2    108      1      1.5   \n3   67    1  asymptomatic     120   229    0        2    129      1      2.6   \n4   37    1    nonanginal     130   250    0        0    187      0      3.5   \n5   41    0    nontypical     130   204    0        2    172      0      1.4   \n\n   Slope   Ca        Thal  AHD  \n1      3  0.0       fixed   No  \n2      2  3.0      normal  Yes  \n3      2  2.0  reversable  Yes  \n4      3  0.0      normal   No  \n5      1  0.0      normal   No  "
                    },
                    "execution_count": 4,
                    "metadata": {},
                    "output_type": "execute_result"
                }
            ],
            "source": [
                "# Read the dataset\n",
                "heart_data = pd.read_csv('data/Heart.csv', index_col=0)\n",
                "\n",
                "# Take a quick look at the dataframe\n",
                "heart_data.head()\n",
                ""
            ]
        },
        {
            "cell_type": "code",
            "execution_count": 5,
            "metadata": {},
            "outputs": [],
            "source": [
                "# Assign Max Heart Rate as the predictor\n",
                "x = heart_data.MaxHR\n",
                "\n",
                "# Assign AHD as the response variable\n",
                "# Replace the string column values to 0 and 1\n",
                "\n",
                "y = heart_data[\"AHD\"].replace(('Yes', 'No'), (1, 0), inplace=True)\n",
                ""
            ]
        },
        {
            "cell_type": "code",
            "execution_count": 6,
            "metadata": {},
            "outputs": [],
            "source": [
                "x = x.to_numpy()"
            ]
        },
        {
            "cell_type": "code",
            "execution_count": 45,
            "metadata": {},
            "outputs": [
                {
                    "data": {
                        "text/plain": "array([150., 108., 129., 187., 172., 178., 160., 163., 147., 155., 148.,\n       153., 142., 173., 162., 174., 168., 160., 139., 171., 144., 162.,\n       160., 173., 132., 158., 172., 114., 171., 114., 151., 160., 158.,\n       161., 179., 178., 120., 112., 132., 137., 114., 178., 162., 157.,\n       169., 165., 123., 128., 157., 152., 168., 140., 153., 188., 144.,\n       109., 163., 158., 152., 125., 142., 160., 131., 170., 113., 142.,\n       155., 165., 140., 147., 148., 163.,  99., 158., 177., 151., 141.,\n       142., 180., 111., 148., 143., 182., 150., 172., 180., 156., 115.,\n       160., 149., 151., 145., 146., 175., 172., 161., 142., 157., 158.,\n       186., 185., 174., 159., 130., 139., 156., 162., 150., 140., 140.,\n       146., 144., 190., 136.,  97., 132., 165., 182., 132., 127., 150.,\n       154., 143., 111., 174., 175., 133., 126., 170., 163., 147., 154.,\n       202., 186., 165., 161., 125., 103., 130., 166., 164., 159., 184.,\n       131., 154., 152., 124., 179., 170., 160., 178., 122., 160., 145.,\n        96., 109., 173., 171., 170., 151., 156., 162., 158., 122., 175.,\n       168., 169., 159., 156., 138., 112., 111., 143., 157., 132.,  88.,\n       147., 105., 162., 173., 166., 150., 178., 145., 161., 179., 194.,\n       120., 195., 146., 163., 122., 143., 106., 115., 125., 131., 152.,\n       162., 125., 159., 154., 173., 133., 161., 147., 130., 126., 155.,\n       154., 170., 182., 168., 165., 160., 162., 172., 152., 122., 182.,\n       172., 167., 179.,  95., 169., 192., 143., 172., 108., 132., 169.,\n       117., 126., 121., 163., 116., 103., 144., 162., 162., 153., 163.,\n       163., 145.,  96.,  71., 156., 118., 168., 140., 126., 105., 105.,\n       157., 181., 173., 142., 116., 143., 141., 149., 152., 171., 169.,\n       125., 125., 156., 134., 181., 150., 138., 138., 120., 125., 162.,\n       155., 152., 152., 164., 131., 143., 179., 130., 174., 161., 140.,\n       146., 144., 163., 169., 150., 166., 144., 144., 136., 182.,  90.,\n       123., 132., 141., 115., 174., 173.])"
                    },
                    "execution_count": 45,
                    "metadata": {},
                    "output_type": "execute_result"
                }
            ],
            "source": [
                "x"
            ]
        },
        {
            "cell_type": "code",
            "execution_count": 7,
            "metadata": {},
            "outputs": [],
            "source": [
                "y = heart_data.AHD"
            ]
        },
        {
            "cell_type": "code",
            "execution_count": 8,
            "metadata": {},
            "outputs": [
                {
                    "data": {
                        "text/html": "\u003cdiv\u003e\n\u003cstyle scoped\u003e\n    .dataframe tbody tr th:only-of-type {\n        vertical-align: middle;\n    }\n\n    .dataframe tbody tr th {\n        vertical-align: top;\n    }\n\n    .dataframe thead th {\n        text-align: right;\n    }\n\u003c/style\u003e\n\u003ctable border=\"1\" class=\"dataframe\"\u003e\n  \u003cthead\u003e\n    \u003ctr style=\"text-align: right;\"\u003e\n      \u003cth\u003e\u003c/th\u003e\n      \u003cth\u003eAge\u003c/th\u003e\n      \u003cth\u003eSex\u003c/th\u003e\n      \u003cth\u003eChestPain\u003c/th\u003e\n      \u003cth\u003eRestBP\u003c/th\u003e\n      \u003cth\u003eChol\u003c/th\u003e\n      \u003cth\u003eFbs\u003c/th\u003e\n      \u003cth\u003eRestECG\u003c/th\u003e\n      \u003cth\u003eMaxHR\u003c/th\u003e\n      \u003cth\u003eExAng\u003c/th\u003e\n      \u003cth\u003eOldpeak\u003c/th\u003e\n      \u003cth\u003eSlope\u003c/th\u003e\n      \u003cth\u003eCa\u003c/th\u003e\n      \u003cth\u003eThal\u003c/th\u003e\n      \u003cth\u003eAHD\u003c/th\u003e\n    \u003c/tr\u003e\n  \u003c/thead\u003e\n  \u003ctbody\u003e\n    \u003ctr\u003e\n      \u003cth\u003e1\u003c/th\u003e\n      \u003ctd\u003e63\u003c/td\u003e\n      \u003ctd\u003e1\u003c/td\u003e\n      \u003ctd\u003etypical\u003c/td\u003e\n      \u003ctd\u003e145\u003c/td\u003e\n      \u003ctd\u003e233\u003c/td\u003e\n      \u003ctd\u003e1\u003c/td\u003e\n      \u003ctd\u003e2\u003c/td\u003e\n      \u003ctd\u003e150\u003c/td\u003e\n      \u003ctd\u003e0\u003c/td\u003e\n      \u003ctd\u003e2.3\u003c/td\u003e\n      \u003ctd\u003e3\u003c/td\u003e\n      \u003ctd\u003e0.0\u003c/td\u003e\n      \u003ctd\u003efixed\u003c/td\u003e\n      \u003ctd\u003e0\u003c/td\u003e\n    \u003c/tr\u003e\n    \u003ctr\u003e\n      \u003cth\u003e2\u003c/th\u003e\n      \u003ctd\u003e67\u003c/td\u003e\n      \u003ctd\u003e1\u003c/td\u003e\n      \u003ctd\u003easymptomatic\u003c/td\u003e\n      \u003ctd\u003e160\u003c/td\u003e\n      \u003ctd\u003e286\u003c/td\u003e\n      \u003ctd\u003e0\u003c/td\u003e\n      \u003ctd\u003e2\u003c/td\u003e\n      \u003ctd\u003e108\u003c/td\u003e\n      \u003ctd\u003e1\u003c/td\u003e\n      \u003ctd\u003e1.5\u003c/td\u003e\n      \u003ctd\u003e2\u003c/td\u003e\n      \u003ctd\u003e3.0\u003c/td\u003e\n      \u003ctd\u003enormal\u003c/td\u003e\n      \u003ctd\u003e1\u003c/td\u003e\n    \u003c/tr\u003e\n    \u003ctr\u003e\n      \u003cth\u003e3\u003c/th\u003e\n      \u003ctd\u003e67\u003c/td\u003e\n      \u003ctd\u003e1\u003c/td\u003e\n      \u003ctd\u003easymptomatic\u003c/td\u003e\n      \u003ctd\u003e120\u003c/td\u003e\n      \u003ctd\u003e229\u003c/td\u003e\n      \u003ctd\u003e0\u003c/td\u003e\n      \u003ctd\u003e2\u003c/td\u003e\n      \u003ctd\u003e129\u003c/td\u003e\n      \u003ctd\u003e1\u003c/td\u003e\n      \u003ctd\u003e2.6\u003c/td\u003e\n      \u003ctd\u003e2\u003c/td\u003e\n      \u003ctd\u003e2.0\u003c/td\u003e\n      \u003ctd\u003ereversable\u003c/td\u003e\n      \u003ctd\u003e1\u003c/td\u003e\n    \u003c/tr\u003e\n    \u003ctr\u003e\n      \u003cth\u003e4\u003c/th\u003e\n      \u003ctd\u003e37\u003c/td\u003e\n      \u003ctd\u003e1\u003c/td\u003e\n      \u003ctd\u003enonanginal\u003c/td\u003e\n      \u003ctd\u003e130\u003c/td\u003e\n      \u003ctd\u003e250\u003c/td\u003e\n      \u003ctd\u003e0\u003c/td\u003e\n      \u003ctd\u003e0\u003c/td\u003e\n      \u003ctd\u003e187\u003c/td\u003e\n      \u003ctd\u003e0\u003c/td\u003e\n      \u003ctd\u003e3.5\u003c/td\u003e\n      \u003ctd\u003e3\u003c/td\u003e\n      \u003ctd\u003e0.0\u003c/td\u003e\n      \u003ctd\u003enormal\u003c/td\u003e\n      \u003ctd\u003e0\u003c/td\u003e\n    \u003c/tr\u003e\n    \u003ctr\u003e\n      \u003cth\u003e5\u003c/th\u003e\n      \u003ctd\u003e41\u003c/td\u003e\n      \u003ctd\u003e0\u003c/td\u003e\n      \u003ctd\u003enontypical\u003c/td\u003e\n      \u003ctd\u003e130\u003c/td\u003e\n      \u003ctd\u003e204\u003c/td\u003e\n      \u003ctd\u003e0\u003c/td\u003e\n      \u003ctd\u003e2\u003c/td\u003e\n      \u003ctd\u003e172\u003c/td\u003e\n      \u003ctd\u003e0\u003c/td\u003e\n      \u003ctd\u003e1.4\u003c/td\u003e\n      \u003ctd\u003e1\u003c/td\u003e\n      \u003ctd\u003e0.0\u003c/td\u003e\n      \u003ctd\u003enormal\u003c/td\u003e\n      \u003ctd\u003e0\u003c/td\u003e\n    \u003c/tr\u003e\n  \u003c/tbody\u003e\n\u003c/table\u003e\n\u003c/div\u003e",
                        "text/plain": "   Age  Sex     ChestPain  RestBP  Chol  Fbs  RestECG  MaxHR  ExAng  Oldpeak  \\\n1   63    1       typical     145   233    1        2    150      0      2.3   \n2   67    1  asymptomatic     160   286    0        2    108      1      1.5   \n3   67    1  asymptomatic     120   229    0        2    129      1      2.6   \n4   37    1    nonanginal     130   250    0        0    187      0      3.5   \n5   41    0    nontypical     130   204    0        2    172      0      1.4   \n\n   Slope   Ca        Thal  AHD  \n1      3  0.0       fixed    0  \n2      2  3.0      normal    1  \n3      2  2.0  reversable    1  \n4      3  0.0      normal    0  \n5      1  0.0      normal    0  "
                    },
                    "execution_count": 8,
                    "metadata": {},
                    "output_type": "execute_result"
                }
            ],
            "source": [
                "heart_data.head()"
            ]
        },
        {
            "cell_type": "code",
            "execution_count": 9,
            "metadata": {},
            "outputs": [],
            "source": [
                "y=y.to_numpy()"
            ]
        },
        {
            "cell_type": "code",
            "execution_count": 10,
            "metadata": {},
            "outputs": [],
            "source": [
                "y = y.astype(int)"
            ]
        },
        {
            "cell_type": "code",
            "execution_count": 11,
            "metadata": {},
            "outputs": [
                {
                    "data": {
                        "text/plain": "array([0, 1, 1, 0, 0, 0, 1, 0, 1, 1, 0, 0, 1, 0, 0, 0, 1, 0, 0, 0, 0, 0,\n       1, 1, 1, 0, 0, 0, 0, 1, 0, 1, 1, 0, 0, 0, 1, 1, 1, 0, 1, 0, 0, 0,\n       1, 1, 0, 1, 0, 0, 0, 0, 1, 0, 1, 1, 1, 1, 0, 0, 1, 0, 1, 0, 1, 1,\n       1, 0, 1, 1, 0, 1, 1, 1, 1, 0, 1, 0, 0, 1, 0, 0, 0, 1, 0, 0, 0, 0,\n       0, 0, 0, 1, 0, 0, 0, 1, 1, 1, 0, 0, 0, 0, 0, 0, 1, 0, 1, 1, 1, 1,\n       1, 1, 0, 1, 1, 0, 0, 0, 1, 1, 1, 1, 0, 1, 1, 0, 1, 1, 0, 0, 0, 0,\n       0, 0, 0, 0, 1, 1, 1, 0, 0, 1, 0, 1, 0, 1, 1, 0, 0, 0, 0, 0, 0, 1,\n       1, 1, 1, 1, 1, 0, 0, 1, 0, 0, 0, 0, 0, 0, 1, 0, 1, 0, 1, 0, 1, 1,\n       0, 1, 0, 0, 1, 1, 0, 0, 1, 0, 0, 1, 1, 1, 0, 1, 1, 1, 0, 1, 0, 0,\n       0, 1, 0, 0, 0, 0, 0, 1, 1, 1, 0, 1, 0, 1, 0, 1, 1, 0, 0, 0, 0, 0,\n       0, 0, 0, 1, 1, 0, 0, 0, 1, 1, 0, 1, 1, 0, 0, 1, 1, 1, 0, 0, 0, 0,\n       0, 1, 0, 1, 1, 1, 1, 0, 0, 1, 0, 0, 0, 0, 0, 0, 0, 1, 0, 1, 0, 0,\n       1, 1, 1, 1, 1, 0, 1, 0, 1, 0, 1, 0, 0, 0, 1, 0, 1, 0, 1, 0, 1, 1,\n       1, 0, 0, 0, 1, 0, 1, 1, 1, 0, 1, 1, 1, 1, 1, 1, 0])"
                    },
                    "execution_count": 11,
                    "metadata": {},
                    "output_type": "execute_result"
                }
            ],
            "source": [
                "y"
            ]
        },
        {
            "cell_type": "code",
            "execution_count": 12,
            "metadata": {},
            "outputs": [
                {
                    "name": "stderr",
                    "output_type": "stream",
                    "text": "No artists with labels found to put in legend.  Note that artists whose label start with an underscore are ignored when legend() is called with no argument.\n"
                },
                {
                    "data": {
                        "text/plain": "\u003cmatplotlib.legend.Legend at 0x7f9251cd2650\u003e"
                    },
                    "execution_count": 12,
                    "metadata": {},
                    "output_type": "execute_result"
                },
                {
                    "data": {
                        "image/png": "[encoded data removed]",
                        "text/plain": "\u003cFigure size 432x288 with 1 Axes\u003e"
                    },
                    "metadata": {
                        "needs_background": "light"
                    },
                    "output_type": "display_data"
                }
            ],
            "source": [
                "# Plot the predictor and reponse vairables as a scatter plot \n",
                "# with appropriate axes label\n",
                "plt.scatter(x,y)\n",
                "plt.xlabel(\"MaxHR\")\n",
                "plt.ylabel(\"Heart Disease (AHD)\")\n",
                "plt.legend(loc='best') # ????Why need this line\n",
                ""
            ]
        },
        {
            "attachments": {},
            "cell_type": "markdown",
            "metadata": {},
            "source": [
                "### Construct the components of our percpetron."
            ]
        },
        {
            "cell_type": "code",
            "execution_count": 36,
            "metadata": {},
            "outputs": [],
            "source": [
                "### edTest(test_affine) ###\n",
                "\n",
                "# Function to perform affine transformation\n",
                "def affine(x, w, b):\n",
                "    \"\"\"Return affine transformation of x\n",
                "    \n",
                "    INPUTS\n",
                "    ======\n",
                "    x: A numpy array of points in x\n",
                "    w: A float representing the weight of the perceptron\n",
                "    b: A float representing the bias of the perceptron\n",
                "    \n",
                "    RETURN\n",
                "    ======\n",
                "    z: A numpy array of points after the affine transformation\n",
                "    \"\"\"\n",
                "    # This works for scalar values only\n",
                "    # Your code here\n",
                "    z = np.dot(x,w)+b\n",
                "    return z\n",
                ""
            ]
        },
        {
            "cell_type": "code",
            "execution_count": 16,
            "metadata": {},
            "outputs": [
                {
                    "data": {
                        "text/plain": "array([3, 3, 3, 3, 3, 3, 3, 3, 3, 3, 3, 3, 3, 3, 3, 3, 3, 3, 3, 3, 3, 3,\n       3, 3, 3, 3, 3, 3, 3, 3, 3, 3, 3, 3, 3, 3, 3, 3, 3, 3, 3, 3, 3, 3,\n       3, 3, 3, 3, 3, 3, 3, 3, 3, 3, 3, 3, 3, 3, 3, 3, 3, 3, 3, 3, 3, 3,\n       3, 3, 3, 3, 3, 3, 3, 3, 3, 3, 3, 3, 3, 3, 3, 3, 3, 3, 3, 3, 3, 3,\n       3, 3, 3, 3, 3, 3, 3, 3, 3, 3, 3, 3, 3, 3, 3, 3, 3, 3, 3, 3, 3, 3,\n       3, 3, 3, 3, 3, 3, 3, 3, 3, 3, 3, 3, 3, 3, 3, 3, 3, 3, 3, 3, 3, 3,\n       3, 3, 3, 3, 3, 3, 3, 3, 3, 3, 3, 3, 3, 3, 3, 3, 3, 3, 3, 3, 3, 3,\n       3, 3, 3, 3, 3, 3, 3, 3, 3, 3, 3, 3, 3, 3, 3, 3, 3, 3, 3, 3, 3, 3,\n       3, 3, 3, 3, 3, 3, 3, 3, 3, 3, 3, 3, 3, 3, 3, 3, 3, 3, 3, 3, 3, 3,\n       3, 3, 3, 3, 3, 3, 3, 3, 3, 3, 3, 3, 3, 3, 3, 3, 3, 3, 3, 3, 3, 3,\n       3, 3, 3, 3, 3, 3, 3, 3, 3, 3, 3, 3, 3, 3, 3, 3, 3, 3, 3, 3, 3, 3,\n       3, 3, 3, 3, 3, 3, 3, 3, 3, 3, 3, 3, 3, 3, 3, 3, 3, 3, 3, 3, 3, 3,\n       3, 3, 3, 3, 3, 3, 3, 3, 3, 3, 3, 3, 3, 3, 3, 3, 3, 3, 3, 3, 3, 3,\n       3, 3, 3, 3, 3, 3, 3, 3, 3, 3, 3, 3, 3, 3, 3, 3, 3])"
                    },
                    "execution_count": 16,
                    "metadata": {},
                    "output_type": "execute_result"
                }
            ],
            "source": [
                "np.dot(x,0)+3"
            ]
        },
        {
            "cell_type": "code",
            "execution_count": 41,
            "metadata": {},
            "outputs": [],
            "source": [
                "### edTest(test_sigmoid) ###\n",
                "\n",
                "# Function to apply sigmoid function on the parameter\n",
                "def sigmoid(z):\n",
                "    # Hint: numpy has an exponentiation function, np.exp()\n",
                "    \n",
                "    # Your code here\n",
                "    h = 1/(1+np.exp(-z))\n",
                "    return h\n",
                ""
            ]
        },
        {
            "cell_type": "code",
            "execution_count": 46,
            "metadata": {},
            "outputs": [
                {
                    "data": {
                        "text/plain": "array([ True,  True,  True,  True,  True,  True,  True,  True,  True,\n        True,  True,  True,  True,  True,  True,  True,  True,  True,\n        True,  True,  True,  True,  True,  True,  True,  True,  True,\n        True,  True,  True,  True,  True,  True,  True,  True,  True,\n        True,  True,  True,  True,  True,  True,  True,  True,  True,\n        True,  True,  True,  True,  True,  True,  True,  True,  True,\n        True,  True,  True,  True,  True,  True,  True,  True,  True,\n        True,  True,  True,  True,  True,  True,  True,  True,  True,\n        True,  True,  True,  True,  True,  True,  True,  True,  True,\n        True,  True,  True,  True,  True,  True,  True,  True,  True,\n        True,  True,  True,  True,  True,  True,  True,  True,  True,\n        True,  True,  True,  True,  True,  True,  True,  True,  True,\n        True,  True,  True,  True,  True,  True,  True,  True,  True,\n        True,  True,  True,  True,  True,  True,  True,  True,  True,\n        True,  True,  True,  True,  True,  True,  True,  True,  True,\n        True,  True,  True,  True,  True,  True,  True,  True,  True,\n        True,  True,  True,  True,  True,  True,  True,  True,  True,\n        True,  True,  True,  True,  True,  True,  True,  True,  True,\n        True,  True,  True,  True,  True,  True,  True,  True,  True,\n        True,  True,  True,  True,  True,  True,  True,  True,  True,\n        True,  True,  True,  True,  True,  True,  True,  True,  True,\n        True,  True,  True,  True,  True,  True,  True,  True,  True,\n        True,  True,  True,  True,  True,  True,  True,  True,  True,\n        True,  True,  True,  True,  True,  True,  True,  True,  True,\n        True,  True,  True,  True,  True,  True,  True,  True,  True,\n        True,  True,  True,  True,  True,  True,  True,  True,  True,\n        True,  True,  True,  True,  True,  True,  True,  True,  True,\n        True,  True,  True,  True,  True,  True,  True,  True,  True,\n        True,  True,  True,  True,  True,  True,  True,  True,  True,\n        True,  True,  True,  True,  True,  True,  True,  True,  True,\n        True,  True,  True,  True,  True,  True,  True,  True,  True,\n        True,  True,  True,  True,  True,  True,  True,  True,  True,\n        True,  True,  True,  True,  True,  True,  True,  True,  True,\n        True,  True,  True,  True,  True,  True])"
                    },
                    "execution_count": 46,
                    "metadata": {},
                    "output_type": "execute_result"
                }
            ],
            "source": [
                "1 / (1 + np.exp(-x))\u003e0.5"
            ]
        },
        {
            "cell_type": "code",
            "execution_count": 29,
            "metadata": {},
            "outputs": [],
            "source": [
                "x = x.astype(float)"
            ]
        },
        {
            "cell_type": "code",
            "execution_count": 30,
            "metadata": {},
            "outputs": [
                {
                    "data": {
                        "text/plain": "108.0"
                    },
                    "execution_count": 30,
                    "metadata": {},
                    "output_type": "execute_result"
                }
            ],
            "source": [
                ""
            ]
        },
        {
            "cell_type": "code",
            "execution_count": 38,
            "metadata": {},
            "outputs": [],
            "source": [
                "### edTest(test_neuron_predict) ###\n",
                "\n",
                "# Function to combine the previous operations\n",
                "def neuron_predict(x, w, b):\n",
                "\n",
                "    # Call the previous functions\n",
                "    # Your code here\n",
                "    temp = affine(x,w,b)\n",
                "    h = sigmoid(temp)\n",
                "    return h\n",
                "    "
            ]
        },
        {
            "attachments": {},
            "cell_type": "markdown",
            "metadata": {},
            "source": [
                "### Manually set the weight and bias parameters. \n",
                "\n",
                "Recall from lecture that the weight changes the slope of the sigmoid and the bias shifts the function to the left or right."
            ]
        },
        {
            "cell_type": "code",
            "execution_count": 82,
            "metadata": {},
            "outputs": [],
            "source": [
                "# Hint: Try values between -1 and 1\n",
                "w = -0.5\n",
                "\n",
                "# Hint: Try values between 50 and 100\n",
                "b = 75\n",
                ""
            ]
        },
        {
            "attachments": {},
            "cell_type": "markdown",
            "metadata": {},
            "source": [
                "#### Use the perceptron to make predictions and plot our results."
            ]
        },
        {
            "cell_type": "code",
            "execution_count": 84,
            "metadata": {},
            "outputs": [],
            "source": [
                "# The forward mode or predict of a single neuron\n",
                "\n",
                "# Create evenly spaced values of x to predict on\n",
                "x_linspace = np.linspace(x.min(),x.max(),500) \n",
                "h = neuron_predict(x_linspace,w, b)\n",
                ""
            ]
        },
        {
            "cell_type": "code",
            "execution_count": 85,
            "metadata": {},
            "outputs": [
                {
                    "data": {
                        "image/png": "[encoded data removed]",
                        "text/plain": "\u003cFigure size 792x504 with 1 Axes\u003e"
                    },
                    "metadata": {
                        "needs_background": "light"
                    },
                    "output_type": "display_data"
                }
            ],
            "source": [
                "# Plot Predictions\n",
                "fig, ax = plt.subplots(1,1, figsize=(11,7))\n",
                "ax.scatter(x, y, label=r'Heart Data', alpha=0.2)\n",
                "ax.plot(x_linspace, h, lw=2, c='orange', label=r'Single Neuron')\n",
                "\n",
                "# First value in x_linspace with a probability \u003c 0.5\n",
                "db = x_linspace[np.argmax(h\u003c0.5)] \n",
                "ax.axvline(x=db, alpha=0.3, linestyle='-.', c='r', label='Decision Boundary')\n",
                "\n",
                "# Proper plot labels are very important!\n",
                "\n",
                "# Make the tick labels big enough to read\n",
                "ax.tick_params(labelsize=16)\n",
                "plt.xlabel('MaxHR', fontsize=16)\n",
                "plt.ylabel('Heart Disease (AHD)', fontsize=16)\n",
                "\n",
                "# Create a legend and make it big enough to read\n",
                "ax.legend(fontsize=16, loc='best') \n",
                "plt.show()\n",
                ""
            ]
        },
        {
            "attachments": {},
            "cell_type": "markdown",
            "metadata": {},
            "source": [
                "One way to assess our perceptron model's performance is to look at the binary cross entropy loss."
            ]
        },
        {
            "cell_type": "code",
            "execution_count": 86,
            "metadata": {},
            "outputs": [],
            "source": [
                "def loss(y_true, y_pred, eps=1e-15):\n",
                "    assert y_true.shape[0] == y_pred.shape[0]\n",
                "    \n",
                "    # Clipping\n",
                "    y_pred = np.clip(y_pred, eps, 1 - eps)\n",
                "    return -sum(y_true*np.log(y_pred) + (1-y_true)*(np.log(1-y_pred)))"
            ]
        },
        {
            "cell_type": "code",
            "execution_count": 87,
            "metadata": {
                "scrolled": true
            },
            "outputs": [
                {
                    "name": "stdout",
                    "output_type": "stream",
                    "text": "693.0053846885196\n"
                }
            ],
            "source": [
                "## Print the loss of the single neuron model\n",
                "h = neuron_predict(x, w, b)\n",
                "print(loss(y, h))\n",
                ""
            ]
        },
        {
            "attachments": {},
            "cell_type": "markdown",
            "metadata": {},
            "source": [
                "To ensure our perceptron model is not trivial we need to compare its accuracy to a baseline which always predicts the majority class (i.e., no heart disease). Play with your weights above and rerun the notebook until you can outperform the baseline."
            ]
        },
        {
            "cell_type": "code",
            "execution_count": 69,
            "metadata": {},
            "outputs": [],
            "source": [
                "def accuracy(y_true, y_pred):\n",
                "    assert y_true.shape[0] == y_pred.shape[0]\n",
                "    return sum(y_true == (y_pred \u003e= 0.5).astype(int))/len(y_true)\n",
                "    "
            ]
        },
        {
            "cell_type": "code",
            "execution_count": 88,
            "metadata": {},
            "outputs": [
                {
                    "name": "stdout",
                    "output_type": "stream",
                    "text": "Baseline Accuracy: 45.87%\nPerceptron Accuracy: 70.30%\n"
                }
            ],
            "source": [
                "### edTest(test_performance) ###\n",
                "\n",
                "# For the baseline predictions are all ones\n",
                "baseline_acc = accuracy(y, np.ones(len(y))) \n",
                "perceptron_acc = accuracy(y, h)\n",
                "print(f'Baseline Accuracy: {baseline_acc:.2%}')\n",
                "print(f'Perceptron Accuracy: {perceptron_acc:.2%}')\n",
                ""
            ]
        }
    ]
}

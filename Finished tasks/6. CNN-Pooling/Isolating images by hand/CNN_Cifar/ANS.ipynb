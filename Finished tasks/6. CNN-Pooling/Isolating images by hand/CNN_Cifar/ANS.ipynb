{
  "metadata": {
    "kernelspec": {
      "name": "python3",
      "display_name": "Python 3 (ipykernel)",
      "language": "python"
    },
    "colab": {
      "name": "Copy of lab_scaffold.ipynb",
      "provenance": []
    },
    "accelerator": "GPU"
  },
  "nbformat": 4,
  "nbformat_minor": 0,
  "cells": [
    {
      "cell_type": "markdown",
      "metadata": {
        "id": "fF5SH23yGA34"
      },
      "source": [
        "# Training a CNN classifier - End to End"
      ]
    },
    {
      "cell_type": "code",
      "execution_count": 1,
      "metadata": {
        "id": "AuVdcCt-GA37"
      },
      "outputs": [],
      "source": [
        "# Import necessary libraries\n",
        "import numpy as np\n",
        "from sklearn.metrics import confusion_matrix\n",
        "import pandas as pd\n",
        "import seaborn as sns\n",
        "import matplotlib.pyplot as plt\n",
        "from matplotlib import cm\n",
        "%matplotlib inline\n",
        "\n",
        "import tensorflow as tf\n",
        "from tensorflow.keras.models import Sequential, Model\n",
        "from tensorflow.keras.layers import Dense, Dropout, Flatten, Activation\n",
        "from tensorflow.keras.layers import Conv2D, MaxPooling2D\n",
        "from tensorflow.keras.optimizers import Adam, SGD\n",
        "from tensorflow.keras.callbacks import EarlyStopping\n",
        "\n",
        "# Some imports for getting the CIFAR-10 dataset and for help with visualization*]\n",
        "from tensorflow.keras.datasets import cifar10\n",
        "from tensorflow.keras.utils import to_categorical\n"
      ]
    },
    {
      "cell_type": "code",
      "source": [
        "# Downloading the data\n",
        "!gdown 1Bsfrw9i5nlpnLEu-LOllM6KFxEw2zsR1\n",
        "!unzip cifar.zip"
      ],
      "metadata": {
        "id": "7s2acUURGER8",
        "colab": {
          "base_uri": "https://localhost:8080/"
        },
        "outputId": "f7a48c1e-9daf-4c07-dbf7-b84676966b8c"
      },
      "execution_count": 2,
      "outputs": [
        {
          "output_type": "stream",
          "name": "stdout",
          "text": [
            "Downloading...\n",
            "From: https://drive.google.com/uc?id=1Bsfrw9i5nlpnLEu-LOllM6KFxEw2zsR1\n",
            "To: /content/cifar.zip\n",
            "\r  0% 0.00/3.13M [00:00<?, ?B/s]\r100% 3.13M/3.13M [00:00<00:00, 145MB/s]\n",
            "Archive:  cifar.zip\n",
            "  inflating: cifar_ytest.npy         \n",
            "  inflating: cifar_mini_X.npy        \n",
            "  inflating: cifar_mini_y.npy        \n",
            "  inflating: cifar_Xtest.npy         \n"
          ]
        }
      ]
    },
    {
      "cell_type": "code",
      "execution_count": 4,
      "metadata": {
        "id": "LR_ItYyWGA38",
        "colab": {
          "base_uri": "https://localhost:8080/"
        },
        "outputId": "55d3f2aa-dc87-47a2-b7d9-98821fff0c83"
      },
      "outputs": [
        {
          "output_type": "stream",
          "name": "stdout",
          "text": [
            "(1000, 32, 32, 3) (1000, 1)\n"
          ]
        }
      ],
      "source": [
        "# Run this cell to load a subset of the cifar10dataset\n",
        "X_train = np.load('cifar_mini_X.npy')\n",
        "y_train = np.load('cifar_mini_y.npy')\n",
        "print(X_train.shape,y_train.shape)\n"
      ]
    },
    {
      "cell_type": "markdown",
      "metadata": {
        "id": "RaC0ymfnGA39"
      },
      "source": [
        "## Info on the dataset\n",
        "\n",
        "> The original CIFAR10 dataset consists of 50,000 images in the training set & an additional 10,000 images in the test set.\n",
        "\n",
        "Owning to the limitations of the platform, we will use *only* 1000 images for training set, and 100 images for the test set.\n",
        "However, you are encouraged to retrain the model with the original training set to get an improvement on your performance.\n",
        "Please find instructions to load the entire dataset [here](https://keras.io/api/datasets/cifar10/)"
      ]
    },
    {
      "cell_type": "code",
      "execution_count": 5,
      "metadata": {
        "id": "hXlZMU1uGA3-"
      },
      "outputs": [],
      "source": [
        "# Normalize images\n",
        "X_train = X_train/255.-0.5\n",
        "\n",
        "# Since we have 10 output labels, we specify that in 'to_categorical' function\n",
        "num_classes = 10\n",
        "y_train = to_categorical(y_train, num_classes)\n"
      ]
    },
    {
      "cell_type": "code",
      "source": [
        "y_train.shape"
      ],
      "metadata": {
        "colab": {
          "base_uri": "https://localhost:8080/"
        },
        "id": "na4xcNnsrU8F",
        "outputId": "35be42d4-8baa-4f8f-cf6d-213e64cbd153"
      },
      "execution_count": 6,
      "outputs": [
        {
          "output_type": "execute_result",
          "data": {
            "text/plain": [
              "(1000, 10)"
            ]
          },
          "metadata": {},
          "execution_count": 6
        }
      ]
    },
    {
      "cell_type": "code",
      "execution_count": 3,
      "metadata": {
        "id": "73jCv6yyGA3_"
      },
      "outputs": [],
      "source": [
        "# A dictionary to turn class index into class labels for CIFAR-10\n",
        "cifar10dict = {0 : 'airplane', 1 : 'automobile', 2 : 'bird', 3 : 'cat', 4 : \\\n",
        "               'deer', 5 : 'dog', 6 : 'frog', 7 : 'horse', 8 : 'ship', 9 : 'truck'}\n",
        "               "
      ]
    },
    {
      "cell_type": "code",
      "execution_count": 8,
      "metadata": {
        "id": "KFbZ1aMDGA3_",
        "outputId": "26206d20-3ef4-48d2-d273-5ae886049ae2",
        "colab": {
          "base_uri": "https://localhost:8080/",
          "height": 217
        }
      },
      "outputs": [
        {
          "output_type": "display_data",
          "data": {
            "text/plain": [
              "<Figure size 1440x720 with 5 Axes>"
            ],
            "image/png": "[encoded data removed]"
          },
          "metadata": {
            "needs_background": "light"
          }
        }
      ],
      "source": [
        "# Let's look at some sample images with their labels\n",
        "# Run the helper code below to plot the image and its label\n",
        "num_images = 5\n",
        "\n",
        "fig, ax = plt.subplots(1,num_images,figsize=(20,10))\n",
        "for i in range(num_images):\n",
        "    image_index = np.random.randint(0,1000)\n",
        "    img = (X_train[image_index] + 0.5)\n",
        "    ax[i].imshow(img)\n",
        "    label = cifar10dict[np.argmax(y_train[image_index],axis=-1)]\n",
        "    ax[i].set_title(f'Actual: {label}')\n",
        "    ax[i].axis('off')\n"
      ]
    },
    {
      "cell_type": "markdown",
      "metadata": {
        "id": "hk-wm1aoGA4A"
      },
      "source": [
        "## Building the CNN"
      ]
    },
    {
      "cell_type": "code",
      "execution_count": 9,
      "metadata": {
        "id": "pjw31j6DGA4A",
        "colab": {
          "base_uri": "https://localhost:8080/"
        },
        "outputId": "1b849de8-88a7-4dc2-a7c2-72dc2d1297c5"
      },
      "outputs": [
        {
          "output_type": "stream",
          "name": "stdout",
          "text": [
            "Model: \"sequential\"\n",
            "_________________________________________________________________\n",
            " Layer (type)                Output Shape              Param #   \n",
            "=================================================================\n",
            " conv2d (Conv2D)             (None, 32, 32, 32)        896       \n",
            "                                                                 \n",
            " conv2d_1 (Conv2D)           (None, 30, 30, 32)        9248      \n",
            "                                                                 \n",
            " max_pooling2d (MaxPooling2D  (None, 15, 15, 32)       0         \n",
            " )                                                               \n",
            "                                                                 \n",
            " conv2d_2 (Conv2D)           (None, 15, 15, 64)        18496     \n",
            "                                                                 \n",
            " conv2d_3 (Conv2D)           (None, 13, 13, 64)        36928     \n",
            "                                                                 \n",
            " max_pooling2d_1 (MaxPooling  (None, 6, 6, 64)         0         \n",
            " 2D)                                                             \n",
            "                                                                 \n",
            " flatten (Flatten)           (None, 2304)              0         \n",
            "                                                                 \n",
            " dense (Dense)               (None, 512)               1180160   \n",
            "                                                                 \n",
            " dense_1 (Dense)             (None, 10)                5130      \n",
            "                                                                 \n",
            "=================================================================\n",
            "Total params: 1,250,858\n",
            "Trainable params: 1,250,858\n",
            "Non-trainable params: 0\n",
            "_________________________________________________________________\n"
          ]
        }
      ],
      "source": [
        "\n",
        "# Build a CNN that takes the (32,32,3) images as input,\n",
        "# and gives out 10 outputs that give the probability of each class\n",
        "# We suggest a model architecture in the hints, but feel free\n",
        "# to use your own variation\n",
        "\n",
        "model = Sequential()\n",
        "# Your code here\n",
        "model.add(Conv2D(32,(3,3),padding='same',activation='relu',input_shape=(32,32,3)))\n",
        "model.add(Conv2D(32,(3,3),padding='valid',activation='relu'))\n",
        "model.add(MaxPooling2D((2,2),strides=2))\n",
        "model.add(Conv2D(64,(3,3),padding='same',activation='relu'))\n",
        "model.add(Conv2D(64,(3,3),padding='valid',activation='relu'))\n",
        "model.add(MaxPooling2D((2,2),strides=2))\n",
        "model.add(Flatten())\n",
        "model.add(Dense(512,activation='relu'))\n",
        "model.add(Dense(10,activation='softmax'))\n",
        "# Compile the model with loss as categorical_crossentropy\n",
        "# Use Adam optimizer with learning rate 0.001 (you can change this later\n",
        "# Specify the metrics as 'accuracy')\n",
        "opt = Adam(learning_rate=0.001)\n",
        "model.compile(optimizer=opt,loss='categorical_crossentropy',metrics=['accuracy'])\n",
        "\n",
        "# View a summary of your model to see if the architecture is correct\n",
        "model.summary()\n"
      ]
    },
    {
      "cell_type": "markdown",
      "metadata": {
        "id": "oT_l_UlXGA4B"
      },
      "source": [
        "## Model Training"
      ]
    },
    {
      "cell_type": "code",
      "execution_count": 10,
      "metadata": {
        "id": "5xzvLXUGGA4C",
        "colab": {
          "base_uri": "https://localhost:8080/"
        },
        "outputId": "8ce1bddf-8a50-43de-8720-5464fc233a60"
      },
      "outputs": [
        {
          "output_type": "stream",
          "name": "stdout",
          "text": [
            "Epoch 1/50\n",
            "13/13 [==============================] - 8s 612ms/step - loss: 2.2970 - accuracy: 0.1275 - val_loss: 2.2402 - val_accuracy: 0.1500\n",
            "Epoch 2/50\n",
            "13/13 [==============================] - 5s 337ms/step - loss: 2.0776 - accuracy: 0.2400 - val_loss: 2.1064 - val_accuracy: 0.1550\n",
            "Epoch 3/50\n",
            "13/13 [==============================] - 4s 281ms/step - loss: 1.8948 - accuracy: 0.3150 - val_loss: 2.0012 - val_accuracy: 0.2600\n",
            "Epoch 4/50\n",
            "13/13 [==============================] - 4s 335ms/step - loss: 1.7658 - accuracy: 0.3600 - val_loss: 1.9023 - val_accuracy: 0.3000\n",
            "Epoch 5/50\n",
            "13/13 [==============================] - 4s 285ms/step - loss: 1.5745 - accuracy: 0.4363 - val_loss: 1.9069 - val_accuracy: 0.3200\n",
            "Epoch 6/50\n",
            "13/13 [==============================] - 4s 283ms/step - loss: 1.4484 - accuracy: 0.4950 - val_loss: 1.9085 - val_accuracy: 0.3400\n",
            "Epoch 7/50\n",
            "13/13 [==============================] - 4s 284ms/step - loss: 1.2412 - accuracy: 0.5638 - val_loss: 1.9482 - val_accuracy: 0.3550\n",
            "Epoch 8/50\n",
            "13/13 [==============================] - 5s 399ms/step - loss: 1.0890 - accuracy: 0.6087 - val_loss: 1.9147 - val_accuracy: 0.3650\n",
            "Epoch 9/50\n",
            "13/13 [==============================] - 4s 335ms/step - loss: 0.8286 - accuracy: 0.7150 - val_loss: 2.0775 - val_accuracy: 0.3950\n",
            "Epoch 10/50\n",
            "13/13 [==============================] - 7s 566ms/step - loss: 0.6171 - accuracy: 0.7862 - val_loss: 2.5010 - val_accuracy: 0.3650\n",
            "Epoch 11/50\n",
            "13/13 [==============================] - 6s 444ms/step - loss: 0.4403 - accuracy: 0.8562 - val_loss: 2.9675 - val_accuracy: 0.4000\n",
            "Epoch 12/50\n",
            "13/13 [==============================] - 6s 437ms/step - loss: 0.3189 - accuracy: 0.9038 - val_loss: 2.8815 - val_accuracy: 0.3450\n",
            "Epoch 13/50\n",
            "13/13 [==============================] - 5s 420ms/step - loss: 0.1974 - accuracy: 0.9513 - val_loss: 3.4960 - val_accuracy: 0.3700\n",
            "Epoch 14/50\n",
            "13/13 [==============================] - 5s 395ms/step - loss: 0.1109 - accuracy: 0.9725 - val_loss: 4.0902 - val_accuracy: 0.3500\n",
            "Epoch 15/50\n",
            "13/13 [==============================] - 4s 282ms/step - loss: 0.1015 - accuracy: 0.9688 - val_loss: 4.5770 - val_accuracy: 0.3500\n",
            "Epoch 16/50\n",
            "13/13 [==============================] - 5s 352ms/step - loss: 0.0855 - accuracy: 0.9800 - val_loss: 4.3230 - val_accuracy: 0.4050\n",
            "Epoch 17/50\n",
            "13/13 [==============================] - 4s 327ms/step - loss: 0.0349 - accuracy: 0.9962 - val_loss: 4.6253 - val_accuracy: 0.3800\n",
            "Epoch 18/50\n",
            "13/13 [==============================] - 5s 347ms/step - loss: 0.0198 - accuracy: 0.9975 - val_loss: 5.7363 - val_accuracy: 0.3350\n",
            "Epoch 19/50\n",
            "13/13 [==============================] - 4s 306ms/step - loss: 0.0404 - accuracy: 0.9900 - val_loss: 5.3784 - val_accuracy: 0.3150\n",
            "Epoch 20/50\n",
            "13/13 [==============================] - 4s 282ms/step - loss: 0.0715 - accuracy: 0.9762 - val_loss: 4.8123 - val_accuracy: 0.3700\n",
            "Epoch 21/50\n",
            "13/13 [==============================] - 4s 283ms/step - loss: 0.0437 - accuracy: 0.9850 - val_loss: 5.4074 - val_accuracy: 0.3850\n",
            "Epoch 22/50\n",
            "13/13 [==============================] - 4s 285ms/step - loss: 0.0296 - accuracy: 0.9925 - val_loss: 5.0213 - val_accuracy: 0.3300\n",
            "Epoch 23/50\n",
            "13/13 [==============================] - 4s 283ms/step - loss: 0.0292 - accuracy: 0.9962 - val_loss: 5.3498 - val_accuracy: 0.3400\n",
            "Epoch 24/50\n",
            "13/13 [==============================] - 4s 285ms/step - loss: 0.0090 - accuracy: 0.9987 - val_loss: 5.3544 - val_accuracy: 0.3300\n",
            "Epoch 25/50\n",
            "13/13 [==============================] - 4s 310ms/step - loss: 0.0040 - accuracy: 1.0000 - val_loss: 5.5811 - val_accuracy: 0.3600\n",
            "Epoch 26/50\n",
            "13/13 [==============================] - 4s 318ms/step - loss: 0.0015 - accuracy: 1.0000 - val_loss: 5.8895 - val_accuracy: 0.3600\n",
            "Epoch 27/50\n",
            "13/13 [==============================] - 5s 397ms/step - loss: 8.0893e-04 - accuracy: 1.0000 - val_loss: 5.9908 - val_accuracy: 0.3500\n",
            "Epoch 28/50\n",
            "13/13 [==============================] - 4s 343ms/step - loss: 5.5517e-04 - accuracy: 1.0000 - val_loss: 6.0307 - val_accuracy: 0.3550\n",
            "Epoch 29/50\n",
            "13/13 [==============================] - 4s 299ms/step - loss: 4.4485e-04 - accuracy: 1.0000 - val_loss: 6.0611 - val_accuracy: 0.3500\n",
            "Epoch 30/50\n",
            "13/13 [==============================] - 4s 321ms/step - loss: 3.8266e-04 - accuracy: 1.0000 - val_loss: 6.0969 - val_accuracy: 0.3500\n",
            "Epoch 31/50\n",
            "13/13 [==============================] - 4s 338ms/step - loss: 3.3972e-04 - accuracy: 1.0000 - val_loss: 6.1411 - val_accuracy: 0.3500\n",
            "Epoch 32/50\n",
            "13/13 [==============================] - 5s 345ms/step - loss: 3.0823e-04 - accuracy: 1.0000 - val_loss: 6.1872 - val_accuracy: 0.3500\n",
            "Epoch 33/50\n",
            "13/13 [==============================] - 4s 319ms/step - loss: 2.8159e-04 - accuracy: 1.0000 - val_loss: 6.2325 - val_accuracy: 0.3500\n",
            "Epoch 34/50\n",
            "13/13 [==============================] - 6s 485ms/step - loss: 2.5852e-04 - accuracy: 1.0000 - val_loss: 6.2698 - val_accuracy: 0.3550\n",
            "Epoch 35/50\n",
            "13/13 [==============================] - 6s 429ms/step - loss: 2.3946e-04 - accuracy: 1.0000 - val_loss: 6.3096 - val_accuracy: 0.3550\n",
            "Epoch 36/50\n",
            "13/13 [==============================] - 5s 413ms/step - loss: 2.2311e-04 - accuracy: 1.0000 - val_loss: 6.3445 - val_accuracy: 0.3550\n"
          ]
        }
      ],
      "source": [
        "# Fit the model with the training data\n",
        "# Specify a batch size, and number of epochs to train\n",
        "batch_size = 64\n",
        "epochs = 50\n",
        "\n",
        "# keep a validation split of 0.2 to begin with and fit the model\n",
        "# your code here\n",
        "callbacks = EarlyStopping(monitor='val_accuracy',restore_best_weights=True,patience=20)\n",
        "history = model.fit(X_train,y_train,batch_size=batch_size,epochs=epochs,validation_split=0.2,callbacks=callbacks)\n"
      ]
    },
    {
      "cell_type": "code",
      "execution_count": 12,
      "metadata": {
        "id": "-4MGUb7-GA4C",
        "colab": {
          "base_uri": "https://localhost:8080/",
          "height": 515
        },
        "outputId": "3ed8b9dc-3b97-4fe1-ec42-b5695618c2e0"
      },
      "outputs": [
        {
          "output_type": "execute_result",
          "data": {
            "text/plain": [
              "<matplotlib.legend.Legend at 0x7fe429a8f8d0>"
            ]
          },
          "metadata": {},
          "execution_count": 12
        },
        {
          "output_type": "display_data",
          "data": {
            "text/plain": [
              "<Figure size 720x576 with 2 Axes>"
            ],
            "image/png": "[encoded data removed]"
          },
          "metadata": {
            "needs_background": "light"
          }
        }
      ],
      "source": [
        "# Write the code to plot the following:\n",
        "# - Training loss\n",
        "# - Validation loss\n",
        "# - Training accuracy \n",
        "# - Validation accuracy\n",
        "# Your code here\n",
        "fig,ax = plt.subplots(1,2,figsize=(10,8))\n",
        "ax[0].plot(history.history['loss'],label='loss')\n",
        "ax[0].plot(history.history['val_loss'],label='val_loss')\n",
        "ax[0].set_xlabel('epochs')\n",
        "ax[0].set_ylabel('loss')\n",
        "ax[0].legend()\n",
        "ax[1].plot(history.history['accuracy'],label='accuracy')\n",
        "ax[1].plot(history.history['val_accuracy'],label='val_accuracy')\n",
        "ax[1].set_xlabel('epochs')\n",
        "ax[1].set_ylabel('accuracy')\n",
        "ax[1].legend()\n",
        "\n"
      ]
    },
    {
      "cell_type": "markdown",
      "metadata": {
        "id": "PShDpVweGA4C"
      },
      "source": [
        "## Model evaluation"
      ]
    },
    {
      "cell_type": "code",
      "execution_count": 13,
      "metadata": {
        "id": "CITPAH9hGA4D"
      },
      "outputs": [],
      "source": [
        "# Import the mini test set\n",
        "x_test,y_test = np.load('cifar_Xtest.npy'),np.load('cifar_ytest.npy')\n"
      ]
    },
    {
      "cell_type": "code",
      "execution_count": 14,
      "metadata": {
        "id": "YcISPqQuGA4D"
      },
      "outputs": [],
      "source": [
        "# Preprocess the test set \n",
        "X_test = x_test/255. - 0.5\n",
        "\n",
        "# Convert test labels to one_hot encoding\n",
        "y_test = to_categorical(y_test)\n"
      ]
    },
    {
      "cell_type": "code",
      "execution_count": 15,
      "metadata": {
        "id": "YgX0echqGA4D",
        "colab": {
          "base_uri": "https://localhost:8080/"
        },
        "outputId": "8597b093-709b-4b84-8d64-f21fe495eee6"
      },
      "outputs": [
        {
          "output_type": "stream",
          "name": "stdout",
          "text": [
            "4/4 [==============================] - 0s 31ms/step - loss: 4.1479 - accuracy: 0.4000\n"
          ]
        },
        {
          "output_type": "execute_result",
          "data": {
            "text/plain": [
              "[4.147862434387207, 0.4000000059604645]"
            ]
          },
          "metadata": {},
          "execution_count": 15
        }
      ],
      "source": [
        "# Evaluate the model to get the model metric specific\n",
        "model.evaluate(X_test,y_test)\n"
      ]
    },
    {
      "cell_type": "code",
      "source": [
        "model.predict(X_test).shape"
      ],
      "metadata": {
        "colab": {
          "base_uri": "https://localhost:8080/"
        },
        "id": "Zfzu-bTD-5si",
        "outputId": "ec701fd1-e868-4032-ef03-f7af78158aa0"
      },
      "execution_count": 23,
      "outputs": [
        {
          "output_type": "execute_result",
          "data": {
            "text/plain": [
              "(100, 10)"
            ]
          },
          "metadata": {},
          "execution_count": 23
        }
      ]
    },
    {
      "cell_type": "code",
      "source": [
        "model.predict(X_test).argmax(axis=1)"
      ],
      "metadata": {
        "colab": {
          "base_uri": "https://localhost:8080/"
        },
        "id": "411OY67n-OpM",
        "outputId": "641fda57-ce5f-4b52-c5e9-ad2b6d1996ce"
      },
      "execution_count": 22,
      "outputs": [
        {
          "output_type": "execute_result",
          "data": {
            "text/plain": [
              "array([0, 7, 6, 2, 6, 7, 1, 1, 0, 6, 2, 3, 1, 6, 6, 4, 5, 8, 6, 8, 8, 9,\n",
              "       4, 0, 8, 6, 7, 1, 8, 7, 8, 7, 6, 5, 5, 0, 9, 3, 2, 4, 8, 9, 7, 8,\n",
              "       4, 2, 6, 6, 8, 2, 7, 1, 7, 6, 6, 7, 1, 4, 5, 1, 7, 7, 8, 0, 6, 9,\n",
              "       1, 3, 9, 2, 5, 2, 1, 4, 6, 6, 1, 0, 9, 6, 6, 7, 1, 4, 4, 2, 8, 8,\n",
              "       0, 6, 6, 9, 8, 7, 8, 1, 2, 9, 1, 2])"
            ]
          },
          "metadata": {},
          "execution_count": 22
        }
      ]
    },
    {
      "cell_type": "code",
      "source": [
        "model.predict(X_test).argmax(axis=1)\n"
      ],
      "metadata": {
        "colab": {
          "base_uri": "https://localhost:8080/"
        },
        "id": "8v-sB0mP_Oxs",
        "outputId": "7d1c6d12-3170-4558-9365-7f50bc9b30f0"
      },
      "execution_count": 25,
      "outputs": [
        {
          "output_type": "execute_result",
          "data": {
            "text/plain": [
              "array([0, 7, 6, 2, 6, 7, 1, 1, 0, 6, 2, 3, 1, 6, 6, 4, 5, 8, 6, 8, 8, 9,\n",
              "       4, 0, 8, 6, 7, 1, 8, 7, 8, 7, 6, 5, 5, 0, 9, 3, 2, 4, 8, 9, 7, 8,\n",
              "       4, 2, 6, 6, 8, 2, 7, 1, 7, 6, 6, 7, 1, 4, 5, 1, 7, 7, 8, 0, 6, 9,\n",
              "       1, 3, 9, 2, 5, 2, 1, 4, 6, 6, 1, 0, 9, 6, 6, 7, 1, 4, 4, 2, 8, 8,\n",
              "       0, 6, 6, 9, 8, 7, 8, 1, 2, 9, 1, 2])"
            ]
          },
          "metadata": {},
          "execution_count": 25
        }
      ]
    },
    {
      "cell_type": "code",
      "execution_count": 49,
      "metadata": {
        "id": "4EvycGeGGA4E"
      },
      "outputs": [],
      "source": [
        "# Get the predicted label numbers by using .argmax() function\n",
        "y_pred = model.predict(X_test).argmax(axis=1)\n",
        "\n",
        "# Use the same function to get the predicted label numbers for test set\n",
        "y_labels = y_test.argmax(axis=1)\n"
      ]
    },
    {
      "cell_type": "code",
      "source": [
        "y_labels.shape,y_pred.shape"
      ],
      "metadata": {
        "colab": {
          "base_uri": "https://localhost:8080/"
        },
        "id": "VaW4QGFbEXg1",
        "outputId": "8bdf8f46-748e-4618-de79-07819dbcfa88"
      },
      "execution_count": 35,
      "outputs": [
        {
          "output_type": "execute_result",
          "data": {
            "text/plain": [
              "((100,), (100,))"
            ]
          },
          "metadata": {},
          "execution_count": 35
        }
      ]
    },
    {
      "cell_type": "code",
      "execution_count": 50,
      "metadata": {
        "id": "UJvVQiQBGA4E",
        "colab": {
          "base_uri": "https://localhost:8080/",
          "height": 312
        },
        "outputId": "4cfa6895-7213-43af-f1fc-2544eb8bfcb7"
      },
      "outputs": [
        {
          "output_type": "stream",
          "name": "stdout",
          "text": [
            "<sklearn.metrics._plot.confusion_matrix.ConfusionMatrixDisplay object at 0x7fe4297aa2d0>\n"
          ]
        },
        {
          "output_type": "display_data",
          "data": {
            "text/plain": [
              "<Figure size 432x288 with 2 Axes>"
            ],
            "image/png": "[encoded data removed]"
          },
          "metadata": {}
        }
      ],
      "source": [
        "# Get the confusion matrix for the predictions\n",
        "# Read more about the confusion matrix here\n",
        "from sklearn.metrics import ConfusionMatrixDisplay\n",
        "# https://scikit-learn.org/stable/auto_examples/model_selection/plot_confusion_matrix.html#sphx-glr-auto-examples-model-selection-plot-confusion-matrix-py\n",
        "cf_matrix = ConfusionMatrixDisplay.from_predictions(y_labels,y_pred)\n",
        "print(cf_matrix)\n"
      ]
    },
    {
      "cell_type": "code",
      "execution_count": 40,
      "metadata": {
        "id": "xjFM5xOOGA4E"
      },
      "outputs": [],
      "source": [
        "# Find below the helper code to make a nice plot of the above confusion matrix\n",
        "def plot_confusion_matrix(confusion_matrix,cifar10_dictionary,ax=None):\n",
        "    df_cm = pd.DataFrame(confusion_matrix, index = cifar10_dictionary.values(),\n",
        "                      columns = cifar10_dictionary.values())\n",
        "    sns.set(font_scale=1.2) # for label size\n",
        "    ax = sns.heatmap(df_cm, annot=True,annot_kws={\"size\": 16},cmap='YlOrBr')\n",
        "    ax.xaxis.set_ticks_position('top')"
      ]
    },
    {
      "cell_type": "code",
      "execution_count": 41,
      "metadata": {
        "id": "yRnYqeCFGA4E",
        "colab": {
          "base_uri": "https://localhost:8080/",
          "height": 847
        },
        "outputId": "af952edd-7a3c-4386-8b36-c845cc4468ef"
      },
      "outputs": [
        {
          "output_type": "error",
          "ename": "TypeError",
          "evalue": "ignored",
          "traceback": [
            "\u001b[0;31m---------------------------------------------------------------------------\u001b[0m",
            "\u001b[0;31mTypeError\u001b[0m                                 Traceback (most recent call last)",
            "\u001b[0;32m<ipython-input-41-3e318988d765>\u001b[0m in \u001b[0;36m<module>\u001b[0;34m()\u001b[0m\n\u001b[1;32m      3\u001b[0m \u001b[0;31m# and discuss ways to improve performance\u001b[0m\u001b[0;34m\u001b[0m\u001b[0;34m\u001b[0m\u001b[0;34m\u001b[0m\u001b[0m\n\u001b[1;32m      4\u001b[0m \u001b[0mfig\u001b[0m\u001b[0;34m,\u001b[0m\u001b[0max\u001b[0m \u001b[0;34m=\u001b[0m \u001b[0mplt\u001b[0m\u001b[0;34m.\u001b[0m\u001b[0msubplots\u001b[0m\u001b[0;34m(\u001b[0m\u001b[0mfigsize\u001b[0m\u001b[0;34m=\u001b[0m\u001b[0;34m(\u001b[0m\u001b[0;36m12\u001b[0m\u001b[0;34m,\u001b[0m\u001b[0;36m8\u001b[0m\u001b[0;34m)\u001b[0m\u001b[0;34m)\u001b[0m\u001b[0;34m\u001b[0m\u001b[0;34m\u001b[0m\u001b[0m\n\u001b[0;32m----> 5\u001b[0;31m \u001b[0mplot_confusion_matrix\u001b[0m\u001b[0;34m(\u001b[0m\u001b[0mcf_matrix\u001b[0m\u001b[0;34m,\u001b[0m\u001b[0mcifar10dict\u001b[0m\u001b[0;34m,\u001b[0m\u001b[0max\u001b[0m\u001b[0;34m=\u001b[0m\u001b[0max\u001b[0m\u001b[0;34m)\u001b[0m\u001b[0;34m\u001b[0m\u001b[0;34m\u001b[0m\u001b[0m\n\u001b[0m",
            "\u001b[0;32m<ipython-input-40-21c351e77a86>\u001b[0m in \u001b[0;36mplot_confusion_matrix\u001b[0;34m(confusion_matrix, cifar10_dictionary, ax)\u001b[0m\n\u001b[1;32m      4\u001b[0m                       columns = cifar10_dictionary.values())\n\u001b[1;32m      5\u001b[0m     \u001b[0msns\u001b[0m\u001b[0;34m.\u001b[0m\u001b[0mset\u001b[0m\u001b[0;34m(\u001b[0m\u001b[0mfont_scale\u001b[0m\u001b[0;34m=\u001b[0m\u001b[0;36m1.2\u001b[0m\u001b[0;34m)\u001b[0m \u001b[0;31m# for label size\u001b[0m\u001b[0;34m\u001b[0m\u001b[0;34m\u001b[0m\u001b[0m\n\u001b[0;32m----> 6\u001b[0;31m     \u001b[0max\u001b[0m \u001b[0;34m=\u001b[0m \u001b[0msns\u001b[0m\u001b[0;34m.\u001b[0m\u001b[0mheatmap\u001b[0m\u001b[0;34m(\u001b[0m\u001b[0mdf_cm\u001b[0m\u001b[0;34m,\u001b[0m \u001b[0mannot\u001b[0m\u001b[0;34m=\u001b[0m\u001b[0;32mTrue\u001b[0m\u001b[0;34m,\u001b[0m\u001b[0mannot_kws\u001b[0m\u001b[0;34m=\u001b[0m\u001b[0;34m{\u001b[0m\u001b[0;34m\"size\"\u001b[0m\u001b[0;34m:\u001b[0m \u001b[0;36m16\u001b[0m\u001b[0;34m}\u001b[0m\u001b[0;34m,\u001b[0m\u001b[0mcmap\u001b[0m\u001b[0;34m=\u001b[0m\u001b[0;34m'YlOrBr'\u001b[0m\u001b[0;34m)\u001b[0m\u001b[0;34m\u001b[0m\u001b[0;34m\u001b[0m\u001b[0m\n\u001b[0m\u001b[1;32m      7\u001b[0m     \u001b[0max\u001b[0m\u001b[0;34m.\u001b[0m\u001b[0mxaxis\u001b[0m\u001b[0;34m.\u001b[0m\u001b[0mset_ticks_position\u001b[0m\u001b[0;34m(\u001b[0m\u001b[0;34m'top'\u001b[0m\u001b[0;34m)\u001b[0m\u001b[0;34m\u001b[0m\u001b[0;34m\u001b[0m\u001b[0m\n",
            "\u001b[0;32m/usr/local/lib/python3.7/dist-packages/seaborn/_decorators.py\u001b[0m in \u001b[0;36minner_f\u001b[0;34m(*args, **kwargs)\u001b[0m\n\u001b[1;32m     44\u001b[0m             )\n\u001b[1;32m     45\u001b[0m         \u001b[0mkwargs\u001b[0m\u001b[0;34m.\u001b[0m\u001b[0mupdate\u001b[0m\u001b[0;34m(\u001b[0m\u001b[0;34m{\u001b[0m\u001b[0mk\u001b[0m\u001b[0;34m:\u001b[0m \u001b[0marg\u001b[0m \u001b[0;32mfor\u001b[0m \u001b[0mk\u001b[0m\u001b[0;34m,\u001b[0m \u001b[0marg\u001b[0m \u001b[0;32min\u001b[0m \u001b[0mzip\u001b[0m\u001b[0;34m(\u001b[0m\u001b[0msig\u001b[0m\u001b[0;34m.\u001b[0m\u001b[0mparameters\u001b[0m\u001b[0;34m,\u001b[0m \u001b[0margs\u001b[0m\u001b[0;34m)\u001b[0m\u001b[0;34m}\u001b[0m\u001b[0;34m)\u001b[0m\u001b[0;34m\u001b[0m\u001b[0;34m\u001b[0m\u001b[0m\n\u001b[0;32m---> 46\u001b[0;31m         \u001b[0;32mreturn\u001b[0m \u001b[0mf\u001b[0m\u001b[0;34m(\u001b[0m\u001b[0;34m**\u001b[0m\u001b[0mkwargs\u001b[0m\u001b[0;34m)\u001b[0m\u001b[0;34m\u001b[0m\u001b[0;34m\u001b[0m\u001b[0m\n\u001b[0m\u001b[1;32m     47\u001b[0m     \u001b[0;32mreturn\u001b[0m \u001b[0minner_f\u001b[0m\u001b[0;34m\u001b[0m\u001b[0;34m\u001b[0m\u001b[0m\n\u001b[1;32m     48\u001b[0m \u001b[0;34m\u001b[0m\u001b[0m\n",
            "\u001b[0;32m/usr/local/lib/python3.7/dist-packages/seaborn/matrix.py\u001b[0m in \u001b[0;36mheatmap\u001b[0;34m(data, vmin, vmax, cmap, center, robust, annot, fmt, annot_kws, linewidths, linecolor, cbar, cbar_kws, cbar_ax, square, xticklabels, yticklabels, mask, ax, **kwargs)\u001b[0m\n\u001b[1;32m    540\u001b[0m     plotter = _HeatMapper(data, vmin, vmax, cmap, center, robust, annot, fmt,\n\u001b[1;32m    541\u001b[0m                           \u001b[0mannot_kws\u001b[0m\u001b[0;34m,\u001b[0m \u001b[0mcbar\u001b[0m\u001b[0;34m,\u001b[0m \u001b[0mcbar_kws\u001b[0m\u001b[0;34m,\u001b[0m \u001b[0mxticklabels\u001b[0m\u001b[0;34m,\u001b[0m\u001b[0;34m\u001b[0m\u001b[0;34m\u001b[0m\u001b[0m\n\u001b[0;32m--> 542\u001b[0;31m                           yticklabels, mask)\n\u001b[0m\u001b[1;32m    543\u001b[0m \u001b[0;34m\u001b[0m\u001b[0m\n\u001b[1;32m    544\u001b[0m     \u001b[0;31m# Add the pcolormesh kwargs here\u001b[0m\u001b[0;34m\u001b[0m\u001b[0;34m\u001b[0m\u001b[0;34m\u001b[0m\u001b[0m\n",
            "\u001b[0;32m/usr/local/lib/python3.7/dist-packages/seaborn/matrix.py\u001b[0m in \u001b[0;36m__init__\u001b[0;34m(self, data, vmin, vmax, cmap, center, robust, annot, fmt, annot_kws, cbar, cbar_kws, xticklabels, yticklabels, mask)\u001b[0m\n\u001b[1;32m    158\u001b[0m         \u001b[0;31m# Determine good default values for the colormapping\u001b[0m\u001b[0;34m\u001b[0m\u001b[0;34m\u001b[0m\u001b[0;34m\u001b[0m\u001b[0m\n\u001b[1;32m    159\u001b[0m         self._determine_cmap_params(plot_data, vmin, vmax,\n\u001b[0;32m--> 160\u001b[0;31m                                     cmap, center, robust)\n\u001b[0m\u001b[1;32m    161\u001b[0m \u001b[0;34m\u001b[0m\u001b[0m\n\u001b[1;32m    162\u001b[0m         \u001b[0;31m# Sort out the annotations\u001b[0m\u001b[0;34m\u001b[0m\u001b[0;34m\u001b[0m\u001b[0;34m\u001b[0m\u001b[0m\n",
            "\u001b[0;32m/usr/local/lib/python3.7/dist-packages/seaborn/matrix.py\u001b[0m in \u001b[0;36m_determine_cmap_params\u001b[0;34m(self, plot_data, vmin, vmax, cmap, center, robust)\u001b[0m\n\u001b[1;32m    191\u001b[0m \u001b[0;34m\u001b[0m\u001b[0m\n\u001b[1;32m    192\u001b[0m         \u001b[0;31m# plot_data is a np.ma.array instance\u001b[0m\u001b[0;34m\u001b[0m\u001b[0;34m\u001b[0m\u001b[0;34m\u001b[0m\u001b[0m\n\u001b[0;32m--> 193\u001b[0;31m         \u001b[0mcalc_data\u001b[0m \u001b[0;34m=\u001b[0m \u001b[0mplot_data\u001b[0m\u001b[0;34m.\u001b[0m\u001b[0mastype\u001b[0m\u001b[0;34m(\u001b[0m\u001b[0mfloat\u001b[0m\u001b[0;34m)\u001b[0m\u001b[0;34m.\u001b[0m\u001b[0mfilled\u001b[0m\u001b[0;34m(\u001b[0m\u001b[0mnp\u001b[0m\u001b[0;34m.\u001b[0m\u001b[0mnan\u001b[0m\u001b[0;34m)\u001b[0m\u001b[0;34m\u001b[0m\u001b[0;34m\u001b[0m\u001b[0m\n\u001b[0m\u001b[1;32m    194\u001b[0m         \u001b[0;32mif\u001b[0m \u001b[0mvmin\u001b[0m \u001b[0;32mis\u001b[0m \u001b[0;32mNone\u001b[0m\u001b[0;34m:\u001b[0m\u001b[0;34m\u001b[0m\u001b[0;34m\u001b[0m\u001b[0m\n\u001b[1;32m    195\u001b[0m             \u001b[0;32mif\u001b[0m \u001b[0mrobust\u001b[0m\u001b[0;34m:\u001b[0m\u001b[0;34m\u001b[0m\u001b[0;34m\u001b[0m\u001b[0m\n",
            "\u001b[0;31mTypeError\u001b[0m: float() argument must be a string or a number, not 'ConfusionMatrixDisplay'"
          ]
        },
        {
          "output_type": "display_data",
          "data": {
            "text/plain": [
              "<Figure size 864x576 with 1 Axes>"
            ],
            "image/png": "[encoded data removed]"
          },
          "metadata": {}
        }
      ],
      "source": [
        "# Here we call the plotting function\n",
        "# Observe the most misclassfied entries\n",
        "# and discuss ways to improve performance\n",
        "fig,ax = plt.subplots(figsize=(12,8))\n",
        "plot_confusion_matrix(cf_matrix,cifar10dict,ax=ax)\n"
      ]
    },
    {
      "cell_type": "markdown",
      "metadata": {
        "id": "I-fAMGVaGA4F"
      },
      "source": [
        "## Improving model performance\n",
        "\n",
        "As you would have noticed, your model starts to overfit on the training set.\n",
        "You may employ several ways to remedy this: \n",
        "1. Get more training data (use the entire CIFAR10 training set)\n",
        "2. Use Data augmentation\n",
        "3. Use other regularization methods"
      ]
    },
    {
      "cell_type": "markdown",
      "source": [
        "### Add dropouts, and use the whole dataset"
      ],
      "metadata": {
        "id": "rAZ3vLvKI108"
      }
    },
    {
      "cell_type": "code",
      "source": [
        "# Building the dropout model2\n",
        "\n",
        "model2 = Sequential()\n",
        "# Your code here\n",
        "model2.add(Conv2D(32,(3,3),padding='same',activation='relu',input_shape=(32,32,3)))\n",
        "model2.add(Conv2D(32,(3,3),padding='valid',activation='relu'))\n",
        "model2.add(MaxPooling2D((2,2),strides=2))\n",
        "model2.add(Conv2D(64,(3,3),padding='same',activation='relu'))\n",
        "model2.add(Conv2D(64,(3,3),padding='valid',activation='relu'))\n",
        "model2.add(MaxPooling2D((2,2),strides=2))\n",
        "model2.add(Flatten())\n",
        "model2.add(Dense(512,activation='relu'))\n",
        "model2.add(Dropout(0.2))\n",
        "model2.add(Dense(10,activation='softmax'))\n",
        "# Compile the model2 with loss as categorical_crossentropy\n",
        "# Use Adam optimizer with learning rate 0.001 (you can change this later\n",
        "# Specify the metrics as 'accuracy')\n",
        "opt = Adam(learning_rate=0.001)\n",
        "model2.compile(optimizer=opt,loss='categorical_crossentropy',metrics=['accuracy'])\n",
        "\n",
        "# View a summary of your model2 to see if the architecture is correct\n",
        "model2.summary()\n"
      ],
      "metadata": {
        "colab": {
          "base_uri": "https://localhost:8080/"
        },
        "id": "XSsyQsNeItfy",
        "outputId": "30e27d34-0971-4c8d-f9b6-198c065f3bde"
      },
      "execution_count": 4,
      "outputs": [
        {
          "output_type": "stream",
          "name": "stdout",
          "text": [
            "Model: \"sequential\"\n",
            "_________________________________________________________________\n",
            " Layer (type)                Output Shape              Param #   \n",
            "=================================================================\n",
            " conv2d (Conv2D)             (None, 32, 32, 32)        896       \n",
            "                                                                 \n",
            " conv2d_1 (Conv2D)           (None, 30, 30, 32)        9248      \n",
            "                                                                 \n",
            " max_pooling2d (MaxPooling2D  (None, 15, 15, 32)       0         \n",
            " )                                                               \n",
            "                                                                 \n",
            " conv2d_2 (Conv2D)           (None, 15, 15, 64)        18496     \n",
            "                                                                 \n",
            " conv2d_3 (Conv2D)           (None, 13, 13, 64)        36928     \n",
            "                                                                 \n",
            " max_pooling2d_1 (MaxPooling  (None, 6, 6, 64)         0         \n",
            " 2D)                                                             \n",
            "                                                                 \n",
            " flatten (Flatten)           (None, 2304)              0         \n",
            "                                                                 \n",
            " dense (Dense)               (None, 512)               1180160   \n",
            "                                                                 \n",
            " dropout (Dropout)           (None, 512)               0         \n",
            "                                                                 \n",
            " dense_1 (Dense)             (None, 10)                5130      \n",
            "                                                                 \n",
            "=================================================================\n",
            "Total params: 1,250,858\n",
            "Trainable params: 1,250,858\n",
            "Non-trainable params: 0\n",
            "_________________________________________________________________\n"
          ]
        }
      ]
    },
    {
      "cell_type": "code",
      "source": [
        "# Load the whole dataset \n",
        "# X_train2 = np.load('/content/cifar_Xtest.npy')\n",
        "# y_train2 = np.load('/content/cifar_ytest.npy')\n",
        "\n",
        "(X_train2, y_train2), (x_test2, y_test2) = tf.keras.datasets.cifar10.load_data()"
      ],
      "metadata": {
        "colab": {
          "base_uri": "https://localhost:8080/"
        },
        "id": "HH4G8iG4Jgjj",
        "outputId": "a1c62439-36b3-4b40-ff0d-87d3515067b8"
      },
      "execution_count": 5,
      "outputs": [
        {
          "output_type": "stream",
          "name": "stdout",
          "text": [
            "Downloading data from https://www.cs.toronto.edu/~kriz/cifar-10-python.tar.gz\n",
            "170500096/170498071 [==============================] - 6s 0us/step\n",
            "170508288/170498071 [==============================] - 6s 0us/step\n"
          ]
        }
      ]
    },
    {
      "cell_type": "code",
      "source": [
        "X_train2.shape,y_train2.shape"
      ],
      "metadata": {
        "colab": {
          "base_uri": "https://localhost:8080/"
        },
        "id": "Ni2GnfIKLU-r",
        "outputId": "97c6b522-b8a8-42f9-c8d9-d88a6a15bf1b"
      },
      "execution_count": 6,
      "outputs": [
        {
          "output_type": "execute_result",
          "data": {
            "text/plain": [
              "((50000, 32, 32, 3), (50000, 1))"
            ]
          },
          "metadata": {},
          "execution_count": 6
        }
      ]
    },
    {
      "cell_type": "code",
      "source": [
        "# Normalize data\n",
        "# X_train2 = X_train2/255.-0.5\n",
        "X_train2 = X_train2/255. - 0.5\n",
        "y_train2 = to_categorical(y_train2,10)\n",
        "# to categorical \n",
        "X_train2.shape,y_train2.shape"
      ],
      "metadata": {
        "colab": {
          "base_uri": "https://localhost:8080/"
        },
        "id": "QcqowSrLLKB3",
        "outputId": "c6ecd7d7-57d7-41d9-e98f-15a71637e049"
      },
      "execution_count": 7,
      "outputs": [
        {
          "output_type": "execute_result",
          "data": {
            "text/plain": [
              "((50000, 32, 32, 3), (50000, 10))"
            ]
          },
          "metadata": {},
          "execution_count": 7
        }
      ]
    },
    {
      "cell_type": "code",
      "source": [
        "# Fitting the model on the entire dataset\n",
        "batch_size = 128\n",
        "epochs = 50\n",
        "\n",
        "# keep a validation split of 0.2 to begin with and fit the model\n",
        "# your code here\n",
        "callbacks = EarlyStopping(monitor='val_accuracy',restore_best_weights=True,patience=10)\n",
        "history2 = model2.fit(X_train2,y_train2,batch_size=batch_size,epochs=epochs,validation_split=0.2,callbacks=callbacks)"
      ],
      "metadata": {
        "colab": {
          "base_uri": "https://localhost:8080/"
        },
        "id": "aIRNRq9IJJpt",
        "outputId": "100abdcb-1717-4888-b975-d2bc03ef2938"
      },
      "execution_count": 9,
      "outputs": [
        {
          "output_type": "stream",
          "name": "stdout",
          "text": [
            "Epoch 1/50\n",
            "313/313 [==============================] - 9s 28ms/step - loss: 1.2933 - accuracy: 0.5325 - val_loss: 1.1326 - val_accuracy: 0.6022\n",
            "Epoch 2/50\n",
            "313/313 [==============================] - 9s 28ms/step - loss: 0.9953 - accuracy: 0.6480 - val_loss: 0.9247 - val_accuracy: 0.6790\n",
            "Epoch 3/50\n",
            "313/313 [==============================] - 10s 31ms/step - loss: 0.8183 - accuracy: 0.7126 - val_loss: 0.8428 - val_accuracy: 0.7065\n",
            "Epoch 4/50\n",
            "313/313 [==============================] - 8s 25ms/step - loss: 0.6956 - accuracy: 0.7558 - val_loss: 0.7850 - val_accuracy: 0.7301\n",
            "Epoch 5/50\n",
            "313/313 [==============================] - 8s 25ms/step - loss: 0.5815 - accuracy: 0.7967 - val_loss: 0.7683 - val_accuracy: 0.7402\n",
            "Epoch 6/50\n",
            "313/313 [==============================] - 8s 25ms/step - loss: 0.4903 - accuracy: 0.8278 - val_loss: 0.7670 - val_accuracy: 0.7511\n",
            "Epoch 7/50\n",
            "313/313 [==============================] - 9s 30ms/step - loss: 0.3920 - accuracy: 0.8634 - val_loss: 0.7773 - val_accuracy: 0.7629\n",
            "Epoch 8/50\n",
            "313/313 [==============================] - 8s 25ms/step - loss: 0.3160 - accuracy: 0.8891 - val_loss: 0.7961 - val_accuracy: 0.7637\n",
            "Epoch 9/50\n",
            "313/313 [==============================] - 9s 29ms/step - loss: 0.2488 - accuracy: 0.9132 - val_loss: 0.8900 - val_accuracy: 0.7551\n",
            "Epoch 10/50\n",
            "313/313 [==============================] - 8s 26ms/step - loss: 0.1902 - accuracy: 0.9331 - val_loss: 0.9556 - val_accuracy: 0.7578\n",
            "Epoch 11/50\n",
            "313/313 [==============================] - 9s 28ms/step - loss: 0.1583 - accuracy: 0.9451 - val_loss: 1.0442 - val_accuracy: 0.7657\n",
            "Epoch 12/50\n",
            "313/313 [==============================] - 9s 28ms/step - loss: 0.1381 - accuracy: 0.9513 - val_loss: 1.0656 - val_accuracy: 0.7598\n",
            "Epoch 13/50\n",
            "313/313 [==============================] - 8s 27ms/step - loss: 0.1216 - accuracy: 0.9578 - val_loss: 1.1228 - val_accuracy: 0.7635\n",
            "Epoch 14/50\n",
            "313/313 [==============================] - 8s 25ms/step - loss: 0.1005 - accuracy: 0.9648 - val_loss: 1.2809 - val_accuracy: 0.7480\n",
            "Epoch 15/50\n",
            "313/313 [==============================] - 9s 27ms/step - loss: 0.0969 - accuracy: 0.9660 - val_loss: 1.2367 - val_accuracy: 0.7609\n",
            "Epoch 16/50\n",
            "313/313 [==============================] - 8s 25ms/step - loss: 0.0911 - accuracy: 0.9687 - val_loss: 1.3287 - val_accuracy: 0.7503\n",
            "Epoch 17/50\n",
            "313/313 [==============================] - 8s 25ms/step - loss: 0.0790 - accuracy: 0.9736 - val_loss: 1.3724 - val_accuracy: 0.7662\n",
            "Epoch 18/50\n",
            "313/313 [==============================] - 9s 28ms/step - loss: 0.0889 - accuracy: 0.9692 - val_loss: 1.2876 - val_accuracy: 0.7594\n",
            "Epoch 19/50\n",
            "313/313 [==============================] - 8s 26ms/step - loss: 0.0768 - accuracy: 0.9744 - val_loss: 1.3390 - val_accuracy: 0.7581\n",
            "Epoch 20/50\n",
            "313/313 [==============================] - 10s 32ms/step - loss: 0.0706 - accuracy: 0.9755 - val_loss: 1.3604 - val_accuracy: 0.7524\n",
            "Epoch 21/50\n",
            "313/313 [==============================] - 8s 27ms/step - loss: 0.0687 - accuracy: 0.9773 - val_loss: 1.4577 - val_accuracy: 0.7569\n",
            "Epoch 22/50\n",
            "313/313 [==============================] - 8s 27ms/step - loss: 0.0666 - accuracy: 0.9780 - val_loss: 1.4116 - val_accuracy: 0.7597\n",
            "Epoch 23/50\n",
            "313/313 [==============================] - 9s 28ms/step - loss: 0.0728 - accuracy: 0.9745 - val_loss: 1.4054 - val_accuracy: 0.7620\n",
            "Epoch 24/50\n",
            "313/313 [==============================] - 8s 27ms/step - loss: 0.0650 - accuracy: 0.9778 - val_loss: 1.4570 - val_accuracy: 0.7585\n",
            "Epoch 25/50\n",
            "313/313 [==============================] - 8s 25ms/step - loss: 0.0533 - accuracy: 0.9816 - val_loss: 1.5832 - val_accuracy: 0.7543\n",
            "Epoch 26/50\n",
            "313/313 [==============================] - 8s 25ms/step - loss: 0.0599 - accuracy: 0.9790 - val_loss: 1.5148 - val_accuracy: 0.7583\n",
            "Epoch 27/50\n",
            "313/313 [==============================] - 8s 27ms/step - loss: 0.0535 - accuracy: 0.9819 - val_loss: 1.5998 - val_accuracy: 0.7554\n"
          ]
        }
      ]
    },
    {
      "cell_type": "code",
      "source": [
        "# Write the code to plot the following:\n",
        "# - Training loss\n",
        "# - Validation loss\n",
        "# - Training accuracy \n",
        "# - Validation accuracy\n",
        "# Your code here\n",
        "fig,ax = plt.subplots(1,2,figsize=(10,8))\n",
        "ax[0].plot(history2.history['loss'],label='loss')\n",
        "ax[0].plot(history2.history['val_loss'],label='val_loss')\n",
        "ax[0].set_xlabel('epochs')\n",
        "ax[0].set_ylabel('loss')\n",
        "ax[0].legend()\n",
        "ax[1].plot(history2.history['accuracy'],label='accuracy')\n",
        "ax[1].plot(history2.history['val_accuracy'],label='val_accuracy')\n",
        "ax[1].set_xlabel('epochs')\n",
        "ax[1].set_ylabel('accuracy')\n",
        "ax[1].legend()\n",
        "\n"
      ],
      "metadata": {
        "colab": {
          "base_uri": "https://localhost:8080/",
          "height": 515
        },
        "id": "v8SyI_sCOpCF",
        "outputId": "679dba2e-9ea9-480a-fedd-999881b650c7"
      },
      "execution_count": 10,
      "outputs": [
        {
          "output_type": "execute_result",
          "data": {
            "text/plain": [
              "<matplotlib.legend.Legend at 0x7f979e1f34d0>"
            ]
          },
          "metadata": {},
          "execution_count": 10
        },
        {
          "output_type": "display_data",
          "data": {
            "text/plain": [
              "<Figure size 720x576 with 2 Axes>"
            ],
            "image/png": "[encoded data removed]"
          },
          "metadata": {
            "needs_background": "light"
          }
        }
      ]
    },
    {
      "cell_type": "code",
      "source": [
        "x_test2 = x_test2/255. - 0.5"
      ],
      "metadata": {
        "id": "NY9UdPWTQs8Z"
      },
      "execution_count": 14,
      "outputs": []
    },
    {
      "cell_type": "code",
      "source": [
        "y_test2 = to_categorical(y_test2,10)"
      ],
      "metadata": {
        "id": "ykWHaENDQgTH"
      },
      "execution_count": 13,
      "outputs": []
    },
    {
      "cell_type": "code",
      "source": [
        "# Evaluate model\n",
        "model2.evaluate(x_test2,y_test2)\n"
      ],
      "metadata": {
        "colab": {
          "base_uri": "https://localhost:8080/"
        },
        "id": "etOuPSUZO7zA",
        "outputId": "5be2a58e-0536-47e0-d297-e11c5791f3ab"
      },
      "execution_count": 15,
      "outputs": [
        {
          "output_type": "stream",
          "name": "stdout",
          "text": [
            "313/313 [==============================] - 2s 7ms/step - loss: 1.4101 - accuracy: 0.7506\n"
          ]
        },
        {
          "output_type": "execute_result",
          "data": {
            "text/plain": [
              "[1.4101078510284424, 0.7505999803543091]"
            ]
          },
          "metadata": {},
          "execution_count": 15
        }
      ]
    },
    {
      "cell_type": "code",
      "source": [
        "# Get the predicted label numbers by using .argmax() function\n",
        "y_pred2 = model2.predict(x_test2).argmax(axis=1)\n",
        "\n",
        "# Use the same function to get the predicted label numbers for test set\n",
        "y_labels2 = y_test2.argmax(axis=1)\n",
        "\n",
        "# Get the confusion matrix for the predictions\n",
        "# Read more about the confusion matrix here\n",
        "from sklearn.metrics import ConfusionMatrixDisplay\n",
        "# https://scikit-learn.org/stable/auto_examples/model_selection/plot_confusion_matrix.html#sphx-glr-auto-examples-model-selection-plot-confusion-matrix-py\n",
        "cf_matrix = ConfusionMatrixDisplay.from_predictions(y_labels2,y_pred2)\n",
        "print(cf_matrix)\n"
      ],
      "metadata": {
        "colab": {
          "base_uri": "https://localhost:8080/",
          "height": 297
        },
        "id": "W6UvfmLdPGZH",
        "outputId": "d6908573-a5f5-43cd-f436-612b8c9758a3"
      },
      "execution_count": 19,
      "outputs": [
        {
          "output_type": "stream",
          "name": "stdout",
          "text": [
            "<sklearn.metrics._plot.confusion_matrix.ConfusionMatrixDisplay object at 0x7f979f2309d0>\n"
          ]
        },
        {
          "output_type": "display_data",
          "data": {
            "text/plain": [
              "<Figure size 432x288 with 2 Axes>"
            ],
            "image/png": "[encoded data removed]"
          },
          "metadata": {
            "needs_background": "light"
          }
        }
      ]
    }
  ]
}
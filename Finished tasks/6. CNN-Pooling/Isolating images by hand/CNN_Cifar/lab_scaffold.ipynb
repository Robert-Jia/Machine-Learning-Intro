{
    "metadata": {
        "kernelspec": {
            "name": "python3",
            "display_name": "Python 3 (ipykernel)",
            "language": "python"
        }
    },
    "nbformat": 4,
    "nbformat_minor": 4,
    "cells": [
        {
            "attachments": {},
            "cell_type": "markdown",
            "metadata": {},
            "source": [
                "\u003ca href=\"https://drive.google.com/file/d/1iYgNRYXjGU3UCir1jyaymNswNgu6duuu/view?usp=sharing\" target=\"_blank\" \u003e\n",
                "  \u003cimg src=\"https://colab.research.google.com/assets/colab-badge.svg\" alt=\"Open In Colab\"/\u003e"
            ]
        },
        {
            "attachments": {},
            "cell_type": "markdown",
            "metadata": {},
            "source": [
                "# Training a CNN classifier - End to End"
            ]
        },
        {
            "cell_type": "code",
            "execution_count": 1,
            "metadata": {},
            "outputs": [],
            "source": [
                "# Import necessary libraries\n",
                "import numpy as np\n",
                "from sklearn.metrics import confusion_matrix\n",
                "import pandas as pd\n",
                "import seaborn as sns\n",
                "import matplotlib.pyplot as plt\n",
                "from matplotlib import cm\n",
                "%matplotlib inline\n",
                "\n",
                "import tensorflow as tf\n",
                "from tensorflow.keras.models import Sequential, Model\n",
                "from tensorflow.keras.layers import Dense, Dropout, Flatten, Activation\n",
                "from tensorflow.keras.layers import Conv2D, MaxPooling2D\n",
                "from tensorflow.keras.optimizers import Adam, SGD\n",
                "\n",
                "# Some imports for getting the CIFAR-10 dataset and for help with visualization*]\n",
                "from tensorflow.keras.datasets import cifar10\n",
                "from tensorflow.keras.utils import to_categorical\n",
                ""
            ]
        },
        {
            "cell_type": "code",
            "execution_count": 2,
            "metadata": {},
            "outputs": [
                {
                    "name": "stdout",
                    "output_type": "stream",
                    "text": "(1000, 32, 32, 3) (1000, 1)\n"
                }
            ],
            "source": [
                "# Run this cell to load a subset of the cifar10dataset\n",
                "X_train = np.load('cifar_mini_X.npy')\n",
                "y_train = np.load('cifar_mini_y.npy')\n",
                "print(X_train.shape,y_train.shape)\n",
                ""
            ]
        },
        {
            "attachments": {},
            "cell_type": "markdown",
            "metadata": {},
            "source": [
                "## Info on the dataset\n",
                "\n",
                "\u003e The original CIFAR10 dataset consists of 50,000 images in the training set \u0026 an additional 10,000 images in the test set.\n",
                "\n",
                "Owning to the limitations of the platform, we will use *only* 1000 images for training set, and 100 images for the test set.\n",
                "However, you are encouraged to retrain the model with the original training set to get an improvement on your performance.\n",
                "Please find instructions to load the entire dataset [here](https://keras.io/api/datasets/cifar10/)"
            ]
        },
        {
            "cell_type": "code",
            "execution_count": 3,
            "metadata": {},
            "outputs": [],
            "source": [
                "# Normalize images\n",
                "X_train = X_train/255.-0.5\n",
                "\n",
                "# Since we have 10 output labels, we specify that in 'to_categorical' function\n",
                "num_classes = 10\n",
                "y_train = to_categorical(y_train, num_classes)\n",
                ""
            ]
        },
        {
            "cell_type": "code",
            "execution_count": 4,
            "metadata": {},
            "outputs": [],
            "source": [
                "# A dictionary to turn class index into class labels for CIFAR-10\n",
                "cifar10dict = {0 : 'airplane', 1 : 'automobile', 2 : 'bird', 3 : 'cat', 4 : \\\n",
                "               'deer', 5 : 'dog', 6 : 'frog', 7 : 'horse', 8 : 'ship', 9 : 'truck'}\n",
                "               "
            ]
        },
        {
            "cell_type": "code",
            "execution_count": 5,
            "metadata": {},
            "outputs": [
                {
                    "data": {
                        "image/png": "[encoded data removed]",
                        "text/plain": [
                            "\u003cFigure size 1440x720 with 5 Axes\u003e"
                        ]
                    },
                    "metadata": {
                        "needs_background": "light"
                    },
                    "output_type": "display_data"
                }
            ],
            "source": [
                "# Let's look at some sample images with their labels\n",
                "# Run the helper code below to plot the image and its label\n",
                "num_images = 5\n",
                "\n",
                "fig, ax = plt.subplots(1,num_images,figsize=(20,10))\n",
                "for i in range(num_images):\n",
                "    image_index = np.random.randint(0,1000)\n",
                "    img = (X_train[image_index] + 0.5)\n",
                "    ax[i].imshow(img)\n",
                "    label = cifar10dict[np.argmax(y_train[image_index],axis=-1)]\n",
                "    ax[i].set_title(f'Actual: {label}')\n",
                "    ax[i].axis('off')\n",
                ""
            ]
        },
        {
            "attachments": {},
            "cell_type": "markdown",
            "metadata": {},
            "source": [
                "## Building the CNN"
            ]
        },
        {
            "cell_type": "code",
            "execution_count": 0,
            "metadata": {},
            "outputs": [],
            "source": [
                "\n",
                "# Build a CNN that takes the (32,32,3) images as input,\n",
                "# and gives out 10 outputs that give the probability of each class\n",
                "# We suggest a model architecture in the hints, but feel free\n",
                "# to use your own variation\n",
                "\n",
                "___\n",
                "# Your code here\n",
                "\n",
                "# Compile the model with loss as categorical_crossentropy\n",
                "# Use Adam optimizer with learning rate 0.001 (you can change this later\n",
                "# Specify the metrics as 'accuracy')\n",
                "___\n",
                "\n",
                "# View a summary of your model to see if the architecture is correct\n",
                "___\n",
                ""
            ]
        },
        {
            "attachments": {},
            "cell_type": "markdown",
            "metadata": {},
            "source": [
                "## Model Training"
            ]
        },
        {
            "cell_type": "code",
            "execution_count": 0,
            "metadata": {},
            "outputs": [],
            "source": [
                "# Fit the model with the training data\n",
                "# Specify a batch size, and number of epochs to train\n",
                "batch_size = ___\n",
                "epochs = ___\n",
                "\n",
                "# keep a validation split of 0.2 to begin with and fit the model\n",
                "# your code here\n",
                "___\n",
                ""
            ]
        },
        {
            "cell_type": "code",
            "execution_count": 0,
            "metadata": {},
            "outputs": [],
            "source": [
                "# Write the code to plot the following:\n",
                "# - Training loss\n",
                "# - Validation loss\n",
                "# - Training accuracy \n",
                "# - Validation accuracy\n",
                "# Your code here\n",
                ""
            ]
        },
        {
            "attachments": {},
            "cell_type": "markdown",
            "metadata": {},
            "source": [
                "## Model evaluation"
            ]
        },
        {
            "cell_type": "code",
            "execution_count": 0,
            "metadata": {},
            "outputs": [],
            "source": [
                "# Import the mini test set\n",
                "x_test,y_test = np.load('cifar_Xtest.npy'),np.load('cifar_ytest.npy')\n",
                ""
            ]
        },
        {
            "cell_type": "code",
            "execution_count": 0,
            "metadata": {},
            "outputs": [],
            "source": [
                "# Preprocess the test set \n",
                "X_test = x_test/255. - 0.5\n",
                "\n",
                "# Convert test labels to one_hot encoding\n",
                "y_test = to_categorical(y_test)\n",
                ""
            ]
        },
        {
            "cell_type": "code",
            "execution_count": 0,
            "metadata": {},
            "outputs": [],
            "source": [
                "# Evaluate the model to get the model metric specific\n",
                "___\n",
                ""
            ]
        },
        {
            "cell_type": "code",
            "execution_count": 0,
            "metadata": {},
            "outputs": [],
            "source": [
                "# Get the predicted label numbers by using .argmax() function\n",
                "y_pred = ___\n",
                "\n",
                "# Use the same function to get the predicted label numbers for test set\n",
                "y_labels = ___\n",
                ""
            ]
        },
        {
            "cell_type": "code",
            "execution_count": 0,
            "metadata": {},
            "outputs": [],
            "source": [
                "# Get the confusion matrix for the predictions\n",
                "# Read more about the confusion matrix here\n",
                "# https://scikit-learn.org/stable/auto_examples/model_selection/plot_confusion_matrix.html#sphx-glr-auto-examples-model-selection-plot-confusion-matrix-py\n",
                "cf_matrix = ___\n",
                "print(cf_matrix)\n",
                ""
            ]
        },
        {
            "cell_type": "code",
            "execution_count": 0,
            "metadata": {},
            "outputs": [],
            "source": [
                "# Find below the helper code to make a nice plot of the above confusion matrix\n",
                "def plot_confusion_matrix(confusion_matrix,cifar10_dictionary,ax=None):\n",
                "    df_cm = pd.DataFrame(confusion_matrix, index = cifar10_dictionary.values(),\n",
                "                      columns = cifar10_dictionary.values())\n",
                "    sns.set(font_scale=1.2) # for label size\n",
                "    ax = sns.heatmap(df_cm, annot=True,annot_kws={\"size\": 16},cmap='YlOrBr')\n",
                "    ax.xaxis.set_ticks_position('top')"
            ]
        },
        {
            "cell_type": "code",
            "execution_count": 0,
            "metadata": {},
            "outputs": [],
            "source": [
                "# Here we call the plotting function\n",
                "# Observe the most misclassfied entries\n",
                "# and discuss ways to improve performance\n",
                "fig,ax = plt.subplots(figsize=(12,8))\n",
                "plot_confusion_matrix(cf_matrix,cifar10dict,ax=ax)\n",
                ""
            ]
        },
        {
            "attachments": {},
            "cell_type": "markdown",
            "metadata": {},
            "source": [
                "## Improving model performance\n",
                "\n",
                "As you would have noticed, your model starts to overfit on the training set.\n",
                "You may employ several ways to remedy this: \n",
                "1. Get more training data (use the entire CIFAR10 training set)\n",
                "2. Use Data augmentation\n",
                "3. Use other regularization methods"
            ]
        }
    ]
}

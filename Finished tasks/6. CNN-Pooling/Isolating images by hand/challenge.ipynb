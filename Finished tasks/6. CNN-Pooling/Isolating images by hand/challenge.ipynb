{
    "metadata": {
        "kernelspec": {
            "name": "python3",
            "display_name": "Python 3 (ipykernel)",
            "language": "python"
        }
    },
    "nbformat": 4,
    "nbformat_minor": 2,
    "cells": [
        {
            "attachments": {},
            "cell_type": "markdown",
            "metadata": {},
            "source": [
                "\u003ca href=\"https://drive.google.com/file/d/1D6X722i9YNV69ZOEMZccJZk6636S4GrK/view?usp=sharing\" target=\"_blank\" \u003e\n",
                "  \u003cimg src=\"https://colab.research.google.com/assets/colab-badge.svg\" alt=\"Open In Colab\"/\u003e"
            ]
        },
        {
            "cell_type": "code",
            "execution_count": 1,
            "metadata": {},
            "outputs": [],
            "source": [
                "# Import necessary libraries\n",
                "import numpy as np \n",
                "from PIL.Image import open\n",
                "import matplotlib.pyplot as pyplot\n",
                ""
            ]
        },
        {
            "cell_type": "code",
            "execution_count": 0,
            "metadata": {},
            "outputs": [],
            "source": [
                "# Read the files bird.jpeg and ss.jpg\n",
                "\n",
                "# YOUR CODE HERE"
            ]
        }
    ]
}

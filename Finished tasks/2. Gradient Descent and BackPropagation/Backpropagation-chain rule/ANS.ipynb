{
    "metadata": {
        "kernelspec": {
            "name": "python3",
            "display_name": "Python 3 (ipykernel)",
            "language": "python"
        }
    },
    "nbformat": 4,
    "nbformat_minor": 0,
    "cells": [
        {
            "cell_type": "code",
            "execution_count": 1,
            "metadata": {},
            "outputs": [],
            "source": [
                "# Import required libraries\n",
                "import pandas as pd\n",
                "import numpy as np\n",
                "import matplotlib.pyplot as plt\n",
                "from sklearn.metrics import mean_squared_error\n",
                "%matplotlib inline\n",
                ""
            ]
        },
        {
            "cell_type": "code",
            "execution_count": 2,
            "metadata": {},
            "outputs": [],
            "source": [
                "# Get the data from the file `backprop.csv`\n",
                "# df = pd.read_csv('backprop.csv')\n",
                "df = pd.read_csv('backprop.csv')\n",
                "\n",
                "# Get the predictor and response variables\n",
                "x = df.x.values.reshape(-1,1)\n",
                "y = df.y.values.reshape(-1,1)\n",
                ""
            ]
        },
        {
            "cell_type": "code",
            "execution_count": 3,
            "metadata": {},
            "outputs": [
                {
                    "data": {
                        "text/html": [
                            "\n",
                            "  \u003cdiv id=\"df-2d6640c4-1310-4bbd-a0c3-66ad7f9696ad\"\u003e\n",
                            "    \u003cdiv class=\"colab-df-container\"\u003e\n",
                            "      \u003cdiv\u003e\n",
                            "\u003cstyle scoped\u003e\n",
                            "    .dataframe tbody tr th:only-of-type {\n",
                            "        vertical-align: middle;\n",
                            "    }\n",
                            "\n",
                            "    .dataframe tbody tr th {\n",
                            "        vertical-align: top;\n",
                            "    }\n",
                            "\n",
                            "    .dataframe thead th {\n",
                            "        text-align: right;\n",
                            "    }\n",
                            "\u003c/style\u003e\n",
                            "\u003ctable border=\"1\" class=\"dataframe\"\u003e\n",
                            "  \u003cthead\u003e\n",
                            "    \u003ctr style=\"text-align: right;\"\u003e\n",
                            "      \u003cth\u003e\u003c/th\u003e\n",
                            "      \u003cth\u003ex\u003c/th\u003e\n",
                            "      \u003cth\u003ey\u003c/th\u003e\n",
                            "    \u003c/tr\u003e\n",
                            "  \u003c/thead\u003e\n",
                            "  \u003ctbody\u003e\n",
                            "    \u003ctr\u003e\n",
                            "      \u003cth\u003e0\u003c/th\u003e\n",
                            "      \u003ctd\u003e-5.00000\u003c/td\u003e\n",
                            "      \u003ctd\u003e0.006693\u003c/td\u003e\n",
                            "    \u003c/tr\u003e\n",
                            "    \u003ctr\u003e\n",
                            "      \u003cth\u003e1\u003c/th\u003e\n",
                            "      \u003ctd\u003e-4.98999\u003c/td\u003e\n",
                            "      \u003ctd\u003e0.006760\u003c/td\u003e\n",
                            "    \u003c/tr\u003e\n",
                            "    \u003ctr\u003e\n",
                            "      \u003cth\u003e2\u003c/th\u003e\n",
                            "      \u003ctd\u003e-4.97998\u003c/td\u003e\n",
                            "      \u003ctd\u003e0.006827\u003c/td\u003e\n",
                            "    \u003c/tr\u003e\n",
                            "    \u003ctr\u003e\n",
                            "      \u003cth\u003e3\u003c/th\u003e\n",
                            "      \u003ctd\u003e-4.96997\u003c/td\u003e\n",
                            "      \u003ctd\u003e0.006895\u003c/td\u003e\n",
                            "    \u003c/tr\u003e\n",
                            "    \u003ctr\u003e\n",
                            "      \u003cth\u003e4\u003c/th\u003e\n",
                            "      \u003ctd\u003e-4.95996\u003c/td\u003e\n",
                            "      \u003ctd\u003e0.006964\u003c/td\u003e\n",
                            "    \u003c/tr\u003e\n",
                            "  \u003c/tbody\u003e\n",
                            "\u003c/table\u003e\n",
                            "\u003c/div\u003e\n",
                            "      \u003cbutton class=\"colab-df-convert\" onclick=\"convertToInteractive('df-2d6640c4-1310-4bbd-a0c3-66ad7f9696ad')\"\n",
                            "              title=\"Convert this dataframe to an interactive table.\"\n",
                            "              style=\"display:none;\"\u003e\n",
                            "        \n",
                            "  \u003csvg xmlns=\"http://www.w3.org/2000/svg\" height=\"24px\"viewBox=\"0 0 24 24\"\n",
                            "       width=\"24px\"\u003e\n",
                            "    \u003cpath d=\"M0 0h24v24H0V0z\" fill=\"none\"/\u003e\n",
                            "    \u003cpath d=\"M18.56 5.44l.94 2.06.94-2.06 2.06-.94-2.06-.94-.94-2.06-.94 2.06-2.06.94zm-11 1L8.5 8.5l.94-2.06 2.06-.94-2.06-.94L8.5 2.5l-.94 2.06-2.06.94zm10 10l.94 2.06.94-2.06 2.06-.94-2.06-.94-.94-2.06-.94 2.06-2.06.94z\"/\u003e\u003cpath d=\"M17.41 7.96l-1.37-1.37c-.4-.4-.92-.59-1.43-.59-.52 0-1.04.2-1.43.59L10.3 9.45l-7.72 7.72c-.78.78-.78 2.05 0 2.83L4 21.41c.39.39.9.59 1.41.59.51 0 1.02-.2 1.41-.59l7.78-7.78 2.81-2.81c.8-.78.8-2.07 0-2.86zM5.41 20L4 18.59l7.72-7.72 1.47 1.35L5.41 20z\"/\u003e\n",
                            "  \u003c/svg\u003e\n",
                            "      \u003c/button\u003e\n",
                            "      \n",
                            "  \u003cstyle\u003e\n",
                            "    .colab-df-container {\n",
                            "      display:flex;\n",
                            "      flex-wrap:wrap;\n",
                            "      gap: 12px;\n",
                            "    }\n",
                            "\n",
                            "    .colab-df-convert {\n",
                            "      background-color: #E8F0FE;\n",
                            "      border: none;\n",
                            "      border-radius: 50%;\n",
                            "      cursor: pointer;\n",
                            "      display: none;\n",
                            "      fill: #1967D2;\n",
                            "      height: 32px;\n",
                            "      padding: 0 0 0 0;\n",
                            "      width: 32px;\n",
                            "    }\n",
                            "\n",
                            "    .colab-df-convert:hover {\n",
                            "      background-color: #E2EBFA;\n",
                            "      box-shadow: 0px 1px 2px rgba(60, 64, 67, 0.3), 0px 1px 3px 1px rgba(60, 64, 67, 0.15);\n",
                            "      fill: #174EA6;\n",
                            "    }\n",
                            "\n",
                            "    [theme=dark] .colab-df-convert {\n",
                            "      background-color: #3B4455;\n",
                            "      fill: #D2E3FC;\n",
                            "    }\n",
                            "\n",
                            "    [theme=dark] .colab-df-convert:hover {\n",
                            "      background-color: #434B5C;\n",
                            "      box-shadow: 0px 1px 3px 1px rgba(0, 0, 0, 0.15);\n",
                            "      filter: drop-shadow(0px 1px 2px rgba(0, 0, 0, 0.3));\n",
                            "      fill: #FFFFFF;\n",
                            "    }\n",
                            "  \u003c/style\u003e\n",
                            "\n",
                            "      \u003cscript\u003e\n",
                            "        const buttonEl =\n",
                            "          document.querySelector('#df-2d6640c4-1310-4bbd-a0c3-66ad7f9696ad button.colab-df-convert');\n",
                            "        buttonEl.style.display =\n",
                            "          google.colab.kernel.accessAllowed ? 'block' : 'none';\n",
                            "\n",
                            "        async function convertToInteractive(key) {\n",
                            "          const element = document.querySelector('#df-2d6640c4-1310-4bbd-a0c3-66ad7f9696ad');\n",
                            "          const dataTable =\n",
                            "            await google.colab.kernel.invokeFunction('convertToInteractive',\n",
                            "                                                     [key], {});\n",
                            "          if (!dataTable) return;\n",
                            "\n",
                            "          const docLinkHtml = 'Like what you see? Visit the ' +\n",
                            "            '\u003ca target=\"_blank\" href=https://colab.research.google.com/notebooks/data_table.ipynb\u003edata table notebook\u003c/a\u003e'\n",
                            "            + ' to learn more about interactive tables.';\n",
                            "          element.innerHTML = '';\n",
                            "          dataTable['output_type'] = 'display_data';\n",
                            "          await google.colab.output.renderOutput(dataTable, element);\n",
                            "          const docLink = document.createElement('div');\n",
                            "          docLink.innerHTML = docLinkHtml;\n",
                            "          element.appendChild(docLink);\n",
                            "        }\n",
                            "      \u003c/script\u003e\n",
                            "    \u003c/div\u003e\n",
                            "  \u003c/div\u003e\n",
                            "  "
                        ],
                        "text/plain": [
                            "         x         y\n",
                            "0 -5.00000  0.006693\n",
                            "1 -4.98999  0.006760\n",
                            "2 -4.97998  0.006827\n",
                            "3 -4.96997  0.006895\n",
                            "4 -4.95996  0.006964"
                        ]
                    },
                    "execution_count": 3,
                    "metadata": {},
                    "output_type": "execute_result"
                }
            ],
            "source": [
                "df.head()"
            ]
        },
        {
            "cell_type": "code",
            "execution_count": 52,
            "metadata": {},
            "outputs": [
                {
                    "data": {
                        "text/plain": [
                            "(2, 1)"
                        ]
                    },
                    "execution_count": 52,
                    "metadata": {},
                    "output_type": "execute_result"
                }
            ],
            "source": [
                "# Initialize the weights, but keep the random seed as 310 for reproducible results\n",
                "np.random.seed(310)\n",
                "\n",
                "# W is a list that contains both w1 and w2\n",
                "# W = [w1,w2]\n",
                "W = np.array([np.random.randn(1, 1), np.random.randn(1, 1)]).reshape(-1,1)\n",
                "W.shape"
            ]
        },
        {
            "attachments": {},
            "cell_type": "markdown",
            "metadata": {},
            "source": [
                "### ⏸ What is the dimension of W?\n",
                "\n",
                "#### A. 2x1\n",
                "#### B. 1x2\n",
                "#### C. 3x3\n",
                "#### D. 3x1"
            ]
        },
        {
            "cell_type": "code",
            "execution_count": 5,
            "metadata": {},
            "outputs": [],
            "source": [
                "### edTest(test_chow1) ###\n",
                "# Submit an answer choice as a string below \n",
                "# (eg. if you choose option C, put 'C')\n",
                "answer1 = 'A'\n",
                ""
            ]
        },
        {
            "cell_type": "code",
            "execution_count": 7,
            "metadata": {},
            "outputs": [],
            "source": [
                "# Function to define the neural network\n",
                "def neural_network(W, x):\n",
                "\n",
                "    # W is a list of the two weights (w1,w2) of your neural network\n",
                "    # x is the input to the neural network\n",
                "    w1 = W[0].reshape(-1,1)\n",
                "    w2 = W[1].reshape(-1,1)\n",
                "\n",
                "    '''\n",
                "    Compute h1, h2 and y\n",
                "    h1 is the matrix product of the input and w1 using np.dot()\n",
                "    To compute h2, first use the activation function on h1, then multiply by w2\n",
                "    Finally, use the activation function on h2 to compute y\n",
                "    Return all three values which you will use to compute derivatives later\n",
                "    '''\n",
                "    h1 = np.dot(x,w1)\n",
                "    h2 = np.dot(np.sin(h1),w2)\n",
                "    y = np.sin(h2)\n",
                "    \n",
                "    # Remember that we return all activations and the output,\n",
                "    return h1,h2,y\n",
                "    "
            ]
        },
        {
            "attachments": {},
            "cell_type": "markdown",
            "metadata": {},
            "source": [
                "## True function vs neural network predictions\n",
                "Here we plot our neural network predictions (with random initializations) along with the true function"
            ]
        },
        {
            "cell_type": "code",
            "execution_count": 8,
            "metadata": {},
            "outputs": [
                {
                    "data": {
                        "image/png": "[encoded data removed]",
                        "text/plain": [
                            "\u003cFigure size 576x432 with 1 Axes\u003e"
                        ]
                    },
                    "metadata": {
                        "needs_background": "light"
                    },
                    "output_type": "display_data"
                }
            ],
            "source": [
                "fig,ax = plt.subplots(1,1,figsize=(8,6))\n",
                "\n",
                "# Plot the true x and y values\n",
                "ax.plot(x,y,label = 'True function',color='darkblue',linewidth=2)\n",
                "\n",
                "# Plot the x values with the network predictions\n",
                "h1,h2,y_pred = neural_network(W,x)\n",
                "ax.plot(x,y_pred,label = 'Neural net predictions',color='#9FC131FF',linewidth=2)\n",
                "\n",
                "# Set the x and y labels\n",
                "ax.set_xlabel('$x$',fontsize=14)\n",
                "ax.set_ylabel('$y$',fontsize=14)\n",
                "ax.legend(fontsize=14);\n",
                ""
            ]
        },
        {
            "cell_type": "code",
            "execution_count": 9,
            "metadata": {},
            "outputs": [
                {
                    "name": "stdout",
                    "output_type": "stream",
                    "text": "The MSE of the neural network predictions wrt true function is 0.34\n"
                }
            ],
            "source": [
                "### edTest(test_nn_mse) ###\n",
                "\n",
                "# You can use the mean_squared_error function to find the MSE \n",
                "# of your predictions with true function values\n",
                "h1,h2, y_pred = neural_network(W,x)\n",
                "mse = mean_squared_error(y,y_pred)\n",
                "print(f'The MSE of the neural network predictions wrt true function is {mse:.2f}')\n",
                ""
            ]
        },
        {
            "attachments": {},
            "cell_type": "markdown",
            "metadata": {},
            "source": [
                "# Single update"
            ]
        },
        {
            "attachments": {},
            "cell_type": "markdown",
            "metadata": {},
            "source": [
                "### ⏸ What is $\\frac{\\partial L}{\\partial w_2}$ from the options below: \n",
                "\n",
                "#### A. $\\frac{1}{n}\\sum_i^n2\\left(y_{pred}\\ -y\\right)\\cos\\left(h_2\\right)\\sin\\left(h_1\\right)$\n",
                "#### B. $\\frac{1}{n}\\sum_i^n2\\left(y-y_{pred}\\ \\right)\\cos\\left(a_2\\right)\\sin\\left(a_1\\right)$\n",
                "#### C. $\\frac{1}{n}\\sum_i^n2\\left(y-y_{pred}\\ \\right)\\sin\\left(h_2\\right)\\sin\\left(h_1\\right)$\n",
                "#### D. $\\frac{1}{n}\\sum_i^n2\\left(y_{pred}\\ -y\\right)\\cos\\left(a_2\\right)\\sin\\left(a_1\\right)$"
            ]
        },
        {
            "cell_type": "code",
            "execution_count": 10,
            "metadata": {},
            "outputs": [],
            "source": [
                "### edTest(test_chow2) ###\n",
                "# Submit an answer choice as a string below \n",
                "# (eg. if you choose option C, put 'C')\n",
                "answer2 = 'A'\n",
                ""
            ]
        },
        {
            "cell_type": "code",
            "execution_count": 35,
            "metadata": {},
            "outputs": [
                {
                    "data": {
                        "text/plain": [
                            "(1000, 1)"
                        ]
                    },
                    "execution_count": 35,
                    "metadata": {},
                    "output_type": "execute_result"
                }
            ],
            "source": [
                "temp = np.cos(h2)*np.sin(h1)\n",
                "temp.shape"
            ]
        },
        {
            "cell_type": "code",
            "execution_count": 48,
            "metadata": {},
            "outputs": [],
            "source": [
                "# Here we will update the weights only once\n",
                "\n",
                "# Get the predicted response, and the two affine transformations of the network\n",
                "h1,h2, y_pred = neural_network(W,x)\n",
                "\n",
                "# Compute the gradient of the loss function with respect to weight 2\n",
                "dldw1 = np.mean(2*(y_pred-y)*np.cos(h2)*np.sin(h1))\n",
                "\n",
                "# Now compute the gradient of the loss function with respect to weight 1\n",
                "dldw2 = np.mean(2*(y_pred-y)*np.cos(h2)*W[1]*np.cos(h1)*x)\n",
                ""
            ]
        },
        {
            "cell_type": "code",
            "execution_count": 42,
            "metadata": {},
            "outputs": [
                {
                    "data": {
                        "text/plain": [
                            "()"
                        ]
                    },
                    "execution_count": 42,
                    "metadata": {},
                    "output_type": "execute_result"
                }
            ],
            "source": [
                "dldw1.shape"
            ]
        },
        {
            "cell_type": "code",
            "execution_count": 54,
            "metadata": {},
            "outputs": [],
            "source": [
                "# In the update step, make sure to update the weights with their gradients\n",
                "# Here we take a learning rate of 1\n",
                "lr = 1\n",
                "W[0] = W[0] - lr*dldw1\n",
                "W[1] = W[1] - lr*dldw2\n",
                ""
            ]
        },
        {
            "cell_type": "code",
            "execution_count": 49,
            "metadata": {},
            "outputs": [
                {
                    "name": "stdout",
                    "output_type": "stream",
                    "text": "-499.99999999999994\n0.27880021231492413\n-0.007777900562928892\n"
                }
            ],
            "source": [
                "print(np.sum(y_pred-y))\n",
                "print(dldw1)\n",
                "print(dldw2)"
            ]
        },
        {
            "cell_type": "code",
            "execution_count": 55,
            "metadata": {},
            "outputs": [
                {
                    "data": {
                        "image/png": "[encoded data removed]",
                        "text/plain": [
                            "\u003cFigure size 576x432 with 1 Axes\u003e"
                        ]
                    },
                    "metadata": {
                        "needs_background": "light"
                    },
                    "output_type": "display_data"
                }
            ],
            "source": [
                "fig,ax = plt.subplots(1,1,figsize=(8,6))\n",
                "\n",
                "# Plot the true x and y values\n",
                "ax.plot(x,y,label = 'True function',color='darkblue',linewidth=2)\n",
                "\n",
                "# Plot the x values with the network predictions\n",
                "h1,h2,y_pred = neural_network(W,x)\n",
                "ax.plot(x,y_pred,label = 'Neural net predictions',color='#9FC131FF',linewidth=2)\n",
                "\n",
                "# Set the x and y labels\n",
                "ax.set_xlabel('$x$',fontsize=14)\n",
                "ax.set_ylabel('$y$',fontsize=14)\n",
                "ax.legend(fontsize=14);\n",
                ""
            ]
        },
        {
            "cell_type": "code",
            "execution_count": 56,
            "metadata": {},
            "outputs": [
                {
                    "name": "stdout",
                    "output_type": "stream",
                    "text": "The MSE of the new neural network predictions with true function is 0.29 as compared to 0.34 from before \n"
                }
            ],
            "source": [
                "### edTest(test_one_update_mse) ###\n",
                "\n",
                "# Compute the new MSE after one update and print it\n",
                "h1,h2,y_pred = neural_network(W,x)\n",
                "\n",
                "# Calculate the mse using the new predicted y values \n",
                "mse_update = mean_squared_error(y,y_pred)\n",
                "print(f'The MSE of the new neural network predictions with true function is {mse_update:.2f} as compared to {mse:.2f} from before ')\n",
                ""
            ]
        },
        {
            "attachments": {},
            "cell_type": "markdown",
            "metadata": {},
            "source": [
                "# Several updates\n",
                "\n",
                "In principle, only a single update will never be sufficient to improve model predictions.\n",
                "In the below segment, use the method from above, and update the weight 300 times before plotting predictions.\n",
                "\n",
                "Does your MSE decrease?"
            ]
        },
        {
            "cell_type": "code",
            "execution_count": 57,
            "metadata": {},
            "outputs": [],
            "source": [
                "# Reinitialize the weights to start again \n",
                "np.random.seed(310)\n",
                "W = [np.random.randn(1, 1), np.random.randn(1, 1)]\n",
                ""
            ]
        },
        {
            "cell_type": "code",
            "execution_count": 58,
            "metadata": {},
            "outputs": [],
            "source": [
                "# Unlike the previous step, this time we will set a learning rate of \n",
                "# 0.01 to avoid drastic updates and run the above code for 300 loops\n",
                "\n",
                "lmb = 0.01\n",
                "for i in range(300):\n",
                "    h1,h2,y_pred = neural_network(W,x)\n",
                "\n",
                "    # Remember to use np.mean\n",
                "    dldw2 = np.mean(2*(y_pred-y)*np.cos(h2)*np.sin(h1))\n",
                "    dldw1 = np.mean(2*(y_pred-y)*np.cos(h2)*W[1]*np.cos(h1)*x)\n",
                "    \n",
                "    W[0] = W[0] - lmb * dldw1\n",
                "    W[1] = W[1] - lmb * dldw2\n",
                "    "
            ]
        },
        {
            "cell_type": "code",
            "execution_count": 59,
            "metadata": {},
            "outputs": [
                {
                    "data": {
                        "image/png": "[encoded data removed]",
                        "text/plain": [
                            "\u003cFigure size 576x432 with 1 Axes\u003e"
                        ]
                    },
                    "metadata": {
                        "needs_background": "light"
                    },
                    "output_type": "display_data"
                }
            ],
            "source": [
                "fig,ax = plt.subplots(1,1,figsize=(8,6))\n",
                "\n",
                "# Plot the true x and y values\n",
                "ax.plot(x,y,label = 'True function',color='darkblue',linewidth=2)\n",
                "\n",
                "# Plot the x values with the network predictions\n",
                "h1,h2,y_pred = neural_network(W,x)\n",
                "ax.plot(x,y_pred,label = 'Neural net predictions',color='#9FC131FF',linewidth=2)\n",
                "\n",
                "# Set the x and y labels\n",
                "ax.set_xlabel('$x$',fontsize=14)\n",
                "ax.set_ylabel('$y$',fontsize=14)\n",
                "ax.legend(fontsize=14);\n",
                ""
            ]
        },
        {
            "cell_type": "code",
            "execution_count": 60,
            "metadata": {},
            "outputs": [
                {
                    "name": "stdout",
                    "output_type": "stream",
                    "text": "The final MSE is 0.25 as compared to 0.34 from before \n"
                }
            ],
            "source": [
                "### edTest(test_mse) ###\n",
                "\n",
                "# We again compute the MSE and compare it with the original predictions\n",
                "h1,h2,y_pred = neural_network(W,x)\n",
                "mse_final = mean_squared_error(y,y_pred)\n",
                "\n",
                "print(f'The final MSE is {mse_final:.2f} as compared to {mse:.2f} from before ')\n",
                ""
            ]
        },
        {
            "attachments": {},
            "cell_type": "markdown",
            "metadata": {},
            "source": [
                "# Mindchow 🍲\n",
                "\n",
                "If you notice, your predicted values are off by approximately 0.5, from the actual values.\n",
                "After marking, go back to your neural network and add a bias correction to your predictions of 0.5.\n",
                "i.e `y = np.sin(h2) + 0.5` and rerun your code.\n",
                "\n",
                "Does your code fit better? And does your $MSE$ reduce?"
            ]
        },
        {
            "cell_type": "code",
            "execution_count": 0,
            "metadata": {},
            "outputs": [],
            "source": [
                "### edTest(test_chow3) ###\n",
                "# Type your answer within in the quotes given\n",
                "answer3 = 'Yes'\n",
                ""
            ]
        }
    ]
}

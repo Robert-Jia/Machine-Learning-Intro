{
 "cells": [
  {
   "cell_type": "code",
   "execution_count": null,
   "metadata": {},
   "outputs": [],
   "source": [
    "# import required libraries\n",
    "\n",
    "import pandas as pd\n",
    "import numpy as np\n",
    "import matplotlib.pyplot as plt\n",
    "from sklearn.metrics import mean_squared_error\n",
    "%matplotlib inline"
   ]
  },
  {
   "cell_type": "code",
   "execution_count": null,
   "metadata": {},
   "outputs": [],
   "source": [
    "# get the data from the file `backprop.csv`\n",
    "\n",
    "df = pd.read_csv('backprop.csv')\n",
    "\n",
    "x = df.x.values.reshape(-1,1)\n",
    "\n",
    "y = df.y.values.reshape(-1,1)"
   ]
  },
  {
   "cell_type": "code",
   "execution_count": null,
   "metadata": {},
   "outputs": [],
   "source": [
    "# Initialize the weights, but keep the random seed as 310 for reproducable results\n",
    "\n",
    "np.random.seed(310)\n",
    "W = [np.random.randn(1, 1), np.random.randn(1, 1)]"
   ]
  },
  {
   "cell_type": "markdown",
   "metadata": {},
   "source": [
    "### ⏸ What are the dimensions of W?\n",
    "\n",
    "1. 2x1\n",
    "2. 1x2\n",
    "3. 3x3\n",
    "4. 3x1"
   ]
  },
  {
   "cell_type": "code",
   "execution_count": null,
   "metadata": {},
   "outputs": [],
   "source": [
    "# edTest(test_chow1) ###\n",
    "# Submit an answer choice as a string below (eg. if you choose option 3, put '3')\n",
    "answer1 = '___'"
   ]
  },
  {
   "cell_type": "code",
   "execution_count": null,
   "metadata": {},
   "outputs": [],
   "source": [
    "# Designing the simple neural network \n",
    "\n",
    "def neural_network(W, x):\n",
    "    # W is a list of the two weights (w1,w2) of your neural network\n",
    "    # x is the input to the neural network\n",
    "    w1 = W[0]\n",
    "    w2 = W[1]\n",
    "    '''\n",
    "    Compute a1, a2, and y\n",
    "    a1 is the dot product of the input and w1\n",
    "    To compute a2, first use the activation function on a1 (call it h1), then multiply by w2\n",
    "    Finally, use the activation function on a2 to compute y\n",
    "    Return all three values which you will use to compute derivatives later\n",
    "    '''\n",
    "    a1 = ___\n",
    "    h1 = ___\n",
    "    a2 = ___\n",
    "     y = ___\n",
    "    \n",
    "# Remember that we return all activations and the output,\n",
    "    return a1,a2,y"
   ]
  },
  {
   "cell_type": "markdown",
   "metadata": {},
   "source": [
    "## True function vs neural network predictions\n",
    "Here we plot our neural network predictions (with random initializations) along with the true function"
   ]
  },
  {
   "cell_type": "code",
   "execution_count": null,
   "metadata": {},
   "outputs": [],
   "source": [
    "fig,ax = plt.subplots(1,1,figsize=(8,6))\n",
    "\n",
    "# plot the true x and y values\n",
    "ax.plot(x,y,label = 'True function',color='darkblue',linewidth=2)\n",
    "\n",
    "# plot the x values with the network predictions\n",
    "\n",
    "a1,a2,y_pred = neural_network(W,x)\n",
    "ax.plot(x,y_pred,label = 'Neural net predictions',color='#9FC131FF',linewidth=2)\n",
    "\n",
    "# Set the x and y labels\n",
    "ax.set_xlabel('$x$',fontsize=14)\n",
    "ax.set_ylabel('$y$',fontsize=14)\n",
    "ax.legend(fontsize=14);"
   ]
  },
  {
   "cell_type": "code",
   "execution_count": null,
   "metadata": {},
   "outputs": [],
   "source": [
    "### edTest(test_nn_mse) ###\n",
    "\n",
    "# You can use the mean_squared_error function to find the MSE of your predictions with true function values\n",
    "a1,a2, y_pred = ___\n",
    "mse = mean_squared_error(y, y_pred)\n",
    "print(f'The MSE of the neural network predictions wrt true function is {mse:.2f}')"
   ]
  },
  {
   "cell_type": "markdown",
   "metadata": {},
   "source": [
    "# Single update"
   ]
  },
  {
   "cell_type": "code",
   "execution_count": null,
   "metadata": {},
   "outputs": [],
   "source": [
    "# Here we will update the weights only once\n",
    "\n",
    "# Ge the predicted response, and the two activations of the network\n",
    "\n",
    "a1,a2,y_pred = ___\n",
    "\n",
    "# Compute the gradient of the loss function with respect to weight 2\n",
    "\n",
    "dldw2 = ___\n",
    "\n",
    "# Now compute the gradient of the loss function with respect to weight 1\n",
    "\n",
    "dldw1 = ___\n",
    "\n",
    "# combine the two partial derivatives in a list\n",
    "\n",
    "dldw = [dldw1,dldw2]"
   ]
  },
  {
   "cell_type": "code",
   "execution_count": null,
   "metadata": {},
   "outputs": [],
   "source": [
    "# In the update step, make sure to update the weights with their gradients\n",
    "\n",
    "Wnew = [i - j for i,j in zip(W,dldw)]"
   ]
  },
  {
   "cell_type": "markdown",
   "metadata": {},
   "source": [
    "### ⏸ What is $\\frac{\\partial L}{\\partial w_2}$ from the options below: \n",
    "\n",
    "1. $\\frac{1}{n}\\sum_i^n2\\left(y_{pred}\\ -y\\right)\\cos\\left(a_2\\right)\\sin\\left(a_1\\right)$\n",
    "2. $\\frac{1}{n}\\sum_i^n2\\left(y-y_{pred}\\ \\right)\\cos\\left(a_2\\right)\\sin\\left(a_1\\right)$\n",
    "3. $\\frac{1}{n}\\sum_i^n2\\left(y-y_{pred}\\ \\right)\\sin\\left(a_2\\right)\\sin\\left(a_1\\right)$\n",
    "4. $\\frac{1}{n}\\sum_i^n2\\left(y_{pred}\\ -y\\right)\\sin\\left(a_2\\right)\\cos\\left(a_1\\right)$"
   ]
  },
  {
   "cell_type": "code",
   "execution_count": null,
   "metadata": {},
   "outputs": [],
   "source": [
    "# edTest(test_chow2) ###\n",
    "# Submit an answer choice as a string below (eg. if you choose option 3, put '3')\n",
    "answer2 = '___'"
   ]
  },
  {
   "cell_type": "code",
   "execution_count": null,
   "metadata": {},
   "outputs": [],
   "source": [
    "fig,ax = plt.subplots(1,1,figsize=(8,6))\n",
    "\n",
    "# plot the true x and y values\n",
    "ax.plot(x,y,label = 'True function',color='darkblue',linewidth=2)\n",
    "\n",
    "# plot the x values with the network predictions\n",
    "\n",
    "a1,a2,y_pred = neural_network(W,x)\n",
    "ax.plot(x,y_pred,label = 'Neural net predictions',color='#9FC131FF',linewidth=2)\n",
    "\n",
    "# Set the x and y labels\n",
    "ax.set_xlabel('$x$',fontsize=14)\n",
    "ax.set_ylabel('$y$',fontsize=14)\n",
    "ax.legend(fontsize=14);"
   ]
  },
  {
   "cell_type": "code",
   "execution_count": null,
   "metadata": {},
   "outputs": [],
   "source": [
    "### edTest(test_one_update_mse) ###\n",
    "# Compute the new MSE after one update and print it\n",
    "a1,a2,y_pred = neural_network(Wnew,x)\n",
    "\n",
    "#Calculate the mse using the new predicted y values \n",
    "mse_update = ___\n",
    "print(f'The MSE of the new neural network predictions with true function is {mse_update:.2f} as compared to {mse:.2f} from before ')"
   ]
  },
  {
   "cell_type": "markdown",
   "metadata": {},
   "source": [
    "# Several updates\n",
    "\n",
    "In principle, only a single update will never be sufficient to improve model predictions.\n",
    "In the below segment, use the method from above, and update the weight 300 times before plotting predictions.\n",
    "\n",
    "Does your MSE decrease?"
   ]
  },
  {
   "cell_type": "code",
   "execution_count": null,
   "metadata": {},
   "outputs": [],
   "source": [
    "# Reinitialize the weights to start again \n",
    "np.random.seed(310)\n",
    "W = [np.random.randn(1, 1), np.random.randn(1, 1)]"
   ]
  },
  {
   "cell_type": "code",
   "execution_count": null,
   "metadata": {},
   "outputs": [],
   "source": [
    "# Unlike the previous step, this time we will set a learning rate of 0.01 to avoid drastic updates and run the above code for 10000 loops\n",
    "\n",
    "lmb = 0.01\n",
    "for i in range(300):\n",
    "    a1,a2,y_pred = neural_network(W,x)\n",
    "\n",
    "    # Remember to use np.mean\n",
    "    dldw2 = ___\n",
    "    dldw1 = ___\n",
    "    \n",
    "    W[0] = W[0] - lmb * dldw1\n",
    "    W[1] = W[1] - lmb * dldw2"
   ]
  },
  {
   "cell_type": "code",
   "execution_count": null,
   "metadata": {},
   "outputs": [],
   "source": [
    "fig,ax = plt.subplots(1,1,figsize=(8,6))\n",
    "\n",
    "# plot the true x and y values\n",
    "ax.plot(x,y,label = 'True function',color='darkblue',linewidth=2)\n",
    "\n",
    "# plot the x values with the network predictions\n",
    "\n",
    "a1,a2,y_pred = neural_network(W,x)\n",
    "ax.plot(x,y_pred,label = 'Neural net predictions',color='#9FC131FF',linewidth=2)\n",
    "\n",
    "# Set the x and y labels\n",
    "ax.set_xlabel('$x$',fontsize=14)\n",
    "ax.set_ylabel('$y$',fontsize=14)\n",
    "ax.legend(fontsize=14);"
   ]
  },
  {
   "cell_type": "code",
   "execution_count": null,
   "metadata": {},
   "outputs": [],
   "source": [
    "### edTest(test_mse) ###\n",
    "# We again compute the MSE and compare it with the original predictions\n",
    "a1,a2,y_pred = neural_network(W,x)s\n",
    "mse_final = mean_squared_error(y,y_pred)\n",
    "print(f'The final MSE is {mse_final:.2f} as compared to {mse:.2f} from before ')"
   ]
  },
  {
   "cell_type": "markdown",
   "metadata": {},
   "source": [
    "# Mindchow 🍲\n",
    "\n",
    "If you notice, your predicted values are off by approximately 0.5, from the actual values.\n",
    "After marking, go back to your neural network and add a bias correction to your predictions of 0.5.\n",
    "i.e `y = np.sin(a2) + 0.5` and rerun your code.\n",
    "\n",
    "Does your code fit better? And does your $MSE$ reduce?"
   ]
  }
 ],
 "metadata": {
  "kernelspec": {
   "display_name": "Python 3",
   "language": "python",
   "name": "python3"
  },
  "language_info": {
   "codemirror_mode": {
    "name": "ipython",
    "version": 3
   },
   "file_extension": ".py",
   "mimetype": "text/x-python",
   "name": "python",
   "nbconvert_exporter": "python",
   "pygments_lexer": "ipython3",
   "version": "3.9.0"
  }
 },
 "nbformat": 4,
 "nbformat_minor": 4
}

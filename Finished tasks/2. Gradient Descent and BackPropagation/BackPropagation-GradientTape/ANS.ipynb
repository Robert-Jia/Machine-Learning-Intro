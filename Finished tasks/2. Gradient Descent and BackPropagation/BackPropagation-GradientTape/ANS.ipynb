{
  "metadata": {
    "kernelspec": {
      "name": "python3",
      "display_name": "Python 3 (ipykernel)",
      "language": "python"
    },
    "colab": {
      "name": "backpropagation.ipynb",
      "provenance": [],
      "collapsed_sections": []
    }
  },
  "nbformat": 4,
  "nbformat_minor": 0,
  "cells": [
    {
      "cell_type": "code",
      "execution_count": 1,
      "metadata": {
        "id": "z3LaGCX6YYOq"
      },
      "outputs": [],
      "source": [
        "# Import the necessary libraries\n",
        "import pandas as pd\n",
        "%matplotlib inline\n",
        "import numpy as np\n",
        "import tensorflow as tf\n",
        "import matplotlib.pyplot as plt\n",
        "from tensorflow.keras.layers import Dense\n",
        "from tensorflow.keras.models import Sequential\n",
        "from tensorflow import keras\n"
      ]
    },
    {
      "cell_type": "code",
      "execution_count": 2,
      "metadata": {
        "id": "s1qmPbehYYOt"
      },
      "outputs": [],
      "source": [
        "# Read the file 'backprop.csv'\n",
        "df = pd.read_csv('backprop.csv')\n"
      ]
    },
    {
      "cell_type": "code",
      "execution_count": 3,
      "metadata": {
        "colab": {
          "base_uri": "https://localhost:8080/",
          "height": 206
        },
        "id": "Q4bWPUqsYYOu",
        "outputId": "ea5fa720-2e78-4171-b6e4-cb94b5bfc0ac"
      },
      "outputs": [
        {
          "output_type": "execute_result",
          "data": {
            "text/plain": [
              "         x         y\n",
              "0 -5.00000  0.006693\n",
              "1 -4.98999  0.006760\n",
              "2 -4.97998  0.006827\n",
              "3 -4.96997  0.006895\n",
              "4 -4.95996  0.006964"
            ],
            "text/html": [
              "\n",
              "  <div id=\"df-3647b41a-a6f5-4b06-8173-19b58338bdb1\">\n",
              "    <div class=\"colab-df-container\">\n",
              "      <div>\n",
              "<style scoped>\n",
              "    .dataframe tbody tr th:only-of-type {\n",
              "        vertical-align: middle;\n",
              "    }\n",
              "\n",
              "    .dataframe tbody tr th {\n",
              "        vertical-align: top;\n",
              "    }\n",
              "\n",
              "    .dataframe thead th {\n",
              "        text-align: right;\n",
              "    }\n",
              "</style>\n",
              "<table border=\"1\" class=\"dataframe\">\n",
              "  <thead>\n",
              "    <tr style=\"text-align: right;\">\n",
              "      <th></th>\n",
              "      <th>x</th>\n",
              "      <th>y</th>\n",
              "    </tr>\n",
              "  </thead>\n",
              "  <tbody>\n",
              "    <tr>\n",
              "      <th>0</th>\n",
              "      <td>-5.00000</td>\n",
              "      <td>0.006693</td>\n",
              "    </tr>\n",
              "    <tr>\n",
              "      <th>1</th>\n",
              "      <td>-4.98999</td>\n",
              "      <td>0.006760</td>\n",
              "    </tr>\n",
              "    <tr>\n",
              "      <th>2</th>\n",
              "      <td>-4.97998</td>\n",
              "      <td>0.006827</td>\n",
              "    </tr>\n",
              "    <tr>\n",
              "      <th>3</th>\n",
              "      <td>-4.96997</td>\n",
              "      <td>0.006895</td>\n",
              "    </tr>\n",
              "    <tr>\n",
              "      <th>4</th>\n",
              "      <td>-4.95996</td>\n",
              "      <td>0.006964</td>\n",
              "    </tr>\n",
              "  </tbody>\n",
              "</table>\n",
              "</div>\n",
              "      <button class=\"colab-df-convert\" onclick=\"convertToInteractive('df-3647b41a-a6f5-4b06-8173-19b58338bdb1')\"\n",
              "              title=\"Convert this dataframe to an interactive table.\"\n",
              "              style=\"display:none;\">\n",
              "        \n",
              "  <svg xmlns=\"http://www.w3.org/2000/svg\" height=\"24px\"viewBox=\"0 0 24 24\"\n",
              "       width=\"24px\">\n",
              "    <path d=\"M0 0h24v24H0V0z\" fill=\"none\"/>\n",
              "    <path d=\"M18.56 5.44l.94 2.06.94-2.06 2.06-.94-2.06-.94-.94-2.06-.94 2.06-2.06.94zm-11 1L8.5 8.5l.94-2.06 2.06-.94-2.06-.94L8.5 2.5l-.94 2.06-2.06.94zm10 10l.94 2.06.94-2.06 2.06-.94-2.06-.94-.94-2.06-.94 2.06-2.06.94z\"/><path d=\"M17.41 7.96l-1.37-1.37c-.4-.4-.92-.59-1.43-.59-.52 0-1.04.2-1.43.59L10.3 9.45l-7.72 7.72c-.78.78-.78 2.05 0 2.83L4 21.41c.39.39.9.59 1.41.59.51 0 1.02-.2 1.41-.59l7.78-7.78 2.81-2.81c.8-.78.8-2.07 0-2.86zM5.41 20L4 18.59l7.72-7.72 1.47 1.35L5.41 20z\"/>\n",
              "  </svg>\n",
              "      </button>\n",
              "      \n",
              "  <style>\n",
              "    .colab-df-container {\n",
              "      display:flex;\n",
              "      flex-wrap:wrap;\n",
              "      gap: 12px;\n",
              "    }\n",
              "\n",
              "    .colab-df-convert {\n",
              "      background-color: #E8F0FE;\n",
              "      border: none;\n",
              "      border-radius: 50%;\n",
              "      cursor: pointer;\n",
              "      display: none;\n",
              "      fill: #1967D2;\n",
              "      height: 32px;\n",
              "      padding: 0 0 0 0;\n",
              "      width: 32px;\n",
              "    }\n",
              "\n",
              "    .colab-df-convert:hover {\n",
              "      background-color: #E2EBFA;\n",
              "      box-shadow: 0px 1px 2px rgba(60, 64, 67, 0.3), 0px 1px 3px 1px rgba(60, 64, 67, 0.15);\n",
              "      fill: #174EA6;\n",
              "    }\n",
              "\n",
              "    [theme=dark] .colab-df-convert {\n",
              "      background-color: #3B4455;\n",
              "      fill: #D2E3FC;\n",
              "    }\n",
              "\n",
              "    [theme=dark] .colab-df-convert:hover {\n",
              "      background-color: #434B5C;\n",
              "      box-shadow: 0px 1px 3px 1px rgba(0, 0, 0, 0.15);\n",
              "      filter: drop-shadow(0px 1px 2px rgba(0, 0, 0, 0.3));\n",
              "      fill: #FFFFFF;\n",
              "    }\n",
              "  </style>\n",
              "\n",
              "      <script>\n",
              "        const buttonEl =\n",
              "          document.querySelector('#df-3647b41a-a6f5-4b06-8173-19b58338bdb1 button.colab-df-convert');\n",
              "        buttonEl.style.display =\n",
              "          google.colab.kernel.accessAllowed ? 'block' : 'none';\n",
              "\n",
              "        async function convertToInteractive(key) {\n",
              "          const element = document.querySelector('#df-3647b41a-a6f5-4b06-8173-19b58338bdb1');\n",
              "          const dataTable =\n",
              "            await google.colab.kernel.invokeFunction('convertToInteractive',\n",
              "                                                     [key], {});\n",
              "          if (!dataTable) return;\n",
              "\n",
              "          const docLinkHtml = 'Like what you see? Visit the ' +\n",
              "            '<a target=\"_blank\" href=https://colab.research.google.com/notebooks/data_table.ipynb>data table notebook</a>'\n",
              "            + ' to learn more about interactive tables.';\n",
              "          element.innerHTML = '';\n",
              "          dataTable['output_type'] = 'display_data';\n",
              "          await google.colab.output.renderOutput(dataTable, element);\n",
              "          const docLink = document.createElement('div');\n",
              "          docLink.innerHTML = docLinkHtml;\n",
              "          element.appendChild(docLink);\n",
              "        }\n",
              "      </script>\n",
              "    </div>\n",
              "  </div>\n",
              "  "
            ]
          },
          "metadata": {},
          "execution_count": 3
        }
      ],
      "source": [
        "# Take a quick look at your dataset\n",
        "df.head()\n"
      ]
    },
    {
      "cell_type": "code",
      "execution_count": 8,
      "metadata": {
        "id": "kxFerKq9YYOu"
      },
      "outputs": [],
      "source": [
        "# Assign the predictor and response data values to x and y variable\n",
        "x = df['x'].values.reshape(-1,1)\n",
        "y = df['y'].values.reshape(-1,1)\n",
        "# x = df['x'].values\n",
        "# y = df['y'].values\n"
      ]
    },
    {
      "cell_type": "code",
      "source": [
        "x.shape,y.shape"
      ],
      "metadata": {
        "colab": {
          "base_uri": "https://localhost:8080/"
        },
        "id": "HnCjVeJTY0_w",
        "outputId": "86efca6f-0a50-4622-ba99-8fe25dbdb14d"
      },
      "execution_count": 7,
      "outputs": [
        {
          "output_type": "execute_result",
          "data": {
            "text/plain": [
              "((1000,), (1000,))"
            ]
          },
          "metadata": {},
          "execution_count": 7
        }
      ]
    },
    {
      "cell_type": "code",
      "source": [
        "# After reshape\n",
        "x.shape,y.shape"
      ],
      "metadata": {
        "colab": {
          "base_uri": "https://localhost:8080/"
        },
        "id": "5OEtnK85iET3",
        "outputId": "260a1776-b171-4e36-a89b-c08c64779ab1"
      },
      "execution_count": 9,
      "outputs": [
        {
          "output_type": "execute_result",
          "data": {
            "text/plain": [
              "((1000, 1), (1000, 1))"
            ]
          },
          "metadata": {},
          "execution_count": 9
        }
      ]
    },
    {
      "cell_type": "code",
      "source": [
        "model = tf.keras.Sequential([\n",
        "    tf.keras.layers.Dense(3, activation=tf.math.sin, input_dim=1),\n",
        "    tf.keras.layers.Dense(1,activation = tf.math.sin)\n",
        "])\n",
        "\n",
        "# Take a look at the model summary\n",
        "model.summary()"
      ],
      "metadata": {
        "colab": {
          "base_uri": "https://localhost:8080/"
        },
        "id": "Sj85kuOWep53",
        "outputId": "cfd73934-f2e2-4c0e-b580-70aac3a90709"
      },
      "execution_count": 6,
      "outputs": [
        {
          "output_type": "stream",
          "name": "stdout",
          "text": [
            "Model: \"sequential_1\"\n",
            "_________________________________________________________________\n",
            " Layer (type)                Output Shape              Param #   \n",
            "=================================================================\n",
            " dense_2 (Dense)             (None, 3)                 6         \n",
            "                                                                 \n",
            " dense_3 (Dense)             (None, 1)                 4         \n",
            "                                                                 \n",
            "=================================================================\n",
            "Total params: 10\n",
            "Trainable params: 10\n",
            "Non-trainable params: 0\n",
            "_________________________________________________________________\n"
          ]
        }
      ]
    },
    {
      "cell_type": "code",
      "execution_count": 5,
      "metadata": {
        "colab": {
          "base_uri": "https://localhost:8080/"
        },
        "id": "siHdz3p-YYOv",
        "outputId": "51b97729-2701-4b18-a2ae-ceed2d9f6feb"
      },
      "outputs": [
        {
          "output_type": "stream",
          "name": "stdout",
          "text": [
            "Model: \"sequential\"\n",
            "_________________________________________________________________\n",
            " Layer (type)                Output Shape              Param #   \n",
            "=================================================================\n",
            " dense (Dense)               (None, 3)                 6         \n",
            "                                                                 \n",
            " dense_1 (Dense)             (None, 1)                 4         \n",
            "                                                                 \n",
            "=================================================================\n",
            "Total params: 10\n",
            "Trainable params: 10\n",
            "Non-trainable params: 0\n",
            "_________________________________________________________________\n"
          ]
        }
      ],
      "source": [
        "from tensorflow.python.ops.gen_math_ops import sin\n",
        "# Define the neural network model given by the figure in the instructions\n",
        "# Create a tensorflow.keras model with 1 hidden layer consisting of 3 neurons.\n",
        "model = keras.Sequential()\n",
        "# inputs = keras.Input(shape=(1,))\n",
        "# dense1 = keras.layers.Dense(3,activation='sin')(inputs)\n",
        "# output = keras.layers.Dense(1,activation='sin')(dense1)\n",
        "model.add(keras.layers.Dense(3,input_shape=(1,),activation=tf.math.sin))\n",
        "model.add(keras.layers.Dense(1,activation = tf.math.sin))\n",
        "# Take a look at the model summary\n",
        "# model.build()\n",
        "model.summary()"
      ]
    },
    {
      "cell_type": "code",
      "execution_count": 6,
      "metadata": {
        "colab": {
          "base_uri": "https://localhost:8080/",
          "height": 283
        },
        "id": "-nWO1-auYYOv",
        "outputId": "568a7bdf-44d2-48d0-904d-af8111ba31f2"
      },
      "outputs": [
        {
          "output_type": "execute_result",
          "data": {
            "text/plain": [
              "<matplotlib.legend.Legend at 0x7f7e166fd110>"
            ]
          },
          "metadata": {},
          "execution_count": 6
        },
        {
          "output_type": "display_data",
          "data": {
            "text/plain": [
              "<Figure size 432x288 with 1 Axes>"
            ],
            "image/png": "[encoded data removed]"
          },
          "metadata": {
            "needs_background": "light"
          }
        }
      ],
      "source": [
        "# Plot the true data and the predictions of your neural network\n",
        "predictions = np.asarray(model.predict(x))\n",
        "plt.plot(x,y,label='true_data')\n",
        "plt.plot(x,predictions,label='predictions')\n",
        "plt.legend()\n"
      ]
    },
    {
      "cell_type": "code",
      "source": [
        "epochs = 6000\n",
        "lr = 0.1\n",
        "loss_fn = tf.keras.losses.MeanSquaredError()\n",
        "losses = []\n",
        "for i in range(epochs):\n",
        "  with tf.GradientTape(persistent=True) as tape:\n",
        "    # Forward pass\n",
        "    output = model(x)\n",
        "    # calculate losses\n",
        "    loss = loss_fn(y,output)\n",
        "  # Append Loss\n",
        "  losses.append(loss)\n",
        "  # Calculate gradient\n",
        "  gradient = tape.gradient(loss,model.trainable_variables)\n",
        "  # Back propagation\n",
        "  model_weights = model.get_weights()\n",
        "  model.set_weights(model_weights - lr*np.array(gradient))\n",
        "  if i%100==0:\n",
        "        print(f'Loss is {loss} at epoch {i}')\n",
        "\n",
        "  if loss <= 0.001:\n",
        "        break\n"
      ],
      "metadata": {
        "colab": {
          "base_uri": "https://localhost:8080/"
        },
        "id": "FAV2EizqQqF3",
        "outputId": "e8e3daca-ea15-4663-f4c0-c6427f0b1abe"
      },
      "execution_count": 6,
      "outputs": [
        {
          "output_type": "stream",
          "name": "stderr",
          "text": [
            "/usr/local/lib/python3.7/dist-packages/ipykernel_launcher.py:17: VisibleDeprecationWarning: Creating an ndarray from ragged nested sequences (which is a list-or-tuple of lists-or-tuples-or ndarrays with different lengths or shapes) is deprecated. If you meant to do this, you must specify 'dtype=object' when creating the ndarray.\n"
          ]
        },
        {
          "output_type": "stream",
          "name": "stdout",
          "text": [
            "Loss is 0.8954868316650391 at epoch 0\n",
            "Loss is 0.15143060684204102 at epoch 100\n",
            "Loss is 0.15143060684204102 at epoch 200\n",
            "Loss is 0.15143060684204102 at epoch 300\n",
            "Loss is 0.15143060684204102 at epoch 400\n",
            "Loss is 0.15143060684204102 at epoch 500\n",
            "Loss is 0.15143060684204102 at epoch 600\n",
            "Loss is 0.15143060684204102 at epoch 700\n",
            "Loss is 0.15143060684204102 at epoch 800\n",
            "Loss is 0.15143060684204102 at epoch 900\n",
            "Loss is 0.15143060684204102 at epoch 1000\n",
            "Loss is 0.15143060684204102 at epoch 1100\n",
            "Loss is 0.15143060684204102 at epoch 1200\n",
            "Loss is 0.15143060684204102 at epoch 1300\n",
            "Loss is 0.15143060684204102 at epoch 1400\n",
            "Loss is 0.15143060684204102 at epoch 1500\n",
            "Loss is 0.15143060684204102 at epoch 1600\n",
            "Loss is 0.15143060684204102 at epoch 1700\n",
            "Loss is 0.15143060684204102 at epoch 1800\n",
            "Loss is 0.15143060684204102 at epoch 1900\n",
            "Loss is 0.15143060684204102 at epoch 2000\n",
            "Loss is 0.15143060684204102 at epoch 2100\n",
            "Loss is 0.15143060684204102 at epoch 2200\n",
            "Loss is 0.15143060684204102 at epoch 2300\n",
            "Loss is 0.15143060684204102 at epoch 2400\n",
            "Loss is 0.15143060684204102 at epoch 2500\n",
            "Loss is 0.15143060684204102 at epoch 2600\n",
            "Loss is 0.15143060684204102 at epoch 2700\n",
            "Loss is 0.15143060684204102 at epoch 2800\n",
            "Loss is 0.15143060684204102 at epoch 2900\n",
            "Loss is 0.15143060684204102 at epoch 3000\n",
            "Loss is 0.15143060684204102 at epoch 3100\n",
            "Loss is 0.15143060684204102 at epoch 3200\n",
            "Loss is 0.15143060684204102 at epoch 3300\n",
            "Loss is 0.15143060684204102 at epoch 3400\n",
            "Loss is 0.15143060684204102 at epoch 3500\n",
            "Loss is 0.15143060684204102 at epoch 3600\n",
            "Loss is 0.15143060684204102 at epoch 3700\n",
            "Loss is 0.15143060684204102 at epoch 3800\n",
            "Loss is 0.15143060684204102 at epoch 3900\n",
            "Loss is 0.15143060684204102 at epoch 4000\n",
            "Loss is 0.15143060684204102 at epoch 4100\n",
            "Loss is 0.15143060684204102 at epoch 4200\n",
            "Loss is 0.15143060684204102 at epoch 4300\n",
            "Loss is 0.15143060684204102 at epoch 4400\n",
            "Loss is 0.15143060684204102 at epoch 4500\n",
            "Loss is 0.15143060684204102 at epoch 4600\n",
            "Loss is 0.15143060684204102 at epoch 4700\n",
            "Loss is 0.15143060684204102 at epoch 4800\n",
            "Loss is 0.15143060684204102 at epoch 4900\n",
            "Loss is 0.15143060684204102 at epoch 5000\n",
            "Loss is 0.15143060684204102 at epoch 5100\n",
            "Loss is 0.15143060684204102 at epoch 5200\n",
            "Loss is 0.15143060684204102 at epoch 5300\n",
            "Loss is 0.15143060684204102 at epoch 5400\n",
            "Loss is 0.15143060684204102 at epoch 5500\n",
            "Loss is 0.15143060684204102 at epoch 5600\n",
            "Loss is 0.15143060684204102 at epoch 5700\n",
            "Loss is 0.15143060684204102 at epoch 5800\n",
            "Loss is 0.15143060684204102 at epoch 5900\n"
          ]
        }
      ]
    },
    {
      "cell_type": "code",
      "source": [
        "## Using Backpropagation to find the gradients and update\n",
        "## Remember to use gradient tape \n",
        "\n",
        "# Your code here \n",
        "\n",
        "# Define the loss function\n",
        "loss_fn = tf.keras.losses.MeanSquaredError()\n",
        "\n",
        "# Instantiate an optimizer\n",
        "# optimizer = tf.keras.optimizers.Adam(learning_rate=0.001)\n",
        "optimizer = tf.keras.optimizers.SGD(learning_rate=0.1)\n",
        "\n",
        "# Initialize a list to store the losses\n",
        "losses = []\n",
        "\n",
        "# Define number of epochs\n",
        "num_epochs = 4000\n",
        "\n",
        "# Run a loop for the number of epochs\n",
        "for i in range(num_epochs):\n",
        "\n",
        "    # Open a GradientTape\n",
        "    with tf.GradientTape() as tape:\n",
        "\n",
        "        # Forward pass.\n",
        "        output = model(x)\n",
        "\n",
        "        # Loss value for this batch.\n",
        "        loss =  loss_fn(y, output)\n",
        "\n",
        "    # Get gradients of weights wrt the loss.\n",
        "    gradients = tape.gradient(loss, model.trainable_variables)\n",
        "\n",
        "    # Update the weights of our linear layer.\n",
        "    # Use optimizer.apply_gradients() function\n",
        "    _ = optimizer.apply_gradients(zip(gradients, model.trainable_variables))\n",
        "\n",
        "    # Append the loss to the losses list\n",
        "    losses.append(loss)\n",
        "    \n",
        "    # For every 100th epoch print the loss\n",
        "    if i%100==0:\n",
        "        print(f'Loss is {loss} at epoch {i}')\n",
        "\n",
        "    if loss <= 0.001:\n",
        "        break\n"
      ],
      "metadata": {
        "colab": {
          "base_uri": "https://localhost:8080/"
        },
        "id": "yXUuaHAHabOv",
        "outputId": "eaced662-4f0f-4730-9cd6-df39e36dfc42"
      },
      "execution_count": 6,
      "outputs": [
        {
          "output_type": "stream",
          "name": "stdout",
          "text": [
            "Loss is 0.6466825008392334 at epoch 0\n"
          ]
        }
      ]
    },
    {
      "cell_type": "code",
      "source": [
        "losses"
      ],
      "metadata": {
        "id": "60oaRwXucb55"
      },
      "execution_count": null,
      "outputs": []
    },
    {
      "cell_type": "code",
      "execution_count": 18,
      "metadata": {
        "id": "lApTFmRAYYOw"
      },
      "outputs": [],
      "source": [
        "# Plot the neural network predictions, \n",
        "# and the loss landscape\n",
        "\n",
        "# Your code here\n"
      ]
    }
  ]
}
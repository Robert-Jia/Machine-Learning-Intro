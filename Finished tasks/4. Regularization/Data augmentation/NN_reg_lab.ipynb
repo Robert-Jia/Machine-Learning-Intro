{
    "metadata": {
        "kernelspec": {
            "name": "python3",
            "display_name": "Python 3 (ipykernel)",
            "language": "python"
        }
    },
    "nbformat": 4,
    "nbformat_minor": 0,
    "cells": [
        {
            "attachments": {},
            "cell_type": "markdown",
            "metadata": {},
            "source": [
                "\u003ca href=\"https://drive.google.com/file/d/1n7Pj2IQd9rrED4miEZHCYje22P_yCYIA/view?usp=sharing\" target=\"_blank\" \u003e\n",
                "  \u003cimg src=\"https://colab.research.google.com/assets/colab-badge.svg\" alt=\"Open In Colab\"/\u003e"
            ]
        },
        {
            "cell_type": "code",
            "execution_count": 0,
            "metadata": {},
            "outputs": [],
            "source": [
                "# Import the necessary libraries\n",
                "import numpy as np\n",
                "import pandas as pd\n",
                "from PIL import Image\n",
                "import tensorflow as tf\n",
                "from tensorflow import keras\n",
                "import matplotlib.pyplot as plt\n",
                "from keras.datasets import mnist\n",
                "from tensorflow.keras.models import Sequential\n",
                "from sklearn.preprocessing import StandardScaler\n",
                "from sklearn.model_selection import train_test_split\n",
                "from keras.preprocessing.image import ImageDataGenerator\n",
                "from tensorflow.keras.layers import Dense, Activation, Dropout\n",
                "from tensorflow.keras.utils import to_categorical, plot_model\n",
                "%matplotlib inline\n",
                ""
            ]
        },
        {
            "cell_type": "code",
            "execution_count": 0,
            "metadata": {},
            "outputs": [],
            "source": [
                "# Function to get the MNIST data\n",
                "def get_data():\n",
                "\n",
                "  # Load the MNIST data from keras datasets\n",
                "  (_,_), (X, y) = ___\n",
                "\n",
                "  X_train, X_test, y_train, y_test = train_test_split(X, y, train_size=0.1, random_state=10)\n",
                "  \n",
                "  # Get indices of train and test data where label is either 4 or 9\n",
                "  train_filter = ___\n",
                "  test_filter = ___\n",
                "\n",
                "  # Get only the data consiting of 4s and 9s\n",
                "  X_train, Y_train, X_test, Y_test = ___\n",
                "\n",
                "  # Reduce the number of train data points by 50%\n",
                "  ___\n",
                "\n",
                "  # Helper code to replace 9's with label 1 and 4's with label 0 for train data\n",
                "  get_nine = np.where((y_train == 9))\n",
                "  y_train = np.zeros(y_train.shape)\n",
                "  y_train[get_nine] = 1\n",
                "\n",
                "  # Helper code to replace 9's with label 1 and 4's with label 0 for test data\n",
                "  get_nine = np.where((y_test == 9))\n",
                "  y_test = np.zeros(y_test.shape)\n",
                "  y_test[get_nine] = 1\n",
                "\n",
                "  return X_train, X_test, y_train, y_test\n",
                "  "
            ]
        },
        {
            "cell_type": "code",
            "execution_count": 0,
            "metadata": {},
            "outputs": [],
            "source": [
                "# Call the function get_data to get the train and test data points\n",
                "X_train, X_test, y_train,y_test = ___\n",
                ""
            ]
        },
        {
            "cell_type": "code",
            "execution_count": 0,
            "metadata": {},
            "outputs": [],
            "source": [
                "# Split the train data into train and validation set \n",
                "# with 70% train data and random state as 40\n",
                "X_train, X_val, y_train, y_val = ___\n",
                ""
            ]
        },
        {
            "cell_type": "code",
            "execution_count": 0,
            "metadata": {},
            "outputs": [],
            "source": [
                "# Take a quick look at the shape of the train, validation and test data\n",
                "X_train.shape, y_train.shape, X_test.shape, y_test.shape, X_val.shape, y_val.shape\n",
                ""
            ]
        },
        {
            "cell_type": "code",
            "execution_count": 0,
            "metadata": {},
            "outputs": [],
            "source": [
                "# Plot any 9 images from the train data along with their labels\n",
                "# ** Your code here **\n",
                "___\n",
                ""
            ]
        },
        {
            "cell_type": "code",
            "execution_count": 0,
            "metadata": {},
            "outputs": [],
            "source": [
                "# Define a simple neural network with 3 dense layers each \n",
                "# with 200 nodes and 'relu' activation\n",
                "# ** Your code here **\n",
                "___\n",
                "\n",
                "# Compile the model with binary cross entropy and Adam \n",
                "# Use accuracy as the metric\n",
                "___\n",
                "\n",
                "# Fit the model on the train and validation data for 1000 epochs \n",
                "# with batch size of 64 \n",
                "history = ___\n",
                ""
            ]
        },
        {
            "cell_type": "code",
            "execution_count": 0,
            "metadata": {},
            "outputs": [],
            "source": [
                "# Get the trace plot of the model training\n",
                "# ** Your code here **\n",
                "___\n",
                "\n",
                ""
            ]
        },
        {
            "cell_type": "code",
            "execution_count": 0,
            "metadata": {},
            "outputs": [],
            "source": [
                "# Compute and print the accuracy of the unregularized model\n",
                "___\n",
                ""
            ]
        },
        {
            "attachments": {},
            "cell_type": "markdown",
            "metadata": {},
            "source": [
                "## REGULARIZED NETWORK\n",
                "\n",
                "Use the same model definition as given before in the unregularized definition.\n",
                "\n",
                "Perform any type of regularization techniques (you can mix multiple methods as well) to get a better accuracy as compared to the unregularized model."
            ]
        },
        {
            "cell_type": "code",
            "execution_count": 0,
            "metadata": {},
            "outputs": [],
            "source": [
                "# Call the function get_data to get the train and test data points\n",
                "X_train, X_test, y_train, y_test = ___\n",
                ""
            ]
        },
        {
            "cell_type": "code",
            "execution_count": 0,
            "metadata": {},
            "outputs": [],
            "source": [
                "# Define your regularized model\n",
                "# The model should be the same as the unregularized with \n",
                "# additional regularization techniques\n",
                "___\n",
                ""
            ]
        },
        {
            "cell_type": "code",
            "execution_count": 0,
            "metadata": {},
            "outputs": [],
            "source": [
                "# Get the trace plot of the model training\n",
                "# ** Your code here **\n",
                "___\n",
                ""
            ]
        },
        {
            "cell_type": "code",
            "execution_count": 0,
            "metadata": {},
            "outputs": [],
            "source": [
                "# Compute and print the accuracy of the regularized model\n",
                "___\n",
                ""
            ]
        },
        {
            "attachments": {},
            "cell_type": "markdown",
            "metadata": {},
            "source": [
                "## REGULARIZATION USING DATA AUGMENTATION"
            ]
        },
        {
            "cell_type": "code",
            "execution_count": 0,
            "metadata": {},
            "outputs": [],
            "source": [
                "# Get the train and test data by calling the get_data function\n",
                "X_train, X_test, y_train, y_test = ___\n",
                ""
            ]
        },
        {
            "cell_type": "code",
            "execution_count": 0,
            "metadata": {},
            "outputs": [],
            "source": [
                "# Reshape the train and test data\n",
                "X_train = X_train.reshape((X_train.shape[0], 28, 28, 1))\n",
                "X_test = X_test.reshape((X_test.shape[0], 28, 28, 1))\n",
                "\n",
                "# Convert from int to float\n",
                "X_train = X_train.astype('float32')\n",
                "X_test = X_test.astype('float32')\n",
                "\n",
                "# Perform data augmentation by calling the ImageDataGenerator function\n",
                "# with appropriate transformation values\n",
                "datagen = ImageDataGenerator(___)\n",
                ""
            ]
        },
        {
            "cell_type": "code",
            "execution_count": 0,
            "metadata": {},
            "outputs": [],
            "source": [
                "# Fit the generator on the train data using the train data \n",
                "# and 'training' subset\n",
                "train_generator = datagen.flow(___)\n",
                "\n",
                "# Fit the generator on the train data using the train data and \n",
                "# 'validation' subset\n",
                "validation_generator = datagen.flow(___)\n",
                ""
            ]
        },
        {
            "cell_type": "code",
            "execution_count": 0,
            "metadata": {},
            "outputs": [],
            "source": [
                "# Helper code to visualize some generated data\n",
                "im = train_generator.next()\n",
                "\n",
                "for i in range(9):\n",
                "\n",
                "  # define subplot\n",
                "  plt.subplot(330 + 1 + i)\n",
                "  \n",
                "  # plot raw pixel data\n",
                "  plt.imshow(im[0][i].squeeze(), cmap=plt.get_cmap('gray'))\n",
                "  if im[1][i]==0:\n",
                "    label = \"Class 4\"\n",
                "  else:\n",
                "    label=\"Class 9\"\n",
                "  plt.title(label)\n",
                "\n",
                "# show the figure\n",
                "plt.tight_layout()\n",
                "plt.show()\n",
                ""
            ]
        },
        {
            "cell_type": "code",
            "execution_count": 0,
            "metadata": {},
            "outputs": [],
            "source": [
                "# Define your neural network model with the same definition \n",
                "# as in the unregularized model and apply appropriate regularization methods\n",
                "___\n",
                "\n",
                "# Compile your model\n",
                "___\n",
                "\n",
                "# Fit the generated model on the train and validation data\n",
                "___\n",
                ""
            ]
        },
        {
            "cell_type": "code",
            "execution_count": 0,
            "metadata": {},
            "outputs": [],
            "source": [
                "# Visualize the trace-plot\n",
                "___\n",
                ""
            ]
        },
        {
            "cell_type": "code",
            "execution_count": 0,
            "metadata": {},
            "outputs": [],
            "source": [
                "# Evaluate the accuracy of the model on the test data\n",
                "___\n",
                ""
            ]
        }
    ]
}

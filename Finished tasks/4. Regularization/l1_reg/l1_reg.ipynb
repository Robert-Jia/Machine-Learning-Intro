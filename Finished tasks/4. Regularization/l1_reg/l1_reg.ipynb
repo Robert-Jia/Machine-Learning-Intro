{
    "metadata": {
        "kernelspec": {
            "name": "python3",
            "display_name": "Python 3 (ipykernel)",
            "language": "python"
        }
    },
    "nbformat": 4,
    "nbformat_minor": 4,
    "cells": [
        {
            "cell_type": "code",
            "execution_count": 1,
            "metadata": {},
            "outputs": [],
            "source": [
                "# Import necessary libraries\n",
                "import numpy as np\n",
                "import pandas as pd\n",
                "import matplotlib.pyplot as plt\n",
                "import warnings\n",
                "warnings.filterwarnings(\"ignore\")\n",
                "%matplotlib inline\n",
                "from sklearn.metrics import mean_squared_error\n",
                "import tensorflow as tf\n",
                "np.random.seed(0)\n",
                "tf.random.set_seed(0)\n",
                "from tensorflow.keras.layers import Input,Dense\n",
                "from tensorflow.keras.models import Sequential\n",
                "from tensorflow.keras import optimizers, regularizers\n",
                "from sklearn.model_selection import train_test_split\n",
                "from helper import plot_weights"
            ]
        },
        {
            "cell_type": "code",
            "execution_count": 2,
            "metadata": {},
            "outputs": [],
            "source": [
                "# Use the helper code below to generate the data\n",
                "\n",
                "# Define the number of data points to generate\n",
                "num_points = 30 \n",
                "\n",
                "# Generate predictor points (x) between 0 and 5\n",
                "x = np.linspace(0,5,num_points)\n",
                "\n",
                "# Generate the response variable (y) using the predictor points\n",
                "y = x * np.sin(x) + np.random.normal(loc=0, scale=1, size=num_points)\n",
                "\n",
                "# Split the data into train and test sets with .33 and random_state = 42\n",
                "x_train, x_test, y_train, y_test = train_test_split(x, y, test_size=0.33, random_state=42)\n",
                ""
            ]
        },
        {
            "cell_type": "code",
            "execution_count": 0,
            "metadata": {},
            "outputs": [],
            "source": [
                "### edTest(test_params) ###\n",
                "# Define a Neural network with L1 regularization\n",
                "model = Sequential()\n",
                "\n",
                "# Select the number of nodes in each hidden layer as 5\n",
                "n_hidden = ___\n",
                "\n",
                "# Add L1 regularization with value 0.1 regularization value\n",
                "myl1_reg = ___\n",
                "\n",
                "# Add 2 dense hidden layers with n_hidden neurons and use 'tanh' activation. \n",
                "# Make sure you use l1 regularization\n",
                "model.add(Dense(___))\n",
                "model.add(Dense(___))\n",
                "\n",
                "# Add the output layer with one neuron, l1 regularization and \n",
                "# 'linear' activation\n",
                "model.add(Dense(___))\n",
                "\n",
                "# Compile the model. Choose a large learning rate such as 0.01\n",
                "model.compile(___) \n",
                "\n",
                "# Check model summary\n",
                "model.summary()"
            ]
        },
        {
            "attachments": {},
            "cell_type": "markdown",
            "metadata": {},
            "source": [
                "### ⏸ Why does `model.summary()` show 46 trainable parameters?\n",
                "\n",
                "#### A. Model has 25 weights and 21 biases\n",
                "#### B. Model has 35 weights and 11 biases\n",
                "#### C. Model has 40 weights and 6 biases\n",
                "#### D. Model has 30 weights and 16 biases"
            ]
        },
        {
            "cell_type": "code",
            "execution_count": 0,
            "metadata": {},
            "outputs": [],
            "source": [
                "### edTest(test_chow1) ###\n",
                "\n",
                "# Submit an answer choice as a string below (eg. if you choose option C, put 'C')\n",
                "answer1 = '___'"
            ]
        },
        {
            "cell_type": "code",
            "execution_count": 0,
            "metadata": {},
            "outputs": [],
            "source": [
                "# Use the code below to plot the neural network as we train the model \n",
                "for i in range(6): \n",
                "    plot_weights(model,epochnum =i*50,n_hidden=n_hidden)         \n",
                "    model.fit(x_train, y_train,  validation_split=0.2, epochs=50, batch_size=10, verbose=0)\n",
                ""
            ]
        },
        {
            "attachments": {},
            "cell_type": "markdown",
            "metadata": {},
            "source": [
                "### ⏸ Go back and change the amount of $L_1$ regularization. How does it affect the vanishing of weights?"
            ]
        },
        {
            "cell_type": "code",
            "execution_count": 0,
            "metadata": {},
            "outputs": [],
            "source": [
                "### edTest(test_chow2) ###\n",
                "\n",
                "# Type your answer within in the quotes given\n",
                "answer2 = '___'"
            ]
        }
    ]
}

{
  "nbformat": 4,
  "nbformat_minor": 0,
  "metadata": {
    "colab": {
      "name": "Coding_cheatsheet.ipynb",
      "provenance": []
    },
    "kernelspec": {
      "name": "python3",
      "display_name": "Python 3"
    },
    "language_info": {
      "name": "python"
    }
  },
  "cells": [
    {
      "cell_type": "markdown",
      "source": [
        "# Import Libraries"
      ],
      "metadata": {
        "id": "86us_hq7QnHN"
      }
    },
    {
      "cell_type": "code",
      "execution_count": 1,
      "metadata": {
        "id": "s7M974DvEPjK"
      },
      "outputs": [],
      "source": [
        "# import necessary libraries: \n",
        "\n",
        "# Basic imports\n",
        "import numpy as np\n",
        "from sklearn.metrics import confusion_matrix\n",
        "import pandas as pd\n",
        "import seaborn as sns\n",
        "import matplotlib.pyplot as plt\n",
        "from matplotlib import cm\n",
        "%matplotlib inline\n",
        "from PIL import Image\n",
        "\n",
        "# Preprocessing imports\n",
        "from tensorflow.keras.utils import to_categorical, plot_model\n",
        "from sklearn.preprocessing import StandardScaler\n",
        "from sklearn.model_selection import train_test_split\n",
        "from keras.preprocessing.image import ImageDataGenerator\n",
        "\n",
        "\n",
        "# Model Building imports\n",
        "import tensorflow as tf\n",
        "from tensorflow.keras.models import Sequential, Model\n",
        "from tensorflow.keras.layers import Dense, Dropout, Flatten, Activation\n",
        "from tensorflow.keras.layers import Conv2D, MaxPooling2D\n",
        "from tensorflow.keras.optimizers import Adam, SGD\n",
        "from tensorflow.keras.callbacks import EarlyStopping\n",
        "from tensorflow.keras import optimizers, Input, regularizers\n",
        "\n",
        "\n",
        "# Visualization imports \n",
        "# from sklearn.metrics import ConfusionMatrixDisplay\n",
        "\n",
        "# Load Mnist\n",
        "# from keras.datasets import mnist\n",
        "\n",
        "# Load CIFAR-10 dataset\n",
        "# from tensorflow.keras.datasets import cifar10\n"
      ]
    },
    {
      "cell_type": "markdown",
      "source": [
        "# Part 1: Preprocessing"
      ],
      "metadata": {
        "id": "LDcNzRn_H0CG"
      }
    },
    {
      "cell_type": "code",
      "source": [
        "# Example of loading existing datasets\n",
        "(x_train, y_train), (x_test, y_test) = keras.datasets.mnist.load_data()"
      ],
      "metadata": {
        "id": "p01NzzPJQsuu"
      },
      "execution_count": null,
      "outputs": []
    },
    {
      "cell_type": "code",
      "source": [
        "# Modifying dimensions \n",
        "np.expand_dims()\n",
        "np.squeeze()\n",
        "# example code: \n"
      ],
      "metadata": {
        "id": "ecFIyiUXZKRh"
      },
      "execution_count": null,
      "outputs": []
    },
    {
      "cell_type": "code",
      "source": [
        "# Initialise an image generator object\n",
        "generator = ImageDataGenerator(rescale=1./255)\n",
        "\n",
        "# Initialising number of data images\n",
        "num_data = len(os.listdir('data/pavlos') + \n",
        "               os.listdir('data/not_pavlos'))\n",
        "\n",
        "# Read the image data from the directory using the generator object\n",
        "# This method automatically loads everything from the directory according to their file name and classification \n",
        "img_generator = generator.flow_from_directory(directory=\"data\", color_mode='rgb', seed=1,\n",
        "                                    batch_size=16, target_size=(150, 150), class_mode='binary')\n",
        "\n",
        "# Print the target size i.e. the total dataset size\n",
        "TARGET_SIZE = img_generator.target_size\n",
        "print(f'Generator produces images of size {TARGET_SIZE} (with 3 color channels)')\n",
        "\n",
        "# Print the batch size\n",
        "BATCH_SIZE = img_generator.batch_size\n",
        "print(f'Images are generated in batches of size {BATCH_SIZE}')"
      ],
      "metadata": {
        "id": "MS0s1-7AQWAH"
      },
      "execution_count": null,
      "outputs": []
    },
    {
      "cell_type": "markdown",
      "source": [
        "# Part II: Building and Compiling the Model"
      ],
      "metadata": {
        "id": "3MiNeC6wIWfr"
      }
    },
    {
      "cell_type": "markdown",
      "source": [
        "## Dense MLP"
      ],
      "metadata": {
        "id": "mPOFHbEmQ_r0"
      }
    },
    {
      "cell_type": "code",
      "source": [
        "# Dense layers only \n",
        "\n",
        "model_2 = models.Sequential(name='Dense')\n",
        "model_2.add(layers.Dense(100,  activation='tanh', input_shape=(1,)))\n",
        "model_2.add(layers.Dense(100,  activation='relu'))\n",
        "model_2.add(layers.Dense(100,  activation='relu'))\n",
        "model_2.add(layers.Dense(100,  activation='relu'))\n",
        "model_2.add(layers.Dense(100,  activation='relu'))\n",
        "# Add the output layer with one neuron \n",
        "model_2.add(layers.Dense(1,  activation='linear'))\n",
        "\n",
        "# View the model summary\n",
        "model_2.summary()"
      ],
      "metadata": {
        "id": "YJz054BSRPHX"
      },
      "execution_count": null,
      "outputs": []
    },
    {
      "cell_type": "markdown",
      "source": [
        "## CNN Layer"
      ],
      "metadata": {
        "id": "4SiMlI9vRDaX"
      }
    },
    {
      "cell_type": "code",
      "source": [
        "model = Sequential()\n",
        "# Your code here\n",
        "model.add(Conv2D(32,(3,3),padding='same',activation='relu',input_shape=(32,32,3)))\n",
        "model.add(Conv2D(32,(3,3),padding='valid',activation='relu'))\n",
        "model.add(MaxPooling2D((2,2),strides=2))\n",
        "model.add(Conv2D(64,(3,3),padding='same',activation='relu'))\n",
        "model.add(tf.keras.layers.BatchNormalization())\n",
        "model.add(Conv2D(64,(3,3),padding='valid',activation='relu'))\n",
        "model.add(tf.keras.layers.BatchNormalization())\n",
        "model.add(MaxPooling2D((2,2),strides=2))\n",
        "model.add(Flatten())\n",
        "model.add(Dense(512,activation='relu'))\n",
        "# Dropout\n",
        "model.add(Dropout(0.2))\n",
        "\n",
        "model.add(Dense(10,activation='softmax'))\n",
        "\n",
        "# \n",
        "opt = Adam(learning_rate=0.001)\n",
        "model.compile(optimizer=opt,loss='categorical_crossentropy',metrics=['accuracy'])\n",
        "\n",
        "# View a summary of your model to see if the architecture is correct\n",
        "model.summary()"
      ],
      "metadata": {
        "id": "ajawBYtYQ6tF"
      },
      "execution_count": null,
      "outputs": []
    },
    {
      "cell_type": "markdown",
      "source": [
        "## Regularization methdos: "
      ],
      "metadata": {
        "id": "ha7nNNSrR_ic"
      }
    },
    {
      "cell_type": "code",
      "source": [
        "# L1,L2 regularization\n",
        "l1 = regularizers.L1(l1=0.1)\n",
        "model.add(Dense(n_hidden,activation='tanh',kernel_regularizer=l1))\n",
        "\n",
        "# Dropout\n",
        "model.add(Dropout(0.2))\n",
        "# Batch normalization\n",
        "model.add(tf.keras.layers.BatchNormalization())"
      ],
      "metadata": {
        "id": "T990jpS-SHMo"
      },
      "execution_count": null,
      "outputs": []
    },
    {
      "cell_type": "code",
      "source": [
        "# Early stopping\n",
        "callbacks = EarlyStopping(monitor='val_accuracy',patience=20,restore_best_weights=True)\n",
        "history = model.fit(X_train,y_train,batch_size=batch_size,epochs=epochs,validation_split=0.2,callbacks=callbacks)"
      ],
      "metadata": {
        "id": "EMw3_SYoSFBD"
      },
      "execution_count": null,
      "outputs": []
    },
    {
      "cell_type": "code",
      "source": [
        "# Data Augmentation\n",
        "datagen = ImageDataGenerator(rescale=1./255,\n",
        "                             width_shift_range=.1,\n",
        "                             height_shift_range=.1,\n",
        "                             rotation_range=20,\n",
        "                             zoom_range=0.3,\n",
        "                             validation_split=0.2)\n",
        "train_generator = datagen.flow(X_train,y_train,batch_size=32,subset='training')\n",
        "validation_generator = datagen.flow(X_train,y_train,batch_size=32,subset='validation')\n"
      ],
      "metadata": {
        "id": "-d0oKpRwSPlr"
      },
      "execution_count": null,
      "outputs": []
    },
    {
      "cell_type": "markdown",
      "source": [
        "## Functional API"
      ],
      "metadata": {
        "id": "HvQwjArkR7n6"
      }
    },
    {
      "cell_type": "code",
      "source": [
        "# Two imput layers\n",
        "input1 = keras.Input(shape=(3,),name='layer1')\n",
        "input2 = keras.Input(shape=(3,),name='layer2')\n",
        "# Concatenate the input layers \n",
        "input_layer = tf.keras.layers.Concatenate(axis=1)([input1, input2])\n",
        "# pass them through dense layers and then an output layer using keras.layers.concatenate()\n",
        "dense1 = layers.Dense(16,activation='elu')(input_layer)\n",
        "dense2 = layers.Dense(8,activation='elu')(dense1)\n",
        "output = layers.Dense(1)(dense2)\n",
        "# Building the model\n",
        "model = keras.Model(\n",
        "    inputs=[input1,input2],\n",
        "    outputs=output\n",
        ")\n",
        "\n",
        "\n",
        "# Single input layer with dropout\n",
        "input_layer = Input(shape=(28,28))\n",
        "flatten_layer = tf.keras.layers.Flatten()(input_layer)\n",
        "regdense1 = Dense(200,activation='relu')(flatten_layer)\n",
        "dropout1 = tf.keras.layers.Dropout(0.4)(regdense1)\n",
        "regdense2 = Dense(200,activation='relu')(dropout1)\n",
        "dropout2 = tf.keras.layers.Dropout(0.4)(regdense2)\n",
        "dense3 = Dense(200,activation='relu')(dropout2)\n",
        "output_layer = Dense(1,activation='sigmoid')(dense3)"
      ],
      "metadata": {
        "id": "qtyney_VSTRa"
      },
      "execution_count": null,
      "outputs": []
    },
    {
      "cell_type": "markdown",
      "source": [
        "## Part II: Fitting the model"
      ],
      "metadata": {
        "id": "w6TFkas4Xoft"
      }
    },
    {
      "cell_type": "markdown",
      "source": [
        "MLP fit"
      ],
      "metadata": {
        "id": "wfxBsMVOXw3Y"
      }
    },
    {
      "cell_type": "code",
      "source": [
        "# Normal fitting method\n",
        "history = model.fit(x=X_train,y=y_train,batch_size=10,epochs=1500,validation_split=0.2,callbacks=callback)\n",
        "\n",
        "# Fitting the data from generator.flow_from_directory()\n",
        "FFNN_history = FFNN.fit(\n",
        "        img_generator,\n",
        "        steps_per_epoch=num_data// BATCH_SIZE,\n",
        "        epochs=20, shuffle=False, workers=0,\n",
        "        validation_data=img_generator,\n",
        "        validation_steps=num_data*0.25// BATCH_SIZE)"
      ],
      "metadata": {
        "id": "UNyT-Z4JX2JU"
      },
      "execution_count": null,
      "outputs": []
    },
    {
      "cell_type": "markdown",
      "source": [
        "CNN fit"
      ],
      "metadata": {
        "id": "5UQPRE8LXwMr"
      }
    },
    {
      "cell_type": "code",
      "source": [
        "# Without data augmentation\n",
        "history_2 = model_2.fit(x=x_train,y=y_train,batch_size=10,epochs=1500,validation_split=0.2,callbacks=callback)\n",
        "# Data augmentation\n",
        "history = model.fit(train_generator, epochs=1000, \n",
        "                            batch_size=64, callbacks=callbacks, validation_data=validation_generator)"
      ],
      "metadata": {
        "id": "DEisCQ5afzXA"
      },
      "execution_count": null,
      "outputs": []
    },
    {
      "cell_type": "markdown",
      "source": [
        "# Part III: Evaluating the model"
      ],
      "metadata": {
        "id": "SPbwij8KIfMi"
      }
    },
    {
      "cell_type": "code",
      "execution_count": null,
      "metadata": {
        "id": "-4MGUb7-GA4C",
        "colab": {
          "base_uri": "https://localhost:8080/",
          "height": 515
        },
        "outputId": "3ed8b9dc-3b97-4fe1-ec42-b5695618c2e0"
      },
      "outputs": [
        {
          "output_type": "execute_result",
          "data": {
            "text/plain": [
              "<matplotlib.legend.Legend at 0x7fe429a8f8d0>"
            ]
          },
          "metadata": {},
          "execution_count": 12
        },
        {
          "output_type": "display_data",
          "data": {
            "text/plain": [
              "<Figure size 720x576 with 2 Axes>"
            ],
            "image/png": "[encoded data removed]"
          },
          "metadata": {
            "needs_background": "light"
          }
        }
      ],
      "source": [
        "# Plotting the following:\n",
        "# - Training loss\n",
        "# - Validation loss\n",
        "# - Training accuracy \n",
        "# - Validation accuracy\n",
        "\n",
        "fig,ax = plt.subplots(1,2,figsize=(10,8))\n",
        "ax[0].plot(history.history['loss'],label='loss')\n",
        "ax[0].plot(history.history['val_loss'],label='val_loss')\n",
        "ax[0].set_xlabel('epochs')\n",
        "ax[0].set_ylabel('loss')\n",
        "ax[0].legend()\n",
        "ax[1].plot(history.history['accuracy'],label='accuracy')\n",
        "ax[1].plot(history.history['val_accuracy'],label='val_accuracy')\n",
        "ax[1].set_xlabel('epochs')\n",
        "ax[1].set_ylabel('accuracy')\n",
        "ax[1].legend()\n",
        "\n"
      ]
    },
    {
      "cell_type": "code",
      "source": [
        ""
      ],
      "metadata": {
        "id": "AYUlDjowZQ-_"
      },
      "execution_count": null,
      "outputs": []
    }
  ]
}
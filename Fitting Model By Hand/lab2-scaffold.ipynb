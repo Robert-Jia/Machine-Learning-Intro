{
    "metadata": {
        "kernelspec": {
            "name": "python3",
            "display_name": "Python 3 (ipykernel)",
            "language": "python"
        }
    },
    "nbformat": 4,
    "nbformat_minor": 4,
    "cells": [
        {
            "cell_type": "code",
            "execution_count": 12,
            "metadata": {},
            "outputs": [],
            "source": [
                "#import tensorflow \n",
                "import tensorflow as tf\n",
                "# You can avoid the long names by using\n",
                "from tensorflow import keras\n",
                "from tensorflow.keras import layers\n",
                "from tensorflow.keras import models\n",
                "import numpy as np\n",
                "import matplotlib.pyplot as plt\n",
                "import pandas as pd\n",
                "%matplotlib inline"
            ]
        },
        {
            "cell_type": "code",
            "execution_count": 13,
            "metadata": {},
            "outputs": [],
            "source": [
                "# Run this cell for more readable visuals \n",
                "large = 22; med = 16; small = 10\n",
                "params = {'font.family': 'DejaVu Sans',\n",
                "          'axes.titlesize': large,\n",
                "          'legend.fontsize': med,\n",
                "          'figure.figsize': (16, 10),\n",
                "          'axes.labelsize': med,\n",
                "          'axes.titlesize': med,\n",
                "          'axes.linewidth': 2,\n",
                "          'xtick.labelsize': med,\n",
                "          'ytick.labelsize': med,\n",
                "          'figure.titlesize': large}\n",
                "plt.style.use('seaborn-white')\n",
                "plt.rcParams.update(params)\n",
                "# sns.set_style(\"white\")"
            ]
        },
        {
            "cell_type": "code",
            "execution_count": 14,
            "metadata": {},
            "outputs": [],
            "source": [
                "# Read the `cosine.csv` file\n",
                "df = pd.read_csv('cosine.csv')"
            ]
        },
        {
            "cell_type": "code",
            "execution_count": 15,
            "metadata": {},
            "outputs": [
                {
                    "data": {
                        "text/plain": "Text(0.5, 0.98, 'Analytical solution')"
                    },
                    "execution_count": 15,
                    "metadata": {},
                    "output_type": "execute_result"
                },
                {
                    "data": {
                        "image/png": "[encoded data removed]",
                        "text/plain": "\u003cFigure size 576x360 with 1 Axes\u003e"
                    },
                    "metadata": {},
                    "output_type": "display_data"
                }
            ],
            "source": [
                "x,y = df.x.values.reshape(-1,1),df.y.values.reshape(-1,1)\n",
                "\n",
                "fig,ax = plt.subplots(1,1,figsize=(8,5))\n",
                "ax.plot(x,y,label='$y = cos(x)$',color ='#FF9A98',lw=4,alpha=0.7)\n",
                "ax.plot([0,6.28],[0,0],'--',color ='k',lw=4,alpha=0.7)\n",
                "ax.set_xlabel('$y$',fontsize=16)\n",
                "ax.set_ylabel('$x$',fontsize=16)\n",
                "ax.legend(loc='upper center')\n",
                "ax.set_xticks(np.arange(0, 2*np.pi+0.01, np.pi/2))\n",
                "labels = ['$0$', r'$\\pi/2$', r'$\\pi$'\n",
                "          , r'$3\\pi/2$', r'$2\\pi$']\n",
                "ax.set_xticklabels(labels)\n",
                "\n",
                "fig.suptitle('Analytical solution',fontsize=20);"
            ]
        },
        {
            "cell_type": "code",
            "execution_count": 16,
            "metadata": {},
            "outputs": [
                {
                    "data": {
                        "text/plain": "(1000, 1)"
                    },
                    "execution_count": 16,
                    "metadata": {},
                    "output_type": "execute_result"
                }
            ],
            "source": [
                "x.shape"
            ]
        },
        {
            "attachments": {},
            "cell_type": "markdown",
            "metadata": {},
            "source": [
                "## Backpropagation using tensorflow"
            ]
        },
        {
            "cell_type": "code",
            "execution_count": 17,
            "metadata": {},
            "outputs": [],
            "source": [
                "# Define your neural network as per the instructions\n",
                "\n",
                "mlp = tf.keras.Sequential()\n",
                "mlp.add(tf.keras.Input(shape=(1,)))\n",
                "mlp.add(tf.keras.layers.Dense(32,),activation = \"elu\")\n",
                "mlp.add(tf.keras.layers.Dense(1,))\n",
                "mlp.summary()"
            ]
        },
        {
            "cell_type": "code",
            "execution_count": 0,
            "metadata": {},
            "outputs": [],
            "source": [
                "# Define the loss function\n",
                "loss_fn = tf.keras.losses.MeanSquaredError()\n",
                "\n",
                "# Instantiate an optimizer\n",
                "optimizer = tf.keras.optimizers.Adam()\n",
                "\n",
                "# Initialize a list to store the losses\n",
                "losses = []\n",
                "\n",
                "# Define number of epochs\n",
                "num_epochs = 4000\n",
                "\n",
                "# Run a loop for the number of epochs\n",
                "for i in range(num_epochs):\n",
                "\n",
                "    # Open a GradientTape\n",
                "    with tf.GradientTape() as tape:\n",
                "\n",
                "        # Forward pass.\n",
                "        output = mlp(x)\n",
                "\n",
                "        # Loss value for this batch.\n",
                "        loss = \n",
                "\n",
                "    # Get gradients of weights wrt the loss.\n",
                "    gradients = ___\n",
                "\n",
                "    # Update the weights of our linear layer.\n",
                "    # Use optimizer.apply_gradients() function\n",
                "    optimizer.___\n",
                "        \n",
                "    # Append the loss to the losses list\n",
                "    losses.append(loss)\n",
                "    \n",
                "    # For every 100th epoch print the loss\n",
                "    if i%100==0:\n",
                "        print(f'Loss is {loss} at epoch {i}')\n",
                ""
            ]
        },
        {
            "cell_type": "code",
            "execution_count": 0,
            "metadata": {},
            "outputs": [],
            "source": [
                "# Use the helper code below to visualize your results\n",
                "\n",
                "y_pred = mlp.predict(x)\n",
                "fig,axes = plt.subplots(1,2,figsize=(12,5))\n",
                "axes[0].plot(x,y,label='$y=cos(x)$',color ='#FF9A98',lw=6,alpha=0.7)\n",
                "axes[0].plot(x,y_pred,'-',label='NN approximation',color ='#2252f0',lw=3,alpha=0.5,markersize=10)\n",
                "axes[0].plot([0,6.28],[0,0],'--',color ='k',lw=2,alpha=0.7)\n",
                "axes[0].set_xlabel('$x$',fontsize=16)\n",
                "axes[0].set_ylabel('$y$',fontsize=16)\n",
                "axes[0].legend(loc='upper center')\n",
                "axes[0].set_xticks(np.arange(0, 2*np.pi+0.01, np.pi/2))\n",
                "labels = ['$0$', r'$\\pi/2$', r'$\\pi$'\n",
                "          , r'$3\\pi/2$', r'$2\\pi$']\n",
                "axes[0].set_xticklabels(labels)\n",
                "\n",
                "axes[1].plot(losses,lw=2,color='k')\n",
                "axes[1].set_title('Trace plot of Loss',fontsize=24);\n",
                "axes[1].set_xlabel('$epochs$',fontsize=18)\n",
                "axes[1].set_ylabel('Training Loss',fontsize=18)\n",
                "\n",
                "\n",
                "axes[0].set_title('NN approximation',fontsize=24);\n",
                "plt.tight_layout()"
            ]
        }
    ]
}

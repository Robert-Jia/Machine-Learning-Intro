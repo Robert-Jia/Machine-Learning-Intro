{
    "metadata": {
        "kernelspec": {
            "name": "python3",
            "display_name": "Python 3",
            "language": "python"
        }
    },
    "nbformat": 4,
    "nbformat_minor": 4,
    "cells": [
        {
            "attachments": {},
            "cell_type": "markdown",
            "metadata": {},
            "source": [
                "## MLP for regression\n",
                "\n",
                "- The dataset used here is given by Google and can be found under the files folder within sample_data.\n",
                "\n",
                "- The data is divided into 2 files called *california_housing_train.csv* and *california_housing_test.csv* - one for training and the other for testing. Use this to form your train and test predictor and response variables.\n",
                "\n",
                "- You need to model a feed-forward neural network which will predict the *median_house_value* given the predictors.\n",
                "\n",
                "- You will have to perform preprocesssing steps such as remove missing data, standardization, removing correlated predictors.\n",
                "\n",
                "- Once you have completed this come up with a model architecture with your choice of number of hidden layers, number of neurons in each layer and activation function. Remember that this is a regression problem and your choices have to be in line with it.\n",
                "\n",
                "- Compile and fit the model on the train data with validation split. Make plots of the train and validation loss for visual inspection.\n",
                "\n",
                "- Predict the results on the test data and compute the MSE. \n",
                "\n",
                "**NOTE** - Your aim is to predict the *median_house_value* with MSE as low as possible.\n",
                "\n",
                "\n",
                ""
            ]
        },
        {
            "cell_type": "code",
            "execution_count": 0,
            "metadata": {},
            "outputs": [],
            "source": [
                "# Import the necessary modules\n",
                "___\n",
                ""
            ]
        },
        {
            "cell_type": "code",
            "execution_count": 0,
            "metadata": {},
            "outputs": [],
            "source": [
                "# Read the data from the folder sample_data\n",
                "# Read the train and test dataset into separate dataframes\n",
                "___\n",
                "___\n",
                ""
            ]
        },
        {
            "cell_type": "code",
            "execution_count": 0,
            "metadata": {},
            "outputs": [],
            "source": [
                "# Plot the features pair-wise\n",
                "___\n",
                ""
            ]
        },
        {
            "attachments": {},
            "cell_type": "markdown",
            "metadata": {},
            "source": [
                "#### Which features are collinear?"
            ]
        },
        {
            "attachments": {},
            "cell_type": "markdown",
            "metadata": {},
            "source": [
                "##### Your answer here\n",
                ""
            ]
        },
        {
            "cell_type": "code",
            "execution_count": 0,
            "metadata": {},
            "outputs": [],
            "source": [
                "# Get your train predictor and response\n",
                "# Drop all collinear features\n",
                "___\n",
                "\n",
                "# Set all columns except median_house_value as the predictors\n",
                "___\n",
                "\n",
                "# Set the median_house_value as the reponse\n",
                "# Feel free to convert it to log scale\n",
                "___\n",
                ""
            ]
        },
        {
            "cell_type": "code",
            "execution_count": 0,
            "metadata": {},
            "outputs": [],
            "source": [
                "# Get your test predictor and response\n",
                "# Perform similar operations as above \n",
                "___\n",
                "___\n",
                "___\n",
                ""
            ]
        },
        {
            "cell_type": "code",
            "execution_count": 0,
            "metadata": {},
            "outputs": [],
            "source": [
                "# Standardize the train and test predictor values\n",
                "___\n",
                ""
            ]
        },
        {
            "cell_type": "code",
            "execution_count": 0,
            "metadata": {},
            "outputs": [],
            "source": [
                "# Define a simple NN model that takes the predictors as input and outputs the median house value\n",
                "# The architecture of the model is left to you as an exercise\n",
                "\n",
                "# Your code here\n",
                ""
            ]
        },
        {
            "cell_type": "code",
            "execution_count": 0,
            "metadata": {},
            "outputs": [],
            "source": [
                "# Compile the defined NN model, use accuracy of the metric\n",
                "___\n",
                "\n",
                "# Fit the model on the train data with a validation split of 0.2\n",
                "___\n",
                ""
            ]
        },
        {
            "cell_type": "code",
            "execution_count": 0,
            "metadata": {},
            "outputs": [],
            "source": [
                "# Plot the train and validation loss and MSE in 2 graphs\n",
                "\n",
                "# Your code here\n",
                ""
            ]
        },
        {
            "cell_type": "code",
            "execution_count": 0,
            "metadata": {},
            "outputs": [],
            "source": [
                "# Predict the model on the test data\n",
                "___\n",
                "\n",
                "# Compute the MSE of the model on the test data\n",
                "___\n",
                ""
            ]
        }
    ]
}
